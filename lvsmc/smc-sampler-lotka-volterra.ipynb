{
 "cells": [
  {
   "attachments": {},
   "cell_type": "markdown",
   "metadata": {},
   "source": []
  },
  {
   "cell_type": "code",
   "execution_count": null,
   "metadata": {},
   "outputs": [],
   "source": [
    "using SequentialMonteCarlo\n",
    "using Distributions\n",
    "using DifferentialEquations\n",
    "using DelimitedFiles\n",
    "using Statistics\n",
    "using Plots\n",
    "using LinearAlgebra\n",
    "using StatsBase\n",
    "using StatsPlots"
   ]
  },
  {
   "attachments": {},
   "cell_type": "markdown",
   "metadata": {},
   "source": []
  },
  {
   "cell_type": "code",
   "execution_count": null,
   "metadata": {},
   "outputs": [],
   "source": [
    "y_full = readdlm(\"lvsmc/prey_pred2.csv\", ',', Float64)\n",
    "n_y = size(y_full,2) - 1 # exclude initial value\n",
    "ts = 1.0:1.0:n_y # times steps for data"
   ]
  },
  {
   "attachments": {},
   "cell_type": "markdown",
   "metadata": {},
   "source": []
  },
  {
   "cell_type": "code",
   "execution_count": null,
   "metadata": {},
   "outputs": [],
   "source": [
    "# particle\n",
    "mutable struct LVParamParticle\n",
    "    logα::Float64 \n",
    "    logβ::Float64 \n",
    "    logγ::Float64\n",
    "    logσ::Float64\n",
    "    LVParamParticle() = new() # initialise empty\n",
    "end\n",
    "\n",
    "Base.vec(p::LVParamParticle) = [p.logα, p.logβ, p.logγ, p.logσ]\n",
    "vecexp(p::LVParamParticle) = exp.(vec(p))"
   ]
  },
  {
   "attachments": {},
   "cell_type": "markdown",
   "metadata": {},
   "source": []
  },
  {
   "cell_type": "code",
   "execution_count": null,
   "metadata": {},
   "outputs": [],
   "source": [
    "# Prior on θ = log([α, β, γ, σ])\n",
    "priors = product_distribution([Uniform(-2, 1),Uniform(-8,-1),Uniform(-2, 1),Uniform(-2, 3)])\n",
    "\n",
    "function log_prior(logθ::Vector{Float64})\n",
    "    # Prior distributions.\n",
    "    return sum(logpdf.(priors, logθ))\n",
    "end"
   ]
  },
  {
   "attachments": {},
   "cell_type": "markdown",
   "metadata": {},
   "source": []
  },
  {
   "cell_type": "code",
   "execution_count": null,
   "metadata": {},
   "outputs": [],
   "source": [
    "# Define Lotka-Volterra model.\n",
    "function lotka_volterra(du, u, p, t)\n",
    "    # Model parameters.\n",
    "    α, β, γ = p\n",
    "    # Current state.\n",
    "    x, y = u\n",
    "\n",
    "    # Evaluate differential equations.\n",
    "    du[1] = (α - β * y) * x # prey\n",
    "    du[2] = (β * x - γ) * y # predator\n",
    "\n",
    "    return nothing\n",
    "end\n",
    "\n",
    "\n",
    "# Define initial-value problem.\n",
    "u0 = y_full[:,1]\n",
    "p_true = [0.5, 0.0025, 0.3, 1.]\n",
    "tspan = (0.0, 50.0)\n",
    "prob = ODEProblem(lotka_volterra, u0, tspan, p_true[1:3])\n"
   ]
  },
  {
   "cell_type": "code",
   "execution_count": null,
   "metadata": {},
   "outputs": [],
   "source": [
    "y = y_full[:,2:end]\n",
    "temps = 0.5 .^ (12:-1:0)\n",
    "n = length(temps) - 1\n",
    "\n",
    "function log_like(logθ::Vector{Float64})\n",
    "    α, β, γ, σ =  exp.(logθ)\n",
    "    # Simulate Lotka-Volterra model. \n",
    "    p = [α, β, γ]\n",
    "    predicted = solve(prob, Tsit5(); p=p, saveat = ts, verbose=false, alg_hints = :stiff)\n",
    "\n",
    "    if !SciMLBase.successful_retcode(predicted.retcode)\n",
    "        #println(p)\n",
    "        return -Inf\n",
    "    end\n",
    "\n",
    "    # Add up the log likelihood\n",
    "    log_likelihood = 0.0\n",
    "    for i in eachindex(predicted)\n",
    "        like_dist = MvNormal(predicted[:,i], σ^2 * I)\n",
    "        log_likelihood += logpdf(like_dist, y[:,i])\n",
    "    end\n",
    "    return log_likelihood\n",
    "end"
   ]
  },
  {
   "attachments": {},
   "cell_type": "markdown",
   "metadata": {},
   "source": []
  },
  {
   "cell_type": "code",
   "execution_count": null,
   "metadata": {},
   "outputs": [],
   "source": [
    "\n",
    "function proposal(currθ::Vector{Float64})\n",
    "    return MvNormal(currθ, 0.25^2 * I)\n",
    "end\n",
    "\n",
    "# Metropolis-Hastings Kernel with Random Walk proposal\n",
    "# Posterior = prior(θ) * likelihood(θ)ᵝ\n",
    "function mh(rng, currθ::Vector{Float64}, propθ::Vector{Float64}, β::Float64)\n",
    "    lp_curr = logpdf(priors, currθ) + β * log_like(currθ)\n",
    "    lp_prop = logpdf(priors, propθ) + β * log_like(propθ)\n",
    "    if lp_prop - lp_curr > log(rand(rng))\n",
    "        return propθ\n",
    "    else\n",
    "        return currθ\n",
    "    end\n",
    "end"
   ]
  },
  {
   "attachments": {},
   "cell_type": "markdown",
   "metadata": {},
   "source": []
  },
  {
   "cell_type": "code",
   "execution_count": null,
   "metadata": {},
   "outputs": [],
   "source": [
    "# mutation kernel\n",
    "function M!(new::LVParamParticle, rng, t::Int64, old::LVParamParticle, ::Nothing)\n",
    "    if t == 1\n",
    "        logθ = rand(rng, priors)\n",
    "    else\n",
    "        # proposal\n",
    "        propθ = rand(rng, proposal(vec(old)))\n",
    "        logθ = mh(rng, vec(old), propθ, temps[t])\n",
    "    end\n",
    "\n",
    "    new.logα, new.logβ, new.logγ, new.logσ = logθ\n",
    "\n",
    "end"
   ]
  },
  {
   "attachments": {},
   "cell_type": "markdown",
   "metadata": {},
   "source": []
  },
  {
   "cell_type": "code",
   "execution_count": null,
   "metadata": {},
   "outputs": [],
   "source": [
    "\n",
    "# potential function\n",
    "function lG(t::Int64, particle::LVParamParticle, ::Nothing)\n",
    "    β_incr = temps[t+1] - temps[t]\n",
    "    return β_incr * log_like(vec(particle))\n",
    "end"
   ]
  },
  {
   "attachments": {},
   "cell_type": "markdown",
   "metadata": {},
   "source": []
  },
  {
   "cell_type": "code",
   "execution_count": null,
   "metadata": {},
   "outputs": [],
   "source": [
    "\n",
    "N = 2^10        # number of particles\n",
    "threads = 1     # number of threads\n",
    "κ = 0.5         # relative ESS threshold\n",
    "saveall = true  # save full trajectory \n",
    "model = SMCModel(M!, lG, n, LVParamParticle, Nothing)\n",
    "smcio = SMCIO{model.particle, model.pScratch}(N, n, threads, saveall, κ)\n",
    "smc!(model, smcio)\n"
   ]
  }
 ],
 "metadata": {
  "kernelspec": {
   "display_name": "Julia 1.9.0",
   "language": "julia",
   "name": "julia-1.9"
  },
  "language_info": {
   "file_extension": ".jl",
   "mimetype": "application/julia",
   "name": "julia",
   "version": "1.9.0"
  },
  "orig_nbformat": 4
 },
 "nbformat": 4,
 "nbformat_minor": 2
}
