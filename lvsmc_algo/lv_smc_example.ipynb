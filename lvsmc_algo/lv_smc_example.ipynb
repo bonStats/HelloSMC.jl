{
 "cells": [
  {
   "attachments": {},
   "cell_type": "markdown",
   "metadata": {},
   "source": [
    "# Predator-Prey (Lotka Volterra)\n",
    "\n",
    "## The Statistical Model\n",
    "\n",
    "This example follows a simple analysis of the Lotka Volterra model for predator and prey populations where the measurement error for the data is assumed to be Gaussian.\n",
    "\n",
    "$X_{1,t}$ the population of the prey, $X_{2,t}$ the population of the predator at time $t$. These evolve according to:\n",
    "\n",
    "$$\n",
    "\\frac{dx_1}{dt} = (\\alpha -\\beta x_2 )x_1 \\qquad\n",
    "\\frac{dx_2}{dt} = (\\beta x_1 - \\gamma )x_2     \n",
    "$$\n",
    "\n",
    "Observe a noisy measurement at times $t=0, 2, ..., 50$. \n",
    "$$\n",
    "Y_{1,t} \\sim \\mathcal{N}(X_{1,t}, \\sigma^2), \\qquad Y_{2,t} \\sim \\mathcal{N}(X_{2,t}, \\sigma^2)\n",
    "$$\n",
    "\n",
    "We implement this model and simulate data with parameters $\\alpha=0.3$, $\\beta = 0.04$, $\\gamma=0.5$ and $\\sigma = 1$. \n"
   ]
  },
  {
   "attachments": {},
   "cell_type": "markdown",
   "metadata": {},
   "source": [
    "### Simulate some data\n",
    "\n",
    "First we need to define the ODE in Julia. "
   ]
  },
  {
   "cell_type": "code",
   "execution_count": null,
   "metadata": {},
   "outputs": [],
   "source": [
    "using DifferentialEquations\n",
    "\n",
    "# Define the deterministic model\n",
    "function lotka_volterra(dx, x, p, t)\n",
    "    # Model parameters.\n",
    "    α, β, γ = p\n",
    "    # Current state.\n",
    "    x1, x2 = x\n",
    "    # Evaluate differential equations.\n",
    "    dx[1] = (α - β * x2) * x1 # prey\n",
    "    dx[2] = (β * x1 - γ) * x2 # predator\n",
    "\n",
    "    return nothing\n",
    "end\n"
   ]
  },
  {
   "attachments": {},
   "cell_type": "markdown",
   "metadata": {},
   "source": [
    "Then simulate some data and plot the results. It is important to have the Random library imported to make sure that the data is simulated with the same seed. Alternatively you could load in the data using the lines commented out in the code snippet below. Assume that the initial populations are $x_{1,0} = 7$ and $x_{2,0} = 5$ and that $\\theta = (.3, .04, .5, 1)$"
   ]
  },
  {
   "cell_type": "code",
   "execution_count": null,
   "metadata": {},
   "outputs": [],
   "source": [
    "# Set a seed for reproducibility and import plotting packages\n",
    "using Random\n",
    "using StatsPlots\n",
    "\n",
    "Random.seed!(1)\n",
    "x0 = [7, 5]\n",
    "tspan = (0.0, 50.0)\n",
    "θ_dg = [0.3, 0.04, 0.5, 1.] # The data generating θ\n",
    "prob = ODEProblem(lotka_volterra, x0, tspan)\n",
    "\n",
    "save_at = 2.0\n",
    "sol = solve(prob, p = θ_dg[1:3], saveat=save_at,  verbose = false)\n",
    "\n",
    "# Noisy observations\n",
    "y = Array(sol) + 1.0 * randn(size(Array(sol))) \n",
    "\n",
    "plot(sol; alpha=0.3, labels = [\"Prey\" \"Preditor\"], ylim =[0.0, 24], ylabel=\"population\")\n",
    "scatter!(sol.t, y'; color=[1 2], label=\"\")\n",
    "\n",
    "# using DelimitedFiles\n",
    "# y = readdlm(\"lvsmc/prey_pred2.csv\", ',', Float64)"
   ]
  },
  {
   "attachments": {},
   "cell_type": "markdown",
   "metadata": {},
   "source": [
    "## Define the likelihood and priors\n",
    "\n",
    "For numerical stability we use the log likelihood of the data. We can evaluate the likelihood of the data for a set of parameters $\\theta = (\\alpha, \\beta, \\gamma, \\sigma)$ by solving the ODE and calculating the probability of observing the noisy (Gaussian) measurements. "
   ]
  },
  {
   "cell_type": "code",
   "execution_count": null,
   "metadata": {},
   "outputs": [],
   "source": [
    "function log_like(θ)\n",
    "\n",
    "    α, β, γ, σ =  θ\n",
    "\n",
    "    # Simulate Lotka-Volterra model. \n",
    "    predicted = solve(prob, p=[α, β, γ], saveat = save_at, verbose=false)\n",
    "\n",
    "    if !SciMLBase.successful_retcode(predicted.retcode)\n",
    "        # Simulation failed, return negative infinity\n",
    "        return -Inf\n",
    "    end\n",
    "\n",
    "    # Add up the log likelihood for the observed data y.\n",
    "    log_likelihood = 0.0\n",
    "    Σ = diagm([σ^2, σ^2])\n",
    "    for i in 1:length(predicted)\n",
    "        like_dist = MultivariateNormal(predicted[:,i], Σ)\n",
    "        log_likelihood += logpdf(like_dist, y[:,i])\n",
    "    end\n",
    "    return log_likelihood\n",
    "end"
   ]
  },
  {
   "attachments": {},
   "cell_type": "markdown",
   "metadata": {},
   "source": [
    "We want to estimate ${\\theta} = (\\alpha, \\beta, \\gamma, \\sigma)$ for the model. The Bayesian approach allows us to do this and to quantify the uncertainty of our estimates.\n",
    "\n",
    "Assign some priors $\\alpha, \\gamma \\sim U(0,1)$ $\\beta \\sim U(0,0.1)$ and $\\sigma \\sim U(0.1,7)$. For the SMC code we will need functions to evaluate the log prior and to simulate from the prior."
   ]
  },
  {
   "cell_type": "code",
   "execution_count": null,
   "metadata": {},
   "outputs": [],
   "source": [
    "using Distributions\n",
    "# Priors on: α, β, γ, σ \n",
    "priors = [Uniform(0., 1), Uniform(0,0.1), Uniform(0, 1), Uniform(0.1, 7)]\n",
    "\n",
    "# Function to simulate from the prior\n",
    "function sim_prior(N)\n",
    "    mat = zeros(N, length(priors))\n",
    "    for i in 1:N\n",
    "        mat[i,:] = rand.(priors)\n",
    "    end\n",
    "    return mat\n",
    "end\n",
    "\n",
    "# Function to evaluate the log prior\n",
    "function log_prior(θ)\n",
    "    # Prior distributions.\n",
    "    return sum(logpdf.(priors, θ))\n",
    "end"
   ]
  },
  {
   "attachments": {},
   "cell_type": "markdown",
   "metadata": {},
   "source": [
    "## Import the SMC code and run the algorithm\n",
    "\n",
    "The SMC algorithm is discussed in the `smc_sampler_lanneal.ipynb` notebook and the code is imported into the session. Use the code to run the SMC algorithm, this may take a while to evaluate."
   ]
  },
  {
   "cell_type": "code",
   "execution_count": null,
   "metadata": {},
   "outputs": [],
   "source": [
    "include(\"smc_sampler_lanneal_adaptive.jl\")\n",
    "particles = smc_sampler_lanneal_adaptive(5000, sim_prior, log_prior, log_like)"
   ]
  },
  {
   "attachments": {},
   "cell_type": "markdown",
   "metadata": {},
   "source": [
    "Compare the marginal distributions of the parameters to the data generating values."
   ]
  },
  {
   "cell_type": "code",
   "execution_count": null,
   "metadata": {},
   "outputs": [],
   "source": [
    "using KernelDensity\n",
    "\n",
    "names = [\"α\", \"β\", \"γ\", \"σ\"]\n",
    "p = []\n",
    "for i in 1:4\n",
    "    # dens = kde(exp.(samps[:,i]))\n",
    "    dens = kde(particles[:,i])\n",
    "\n",
    "    #x_tic = min(dens.x)\n",
    "    p_l = plot(dens, title = names[i], ticks = :native)\n",
    "    vline!([(θ_dg[i])], line = (:black, 2, :dash))\n",
    "    push!(p,  p_l)\n",
    "end\n",
    "plot(p[1], p[2], p[3], p[4])"
   ]
  }
 ],
 "metadata": {
  "kernelspec": {
   "display_name": "Julia 1.8.5",
   "language": "julia",
   "name": "julia-1.8"
  },
  "language_info": {
   "file_extension": ".jl",
   "mimetype": "application/julia",
   "name": "julia",
   "version": "1.8.5"
  },
  "orig_nbformat": 4
 },
 "nbformat": 4,
 "nbformat_minor": 2
}
