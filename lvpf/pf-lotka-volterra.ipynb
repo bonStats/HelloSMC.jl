{
 "cells": [
  {
   "attachments": {},
   "cell_type": "markdown",
   "metadata": {},
   "source": [
    "This notebook will demonstrate how to use SequentialMonteCarlo.jl for a Hidden Markov Model with Lotka-Volterra dynamics.\n",
    "\n",
    "First we load the necessary packages."
   ]
  },
  {
   "cell_type": "code",
   "execution_count": null,
   "metadata": {},
   "outputs": [],
   "source": [
    "using SequentialMonteCarlo\n",
    "using Distributions\n",
    "using Catalyst\n",
    "using JumpProcesses\n",
    "using DelimitedFiles\n",
    "using Statistics\n",
    "using Plots"
   ]
  },
  {
   "attachments": {},
   "cell_type": "markdown",
   "metadata": {},
   "source": [
    "Next load in the observed data"
   ]
  },
  {
   "cell_type": "code",
   "execution_count": null,
   "metadata": {},
   "outputs": [],
   "source": [
    "ts = 1.0:1.0:50.0\n",
    "n = 50\n",
    "y = readdlm(\"prey_pred.csv\", ',', Int64)"
   ]
  },
  {
   "attachments": {},
   "cell_type": "markdown",
   "metadata": {},
   "source": [
    "SequentialMonteCarlo.jl is a flexible package for designing SMC algorithms. It has three major components:\n",
    "- Particle structure\n",
    "- Mutation function (includes initial distribution)\n",
    "- Potential function (log-scale)\n",
    "\n",
    "The first step is to define the type of particle the algorithm will manipulate."
   ]
  },
  {
   "cell_type": "code",
   "execution_count": null,
   "metadata": {},
   "outputs": [],
   "source": [
    "mutable struct LVParticle\n",
    "    prey::Int64\n",
    "    pred::Int64\n",
    "    LVParticle() = new() # initialise empty\n",
    "end"
   ]
  },
  {
   "attachments": {},
   "cell_type": "markdown",
   "metadata": {},
   "source": [
    "In order to define the mutation function, we need to define how the Markov Process evolves. \n",
    "\n",
    "In julia we can use JumpProcesses.jl to simulate integer-valued Markov Jump Processes. One way to do this is with the Catalyst.jl reaction network syntax."
   ]
  },
  {
   "cell_type": "code",
   "execution_count": null,
   "metadata": {},
   "outputs": [],
   "source": [
    "lveqns = @reaction_network begin\n",
    "    c1, prey --> 2*prey         # prey reproduction\n",
    "    c2, prey + pred --> 2*pred  # prey death, pred reproduction\n",
    "    c3, pred --> 0              # pred death\n",
    "end\n",
    "\n",
    "rates = (:c1 => 0.5, :c2 => 0.0025, :c3 => 0.3)\n",
    "initial = [71, 79] # latent at time 0.0"
   ]
  },
  {
   "attachments": {},
   "cell_type": "markdown",
   "metadata": {},
   "source": [
    "Using the above specification, we can define a mutation kernel for SequentialMonteCarlo.jl to use."
   ]
  },
  {
   "cell_type": "code",
   "execution_count": null,
   "metadata": {},
   "outputs": [],
   "source": [
    "# mutation kernel\n",
    "function M!(newParticle::LVParticle, rng, t::Int64, oldParticle::LVParticle, ::Nothing)\n",
    "    if t == 1\n",
    "        u0 = initial\n",
    "        tspan = (0.0, ts[1])\n",
    "    else\n",
    "        u0 = [oldParticle.prey, oldParticle.pred]\n",
    "        tspan = (ts[t-1], ts[t])\n",
    "    end\n",
    "    \n",
    "    dprobt = DiscreteProblem(lveqns, u0, tspan, rates)\n",
    "    jprobt = JumpProblem(lveqns, dprobt, Direct(), rng = rng)\n",
    "    res = solve(jprobt, SSAStepper())\n",
    "\n",
    "    newParticle.prey = res(ts[t])[1]\n",
    "    newParticle.pred = res(ts[t])[2]\n",
    "end"
   ]
  },
  {
   "attachments": {},
   "cell_type": "markdown",
   "metadata": {},
   "source": [
    "Last we have the potential function."
   ]
  },
  {
   "cell_type": "code",
   "execution_count": null,
   "metadata": {},
   "outputs": [],
   "source": [
    "function lG(t::Int64, particle::LVParticle, ::Nothing)\n",
    "    preydist = Poisson(0.5*particle.prey)\n",
    "    preddist = Poisson(0.8*particle.pred)\n",
    "    return logpdf(preydist, y[1,t]) + logpdf(preddist, y[2,t])\n",
    "end"
   ]
  },
  {
   "attachments": {},
   "cell_type": "markdown",
   "metadata": {},
   "source": [
    "To run the SMC algorithm we need to specify the number of particles $N$, number of threads, the resampling threshold in terms of the relative ESS, and whether to save all the output (instead of just the terminal particles)."
   ]
  },
  {
   "cell_type": "code",
   "execution_count": null,
   "metadata": {},
   "outputs": [],
   "source": [
    "N = 2^10\n",
    "threads = 1\n",
    "κ = 0.5 # relative ESS threshold\n",
    "saveall = true"
   ]
  },
  {
   "attachments": {},
   "cell_type": "markdown",
   "metadata": {},
   "source": [
    "The complete SMC model can be specified by"
   ]
  },
  {
   "cell_type": "code",
   "execution_count": null,
   "metadata": {},
   "outputs": [],
   "source": [
    "model = SMCModel(M!, lG, n, LVParticle, Nothing)"
   ]
  },
  {
   "attachments": {},
   "cell_type": "markdown",
   "metadata": {},
   "source": [
    "and we make a location to save the output from running the algorithm"
   ]
  },
  {
   "cell_type": "code",
   "execution_count": null,
   "metadata": {},
   "outputs": [],
   "source": [
    "smcio = SMCIO{model.particle, model.pScratch}(N, n, threads, saveall, κ)\n",
    "smcio.N"
   ]
  },
  {
   "attachments": {},
   "cell_type": "markdown",
   "metadata": {},
   "source": [
    "Then we can run the model using"
   ]
  },
  {
   "cell_type": "code",
   "execution_count": null,
   "metadata": {},
   "outputs": [],
   "source": [
    "smc!(model, smcio) # overwrites smcio"
   ]
  },
  {
   "attachments": {},
   "cell_type": "markdown",
   "metadata": {},
   "source": [
    "We can plot the results as follows"
   ]
  },
  {
   "cell_type": "code",
   "execution_count": null,
   "metadata": {},
   "outputs": [],
   "source": [
    "# load true latent states\n",
    "x = readdlm(\"prey_pred_true_latent.csv\", ',', Int64)\n",
    "\n",
    "plot(y[1,:], label=\"obs\", title = \"Prey estimated latent states vs observations\")\n",
    "pids = sample(1:smcio.N, 100)\n",
    "for i in pids\n",
    "    anc = getindex.(smcio.allEves, i)\n",
    "    u = getindex.(smcio.allZetas, reverse(anc))\n",
    "    plot!(getfield.(u, :prey), color = \"grey\", alpha = 0.5, label = \"\")\n",
    "end\n",
    "plot!(x[1,:], label=\"latent\", color = \"red\")"
   ]
  },
  {
   "cell_type": "code",
   "execution_count": null,
   "metadata": {},
   "outputs": [],
   "source": [
    "plot(y[2,:], label=\"obs\", title = \"Pred. estimated latent states vs observations\")\n",
    "pids = sample(1:smcio.N, 100)\n",
    "for i in pids\n",
    "    anc = getindex.(smcio.allEves, i)\n",
    "    u = getindex.(smcio.allZetas, reverse(anc))\n",
    "    plot!(getfield.(u, :pred), color = \"grey\", alpha = 0.5, label = \"\")\n",
    "end\n",
    "plot!(x[2,:], label=\"latent\", color = \"red\")"
   ]
  }
 ],
 "metadata": {
  "kernelspec": {
   "display_name": "Julia 1.9.0",
   "language": "julia",
   "name": "julia-1.9"
  },
  "language_info": {
   "file_extension": ".jl",
   "mimetype": "application/julia",
   "name": "julia",
   "version": "1.9.0"
  },
  "orig_nbformat": 4
 },
 "nbformat": 4,
 "nbformat_minor": 2
}
