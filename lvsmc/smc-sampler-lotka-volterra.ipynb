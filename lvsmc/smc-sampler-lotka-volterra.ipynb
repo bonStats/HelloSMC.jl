{
 "cells": [
  {
   "attachments": {},
   "cell_type": "markdown",
   "metadata": {},
   "source": [
    "This notebook shows a basic example of the adaptive resample-move algorithm for sampling from a static Bayesian posterior distribution. It uses the SequentialMonteCarlo.jl package for the SMC implementation.\n",
    "\n",
    "## The Lotka-Volterra model\n",
    "\n",
    "This example follows a simple analysis of the Lotka Volterra model for predator and prey populations where the measurement error for the data is assumed to be Gaussian.\n",
    "\n",
    "$X_{1,t}$ the population of the prey, $X_{2,t}$ the population of the predator at time $t$. These evolve according to:\n",
    "\n",
    "$$\n",
    "\\frac{dx_1}{dt} = (\\alpha -\\beta x_2 )x_1 \\qquad\n",
    "\\frac{dx_2}{dt} = (\\beta x_1 - \\gamma )x_2     \n",
    "$$\n",
    "\n",
    "Observe a noisy measurement at times $t=0, 2, ..., 50$. \n",
    "$$\n",
    "Y_{1,t} \\sim \\mathcal{N}(X_{1,t}, \\sigma^2), \\qquad Y_{2,t} \\sim \\mathcal{N}(X_{2,t}, \\sigma^2)\n",
    "$$\n",
    "\n",
    "We implement this model and simulate data with parameters $\\alpha=0.3$, $\\beta = 0.04$, $\\gamma=0.5$ and $\\sigma = 1$."
   ]
  },
  {
   "cell_type": "code",
   "execution_count": 1,
   "metadata": {},
   "outputs": [],
   "source": [
    "using SequentialMonteCarlo\n",
    "using Distributions\n",
    "using DifferentialEquations\n",
    "using DelimitedFiles\n",
    "using Statistics\n",
    "using Plots\n",
    "using LinearAlgebra\n",
    "using StatsBase\n",
    "using StatsPlots"
   ]
  },
  {
   "attachments": {},
   "cell_type": "markdown",
   "metadata": {},
   "source": [
    "Load in the data and define the sequence of observation times."
   ]
  },
  {
   "cell_type": "code",
   "execution_count": 2,
   "metadata": {},
   "outputs": [
    {
     "data": {
      "text/plain": [
       "2.0:2.0:50.0"
      ]
     },
     "metadata": {},
     "output_type": "display_data"
    }
   ],
   "source": [
    "y_full = readdlm(\"prey_pred2.csv\", ',', Float64)\n",
    "n_y = size(y_full,2) - 1 # exclude initial value\n",
    "ts = 2*(1.0:1.0:n_y) # times steps for data"
   ]
  },
  {
   "attachments": {},
   "cell_type": "markdown",
   "metadata": {},
   "source": [
    "Define a particle structure for the parameters of the Lotka-Volterra model."
   ]
  },
  {
   "cell_type": "code",
   "execution_count": 3,
   "metadata": {},
   "outputs": [],
   "source": [
    "# particle\n",
    "mutable struct LVParamParticle\n",
    "    α::Float64 \n",
    "    β::Float64 \n",
    "    γ::Float64\n",
    "    σ::Float64\n",
    "    LVParamParticle() = new() # initialise empty\n",
    "end\n",
    "\n",
    "Base.vec(p::LVParamParticle) = [p.α, p.β, p.γ, p.σ]\n"
   ]
  },
  {
   "attachments": {},
   "cell_type": "markdown",
   "metadata": {},
   "source": [
    "Define the prior distribution and a function for evaluating the log-density."
   ]
  },
  {
   "cell_type": "code",
   "execution_count": 4,
   "metadata": {},
   "outputs": [
    {
     "data": {
      "text/plain": [
       "log_prior (generic function with 1 method)"
      ]
     },
     "metadata": {},
     "output_type": "display_data"
    }
   ],
   "source": [
    "# Prior on θ = [α, β, γ, σ]\n",
    "priors = product_distribution([Uniform(0., 1), Uniform(0,0.1), Uniform(0, 1), Uniform(0.1, 7)])\n",
    "\n",
    "function log_prior(θ::Vector{Float64})\n",
    "    # Prior distributions.\n",
    "    return sum(logpdf.(priors, θ))\n",
    "end"
   ]
  },
  {
   "attachments": {},
   "cell_type": "markdown",
   "metadata": {},
   "source": [
    "Define the Lotka-Volterra ODE model underlying data process (prior to the observation noise)."
   ]
  },
  {
   "cell_type": "code",
   "execution_count": 5,
   "metadata": {},
   "outputs": [
    {
     "data": {
      "text/plain": [
       "\u001b[38;2;86;182;194mODEProblem\u001b[0m with uType \u001b[38;2;86;182;194mVector{Float64}\u001b[0m and tType \u001b[38;2;86;182;194mFloat64\u001b[0m. In-place: \u001b[38;2;86;182;194mtrue\u001b[0m\n",
       "timespan: (0.0, 50.0)\n",
       "u0: 2-element Vector{Float64}:\n",
       " 7.06193274\n",
       " 5.278405814"
      ]
     },
     "metadata": {},
     "output_type": "display_data"
    }
   ],
   "source": [
    "# Define Lotka-Volterra model.\n",
    "function lotka_volterra(du, u, p, t)\n",
    "    # Model parameters.\n",
    "    α, β, γ = p\n",
    "    # Current state.\n",
    "    x, y = u\n",
    "\n",
    "    # Evaluate differential equations.\n",
    "    du[1] = (α - β * y) * x # prey\n",
    "    du[2] = (β * x - γ) * y # predator\n",
    "\n",
    "    return nothing\n",
    "end\n",
    "\n",
    "\n",
    "# Define initial-value problem.\n",
    "u0 = y_full[:,1]\n",
    "p_true = [0.5, 0.0025, 0.3, 1.]\n",
    "tspan = (0.0, 50.0)\n",
    "prob = ODEProblem(lotka_volterra, u0, tspan, p_true[1:3])\n"
   ]
  },
  {
   "attachments": {},
   "cell_type": "markdown",
   "metadata": {},
   "source": [
    "Define the log-likelihood for the posterior. This uses the forward process with multivariate normal observation noise."
   ]
  },
  {
   "cell_type": "code",
   "execution_count": 6,
   "metadata": {},
   "outputs": [
    {
     "data": {
      "text/plain": [
       "log_like (generic function with 1 method)"
      ]
     },
     "metadata": {},
     "output_type": "display_data"
    }
   ],
   "source": [
    "y = y_full[:,2:end]\n",
    "temps = 0.8 .^ (12:-1:0)\n",
    "n = length(temps) - 1\n",
    "\n",
    "function log_like(θ::Vector{Float64})\n",
    "    p = θ[1:3]\n",
    "    σ = θ[4]\n",
    "    # Simulate Lotka-Volterra model. \n",
    "    predicted = solve(prob; p=p, saveat = ts, verbose=false)\n",
    "\n",
    "    if !SciMLBase.successful_retcode(predicted.retcode)\n",
    "        #println(p)\n",
    "        return -Inf\n",
    "    end\n",
    "\n",
    "    # Add up the log likelihood\n",
    "    log_likelihood = 0.0\n",
    "    for i in eachindex(predicted)\n",
    "        like_dist = MvNormal(predicted[:,i], σ^2 * I)\n",
    "        log_likelihood += logpdf(like_dist, y[:,i])\n",
    "    end\n",
    "    return log_likelihood\n",
    "end"
   ]
  },
  {
   "attachments": {},
   "cell_type": "markdown",
   "metadata": {},
   "source": [
    "Define a proposal distributions for the MCMC kernel. The function takes input as the current particle location and outputs a multivariate normal distribution to draw a sample from."
   ]
  },
  {
   "cell_type": "code",
   "execution_count": 7,
   "metadata": {},
   "outputs": [
    {
     "data": {
      "text/plain": [
       "proposal (generic function with 1 method)"
      ]
     },
     "metadata": {},
     "output_type": "display_data"
    }
   ],
   "source": [
    "\n",
    "function proposal(currθ::Vector{Float64})\n",
    "    return MvNormal(currθ, 0.25^2 * I)\n",
    "end"
   ]
  },
  {
   "attachments": {},
   "cell_type": "markdown",
   "metadata": {},
   "source": [
    "Define the MCMC kernel itself, which uses the above proposal. It is a random-walk Metropolis-Hastings kernel."
   ]
  },
  {
   "cell_type": "code",
   "execution_count": 8,
   "metadata": {},
   "outputs": [
    {
     "data": {
      "text/plain": [
       "mh (generic function with 1 method)"
      ]
     },
     "metadata": {},
     "output_type": "display_data"
    }
   ],
   "source": [
    "# Metropolis-Hastings Kernel with Random Walk proposal\n",
    "# Posterior = prior(θ) * likelihood(θ)ᵝ\n",
    "function mh(rng, currθ::Vector{Float64}, propθ::Vector{Float64}, β::Float64)\n",
    "    lp_curr = logpdf(priors, currθ) + β * log_like(currθ)\n",
    "    lp_prop = logpdf(priors, propθ) + β * log_like(propθ)\n",
    "    if lp_prop - lp_curr > log(rand(rng))\n",
    "        return propθ\n",
    "    else\n",
    "        return currθ\n",
    "    end\n",
    "end"
   ]
  },
  {
   "attachments": {},
   "cell_type": "markdown",
   "metadata": {},
   "source": [
    "Here we define the (initial distribution and) mutation kernel for the SMC algorithm. Time $t=1$ indicates the initial distribution, whilst $t>1$ are the mutation steps."
   ]
  },
  {
   "cell_type": "code",
   "execution_count": 9,
   "metadata": {},
   "outputs": [
    {
     "data": {
      "text/plain": [
       "M! (generic function with 1 method)"
      ]
     },
     "metadata": {},
     "output_type": "display_data"
    }
   ],
   "source": [
    "# mutation kernel\n",
    "function M!(new::LVParamParticle, rng, t::Int64, old::LVParamParticle, ::Nothing)\n",
    "    if t == 1\n",
    "        θ = rand(rng, priors)\n",
    "    else\n",
    "        # proposal\n",
    "        propθ = rand(rng, proposal(vec(old)))\n",
    "        θ = mh(rng, vec(old), propθ, temps[t])\n",
    "    end\n",
    "\n",
    "    new.α, new.β, new.γ, new.σ = θ\n",
    "\n",
    "end"
   ]
  },
  {
   "attachments": {},
   "cell_type": "markdown",
   "metadata": {},
   "source": [
    "Lastly, we define the potential function (on the log-scale). Since we are annealing from the prior distribution we only considered the incremental change in the log-likelihood. "
   ]
  },
  {
   "cell_type": "code",
   "execution_count": 10,
   "metadata": {},
   "outputs": [
    {
     "data": {
      "text/plain": [
       "lG (generic function with 1 method)"
      ]
     },
     "metadata": {},
     "output_type": "display_data"
    }
   ],
   "source": [
    "\n",
    "# potential function\n",
    "function lG(t::Int64, particle::LVParamParticle, ::Nothing)\n",
    "    β_incr = temps[t+1] - temps[t]\n",
    "    return β_incr * log_like(vec(particle))\n",
    "end"
   ]
  },
  {
   "attachments": {},
   "cell_type": "markdown",
   "metadata": {},
   "source": [
    "Now we set some algorithmic parameters for the SMC run."
   ]
  },
  {
   "cell_type": "code",
   "execution_count": 11,
   "metadata": {},
   "outputs": [
    {
     "data": {
      "text/plain": [
       "true"
      ]
     },
     "metadata": {},
     "output_type": "display_data"
    }
   ],
   "source": [
    "\n",
    "N = 2^10        # number of particles\n",
    "threads = 1     # number of threads\n",
    "κ = 0.5         # relative ESS threshold\n",
    "saveall = true  # save full trajectory \n"
   ]
  },
  {
   "attachments": {},
   "cell_type": "markdown",
   "metadata": {},
   "source": [
    "Finally, define the model for our SMC algorithm..."
   ]
  },
  {
   "cell_type": "code",
   "execution_count": 12,
   "metadata": {},
   "outputs": [
    {
     "data": {
      "text/plain": [
       "SMCModel{typeof(M!), typeof(lG)}(M!, lG, 12, LVParamParticle, Nothing)"
      ]
     },
     "metadata": {},
     "output_type": "display_data"
    }
   ],
   "source": [
    "model = SMCModel(M!, lG, n, LVParamParticle, Nothing)"
   ]
  },
  {
   "attachments": {},
   "cell_type": "markdown",
   "metadata": {},
   "source": [
    "... and space to save the output."
   ]
  },
  {
   "cell_type": "code",
   "execution_count": 13,
   "metadata": {},
   "outputs": [
    {
     "data": {
      "text/plain": [
       "SMCIO{LVParamParticle, Nothing}(1024, 12, 1, LVParamParticle[LVParamParticle(1.5e-323, 2.371935704e-314, 2.330071759e-314, 0.0), LVParamParticle(1.5e-323, 2.361767841e-314, 2.3623547356e-314, 0.0), LVParamParticle(1.5e-323, 2.361767841e-314, 2.3623547356e-314, 0.0), LVParamParticle(1.5e-323, 2.371935704e-314, 2.330071759e-314, 0.0), LVParamParticle(1.5e-323, 2.371935704e-314, 2.330071759e-314, 0.0), LVParamParticle(1.5e-323, 2.371935704e-314, 2.330071759e-314, 0.0), LVParamParticle(1.5e-323, 2.371935704e-314, 2.330071759e-314, 0.0), LVParamParticle(1.5e-323, 2.371935704e-314, 2.330071759e-314, 0.0), LVParamParticle(1.5e-323, 2.371935704e-314, 2.330071759e-314, 0.0), LVParamParticle(1.5e-323, 2.371935704e-314, 2.330071759e-314, 0.0)  …  LVParamParticle(1.5e-323, 2.371935704e-314, 2.330071759e-314, 0.0), LVParamParticle(1.5e-323, 2.371935704e-314, 2.330071759e-314, 0.0), LVParamParticle(1.5e-323, 2.371935704e-314, 2.330071759e-314, 0.0), LVParamParticle(1.5e-323, 2.371935704e-314, 2.330071759e-314, 0.0), LVParamParticle(1.5e-323, 2.371935704e-314, 2.330071759e-314, 0.0), LVParamParticle(1.5e-323, 2.371935704e-314, 2.330071759e-314, 0.0), LVParamParticle(1.5e-323, 2.371935704e-314, 2.330071759e-314, 0.0), LVParamParticle(1.5e-323, 2.361767841e-314, 2.3623547356e-314, 0.0), LVParamParticle(1.5e-323, 2.371935704e-314, 2.330071759e-314, 0.0), LVParamParticle(1.5e-323, 2.371935704e-314, 2.330071759e-314, 0.0)], [217867148901344515, -6196107542753967117, 324960537085889150, 559012632419436038, 6629994328867879944, 5333349388792300545, 2594825485983416838, -503552101827475438, -1007813444595551620, 85571136481591556  …  0, 11763475536, 11763475536, 11763475792, 4294963200, 0, 0, 0, 0, 0], [5.811905336e-314, 1.265e-321, -5.486124068793689e303, 0.0, 2.121995791e-314, 0.0, 0.0, 0.0, 2.8628715073e-314, 0.0  …  0.0, 0.0, 0.0, 0.0, 0.0, 0.0, 0.0, 0.0, 0.0, 0.0], [2.1301229455e-314, 2.1301229455e-314, 2.213035971e-314, 2.130122997e-314, 2.1301230285e-314, 2.13012306e-314, 2.1301229455e-314, 2.130123092e-314, 2.1301231234e-314, 2.130123155e-314, 2.1301231866e-314, 2.213035971e-314], [5.0e-324, 4.0e-323, 2.881347092e-314, 2.8813471237e-314, 4.4e-323, 6.0e-323, 2.881347187e-314, 2.8813472186e-314, 6.4e-323, 9.0e-323, 2.88134725e-314, 2.881347282e-314], [2.213095488e-314, 0.0, 2.213095496e-314, 0.0, 2.21309552e-314, 0.0, 2.2130955277e-314, 0.0, 2.22145983e-314, 0.0, 2.371935704e-314, 5.0e-324], Bool[0, 0, 0, 1, 1, 0, 0, 0, 0, 0, 0], true, 0.5, SequentialMonteCarlo._SMCInternal{LVParamParticle, Nothing}(LVParamParticle[LVParamParticle(1.5e-323, 2.371935704e-314, 2.3301439005e-314, 0.0), LVParamParticle(1.5e-323, 2.361767841e-314, 2.3623547356e-314, 0.0), LVParamParticle(1.5e-323, 2.371935704e-314, 2.3301439005e-314, 0.0), LVParamParticle(1.5e-323, 2.361767841e-314, 2.3623547356e-314, 0.0), LVParamParticle(1.5e-323, 2.371935704e-314, 2.3301439005e-314, 0.0), LVParamParticle(1.5e-323, 2.361767841e-314, 2.3623547356e-314, 0.0), LVParamParticle(1.5e-323, 2.371935704e-314, 2.3301439005e-314, 0.0), LVParamParticle(1.5e-323, 2.361767841e-314, 2.3623547356e-314, 0.0), LVParamParticle(1.5e-323, 2.371935704e-314, 2.3301439005e-314, 0.0), LVParamParticle(1.5e-323, 2.361767841e-314, 2.3623547356e-314, 0.0)  …  LVParamParticle(1.5e-323, 2.371935704e-314, 2.3301439005e-314, 0.0), LVParamParticle(1.5e-323, 2.371935704e-314, 2.3301439005e-314, 0.0), LVParamParticle(1.5e-323, 2.361767841e-314, 2.3623547356e-314, 0.0), LVParamParticle(1.5e-323, 2.371935704e-314, 2.9288033385e-314, 0.0), LVParamParticle(1.5e-323, 2.371935704e-314, 2.9288033385e-314, 0.0), LVParamParticle(1.5e-323, 2.361767841e-314, 2.3623547356e-314, 0.0), LVParamParticle(1.5e-323, 2.371935704e-314, 2.3301439005e-314, 0.0), LVParamParticle(1.5e-323, 2.371935704e-314, 2.3301439005e-314, 0.0), LVParamParticle(1.5e-323, 2.361767841e-314, 2.3623547356e-314, 0.0), LVParamParticle(1.5e-323, 2.371935704e-314, 2.9288033385e-314, 0.0)], [5793957168, 5793929272, 0, 0, 1035288444928, 5793929272, 0, 0, 5793393504, 5793953880  …  -1, -1, 5793722904, 5793937496, 8589934592, 5793918408, -4, 5793918256, 5793722904, 5793725008], [1, 1, 1, 1, 1, 1, 1, 1, 1, 1  …  1, 1, 1, 1, 1, 1, 1, 1, 1, 1], [2.86213296e-314, 2.862132976e-314, 0.0, 0.0, 0.0, 0.0, 0.0, 0.0, 0.0, 0.0  …  0.0, 0.0, 0.0, 0.0, 0.0, 0.0, 5.811375757e-314, 2.121995792e-314, 0.0, 0.0], [0.0, 2.121995791e-314, 0.0, 0.0, 6.365987373e-314, 0.0, 0.0, 4.243991582e-314, 0.0, 0.0  …  0.0, 0.0, 2.121995791e-314, 0.0, 0.0, 2.121995791e-314, 0.0, 0.0, 0.0, 0.0], [8.512850302e-314, 2.861673987e-314, 2.8623068614e-314, 2.8616742993e-314, 0.0, 0.0, 0.0, 0.0, 0.0, 0.0  …  6.4240106953e-314, 2.8625724197e-314, 2.862313723e-314, 2.8625715264e-314, 1.0626557047e-313, 2.8625724197e-314, 2.862571542e-314, 2.862313739e-314, 4.626116605225e-312, 2.8625724197e-314], [1.0, 1.0, 1.0, 1.0, 1.0, 1.0, 1.0, 1.0, 1.0, 1.0  …  1.0, 1.0, 1.0, 1.0, 1.0, 1.0, 1.0, 1.0, 1.0, 1.0], 0, 0.0, 0.0, 0.0, nothing, SequentialMonteCarlo._SMCInternalParallel{LVParamParticle, Nothing}(1024, Float64[], Float64[], Float64[], Int64[], Int64[], Nothing[], SubArray{Int64, 1, Vector{Int64}, Tuple{UnitRange{Int64}}, true}[], SubArray{Int64, 1, Vector{Int64}, Tuple{UnitRange{Int64}}, true}[], SubArray{Int64, 1, Vector{Int64}, Tuple{UnitRange{Int64}}, true}[], SubArray{LVParamParticle, 1, Vector{LVParamParticle}, Tuple{UnitRange{Int64}}, true}[], SubArray{LVParamParticle, 1, Vector{LVParamParticle}, Tuple{UnitRange{Int64}}, true}[], SubArray{Float64, 1, Vector{Float64}, Tuple{UnitRange{Int64}}, true}[], SubArray{Float64, 1, Vector{Float64}, Tuple{UnitRange{Int64}}, true}[], SubArray{Float64, 1, Vector{Float64}, Tuple{UnitRange{Int64}}, true}[], Vector{SubArray{Int64, 1, Vector{Int64}, Tuple{UnitRange{Int64}}, true}}[], Vector{SubArray{LVParamParticle, 1, Vector{LVParamParticle}, Tuple{UnitRange{Int64}}, true}}[], Vector{SubArray{Int64, 1, Vector{Int64}, Tuple{UnitRange{Int64}}, true}}[], Vector{SubArray{Float64, 1, Vector{Float64}, Tuple{UnitRange{Int64}}, true}}[])), Vector{LVParamParticle}[[LVParamParticle(1.5e-323, 2.371935704e-314, 2.330071759e-314, 0.0), LVParamParticle(1.5e-323, 2.371935704e-314, 2.330071759e-314, 0.0), LVParamParticle(1.5e-323, 2.371935704e-314, 2.330071759e-314, 0.0), LVParamParticle(1.5e-323, 2.371935704e-314, 2.330071759e-314, 0.0), LVParamParticle(1.5e-323, 2.371935704e-314, 2.330071759e-314, 0.0), LVParamParticle(1.5e-323, 2.371935704e-314, 2.330071759e-314, 0.0), LVParamParticle(1.5e-323, 2.361767841e-314, 2.3623547356e-314, 0.0), LVParamParticle(1.5e-323, 2.371935704e-314, 2.330071759e-314, 0.0), LVParamParticle(1.5e-323, 2.371935704e-314, 2.330071759e-314, 0.0), LVParamParticle(1.5e-323, 2.371935704e-314, 2.330071759e-314, 0.0)  …  LVParamParticle(1.5e-323, 2.361767841e-314, 2.2050657357e-314, 0.0), LVParamParticle(1.5e-323, 2.371935704e-314, 2.330071759e-314, 0.0), LVParamParticle(1.5e-323, 2.371935704e-314, 2.330071759e-314, 0.0), LVParamParticle(1.5e-323, 2.371935704e-314, 2.330071759e-314, 0.0), LVParamParticle(1.5e-323, 2.371935704e-314, 2.330071759e-314, 0.0), LVParamParticle(1.5e-323, 2.371935704e-314, 2.330071759e-314, 0.0), LVParamParticle(1.5e-323, 2.361767841e-314, 2.2050657357e-314, 0.0), LVParamParticle(1.5e-323, 2.371935704e-314, 2.330071759e-314, 0.0), LVParamParticle(1.5e-323, 2.371935704e-314, 2.330071759e-314, 0.0), LVParamParticle(1.5e-323, 2.371935704e-314, 2.330071759e-314, 0.0)], [LVParamParticle(1.5e-323, 2.371935704e-314, 2.330071759e-314, 0.0), LVParamParticle(1.5e-323, 2.371935704e-314, 2.330071759e-314, 0.0), LVParamParticle(1.5e-323, 2.361767841e-314, 2.2050657357e-314, 0.0), LVParamParticle(1.5e-323, 2.371935704e-314, 2.330071759e-314, 0.0), LVParamParticle(1.5e-323, 2.371935704e-314, 2.330071759e-314, 0.0), LVParamParticle(1.5e-323, 2.371935704e-314, 2.330071759e-314, 0.0), LVParamParticle(1.5e-323, 2.371935704e-314, 2.330071759e-314, 0.0), LVParamParticle(1.5e-323, 2.371935704e-314, 2.330071759e-314, 0.0), LVParamParticle(1.5e-323, 2.361767841e-314, 2.2050657357e-314, 0.0), LVParamParticle(1.5e-323, 2.371935704e-314, 2.330071759e-314, 0.0)  …  LVParamParticle(1.5e-323, 2.371935704e-314, 2.330071759e-314, 0.0), LVParamParticle(1.5e-323, 2.371935704e-314, 2.330071759e-314, 0.0), LVParamParticle(1.5e-323, 2.371935704e-314, 2.330071759e-314, 0.0), LVParamParticle(1.5e-323, 2.371935704e-314, 2.330071759e-314, 0.0), LVParamParticle(1.5e-323, 2.361767841e-314, 2.2050657357e-314, 0.0), LVParamParticle(1.5e-323, 2.371935704e-314, 2.330071759e-314, 0.0), LVParamParticle(1.5e-323, 2.371935704e-314, 2.330071759e-314, 0.0), LVParamParticle(1.5e-323, 2.371935704e-314, 2.330071759e-314, 0.0), LVParamParticle(1.5e-323, 2.371935704e-314, 2.330071759e-314, 0.0), LVParamParticle(1.5e-323, 2.371935704e-314, 2.330071759e-314, 0.0)], [LVParamParticle(1.5e-323, 2.371935704e-314, 2.330071759e-314, 0.0), LVParamParticle(1.5e-323, 2.371935704e-314, 2.330071759e-314, 0.0), LVParamParticle(1.5e-323, 2.371935704e-314, 2.330071759e-314, 0.0), LVParamParticle(1.5e-323, 2.371935704e-314, 2.330071759e-314, 0.0), LVParamParticle(1.5e-323, 2.361767841e-314, 2.2050657357e-314, 0.0), LVParamParticle(1.5e-323, 2.371935704e-314, 2.330071759e-314, 0.0), LVParamParticle(1.5e-323, 2.371935704e-314, 2.330071759e-314, 0.0), LVParamParticle(1.5e-323, 2.371935704e-314, 2.330071759e-314, 0.0), LVParamParticle(1.5e-323, 2.361767841e-314, 2.2050657357e-314, 0.0), LVParamParticle(1.5e-323, 2.371935704e-314, 2.330071759e-314, 0.0)  …  LVParamParticle(1.5e-323, 2.371935704e-314, 2.330071759e-314, 0.0), LVParamParticle(1.5e-323, 2.371935704e-314, 2.330071759e-314, 0.0), LVParamParticle(1.5e-323, 2.371935704e-314, 2.330071759e-314, 0.0), LVParamParticle(1.5e-323, 2.371935704e-314, 2.330071759e-314, 0.0), LVParamParticle(1.5e-323, 2.371935704e-314, 2.330071759e-314, 0.0), LVParamParticle(1.5e-323, 2.371935704e-314, 2.330071759e-314, 0.0), LVParamParticle(1.5e-323, 2.361767841e-314, 2.2050657357e-314, 0.0), LVParamParticle(1.5e-323, 2.371935704e-314, 2.330071759e-314, 0.0), LVParamParticle(1.5e-323, 2.371935704e-314, 2.330071759e-314, 0.0), LVParamParticle(1.5e-323, 2.371935704e-314, 2.330071759e-314, 0.0)], [LVParamParticle(1.5e-323, 2.371935704e-314, 2.330071759e-314, 0.0), LVParamParticle(1.5e-323, 2.371935704e-314, 2.330071759e-314, 0.0), LVParamParticle(1.5e-323, 2.371935704e-314, 2.330071759e-314, 0.0), LVParamParticle(1.5e-323, 2.371935704e-314, 2.330071759e-314, 0.0), LVParamParticle(1.5e-323, 2.371935704e-314, 2.330071759e-314, 0.0), LVParamParticle(1.5e-323, 2.361767841e-314, 2.2050657357e-314, 0.0), LVParamParticle(1.5e-323, 2.371935704e-314, 2.330071759e-314, 0.0), LVParamParticle(1.5e-323, 2.371935704e-314, 2.330071759e-314, 0.0), LVParamParticle(1.5e-323, 2.371935704e-314, 2.330071759e-314, 0.0), LVParamParticle(1.5e-323, 2.371935704e-314, 2.330071759e-314, 0.0)  …  LVParamParticle(1.5e-323, 2.371935704e-314, 2.330071759e-314, 0.0), LVParamParticle(1.5e-323, 2.371935704e-314, 2.330071759e-314, 0.0), LVParamParticle(1.5e-323, 2.371935704e-314, 2.330071759e-314, 0.0), LVParamParticle(1.5e-323, 2.371935704e-314, 2.330071759e-314, 0.0), LVParamParticle(1.5e-323, 2.371935704e-314, 2.330071759e-314, 0.0), LVParamParticle(1.5e-323, 2.361767841e-314, 2.2050657357e-314, 0.0), LVParamParticle(1.5e-323, 2.371935704e-314, 2.330071759e-314, 0.0), LVParamParticle(1.5e-323, 2.371935704e-314, 2.330071759e-314, 0.0), LVParamParticle(1.5e-323, 2.371935704e-314, 2.330071759e-314, 0.0), LVParamParticle(1.5e-323, 2.371935704e-314, 2.330071759e-314, 0.0)], [LVParamParticle(1.5e-323, 2.371935704e-314, 2.330071759e-314, 0.0), LVParamParticle(1.5e-323, 2.371935704e-314, 2.330071759e-314, 0.0), LVParamParticle(1.5e-323, 2.371935704e-314, 2.330071759e-314, 0.0), LVParamParticle(1.5e-323, 2.371935704e-314, 2.330071759e-314, 0.0), LVParamParticle(1.5e-323, 2.361767841e-314, 2.2050657357e-314, 0.0), LVParamParticle(1.5e-323, 2.371935704e-314, 2.330071759e-314, 0.0), LVParamParticle(1.5e-323, 2.371935704e-314, 2.330071759e-314, 0.0), LVParamParticle(1.5e-323, 2.371935704e-314, 2.330071759e-314, 0.0), LVParamParticle(1.5e-323, 2.371935704e-314, 2.330071759e-314, 0.0), LVParamParticle(1.5e-323, 2.371935704e-314, 2.330071759e-314, 0.0)  …  LVParamParticle(2.368705076e-314, 2.13023445e-314, 2.130450195e-314, 1.655e-321), LVParamParticle(2.368705076e-314, 2.13023445e-314, 2.130450195e-314, 1.66e-321), LVParamParticle(2.368705076e-314, 2.13023445e-314, 2.130450195e-314, 1.665e-321), LVParamParticle(2.368705076e-314, 2.13023445e-314, 2.130450195e-314, 1.67e-321), LVParamParticle(1.5e-323, 2.361767841e-314, 2.2050657357e-314, 0.0), LVParamParticle(1.5e-323, 2.371935704e-314, 2.3301439005e-314, 0.0), LVParamParticle(1.5e-323, 2.361767841e-314, 2.2050657357e-314, 0.0), LVParamParticle(1.5e-323, 2.371935704e-314, 2.3301439005e-314, 0.0), LVParamParticle(2.3615659855e-314, 2.371363007e-314, 2.3614863896e-314, 5.0e-324), LVParamParticle(1.5e-323, 2.371935704e-314, 2.3301439005e-314, 0.0)], [LVParamParticle(1.5e-323, 2.361767841e-314, 2.2050657357e-314, 0.0), LVParamParticle(2.8812226034e-314, 2.644e-320, NaN, 0.0), LVParamParticle(1.5e-323, 2.371935704e-314, 2.3301439005e-314, 0.0), LVParamParticle(2.884230135e-314, 5.0e-324, 2.7826e-318, 5.0e-324), LVParamParticle(2.368705076e-314, 2.130284426e-314, 2.1303009475e-314, 1.6e-322), LVParamParticle(1.5e-323, 2.361767841e-314, 2.2050657357e-314, 0.0), LVParamParticle(1.5e-323, 2.371935704e-314, 2.3301439005e-314, 0.0), LVParamParticle(1.5e-323, 2.361767841e-314, 2.2050657357e-314, 0.0), LVParamParticle(1.5e-323, 2.371935704e-314, 2.3301439005e-314, 0.0), LVParamParticle(1.5e-323, 2.361767841e-314, 2.2050657357e-314, 0.0)  …  LVParamParticle(1.5e-323, 2.361767841e-314, 2.2050657357e-314, 0.0), LVParamParticle(1.5e-323, 2.361767841e-314, 2.2050657357e-314, 0.0), LVParamParticle(1.5e-323, 2.371935704e-314, 2.3301439005e-314, 0.0), LVParamParticle(1.5e-323, 2.371935704e-314, 2.3301439005e-314, 0.0), LVParamParticle(2.368705076e-314, 2.1302338336e-314, 2.130300758e-314, 2.121996591e-314), LVParamParticle(1.5e-323, 2.361767841e-314, 2.2050657357e-314, 0.0), LVParamParticle(2.368705076e-314, 2.1302339206e-314, 2.130300758e-314, 4.243992489e-314), LVParamParticle(2.368705076e-314, 2.1302344977e-314, 2.130300758e-314, 4.243992382e-314), LVParamParticle(2.368705076e-314, 2.1302344977e-314, 2.130300758e-314, 4.2439923823e-314), LVParamParticle(2.368705076e-314, 2.1302344977e-314, 2.130300758e-314, 4.243992383e-314)], [LVParamParticle(2.368705076e-314, 2.1303374807e-314, 2.130450195e-314, 1.2731974989e-313), LVParamParticle(2.368705076e-314, 2.1301986917e-314, 2.130429033e-314, 1.48539705397e-313), LVParamParticle(2.368705076e-314, 2.1301986285e-314, 2.130450195e-314, 1.273197499e-313), LVParamParticle(1.5e-323, 2.371935704e-314, 2.3301439005e-314, 0.0), LVParamParticle(1.5e-323, 2.371935704e-314, 2.3301439005e-314, 0.0), LVParamParticle(1.5e-323, 2.361767841e-314, 2.2050657357e-314, 0.0), LVParamParticle(1.5e-323, 2.371935704e-314, 2.3301439005e-314, 0.0), LVParamParticle(1.5e-323, 2.3719397435e-314, 2.3719397435e-314, 2.3719319175e-314), LVParamParticle(1.5e-323, 2.371935704e-314, 2.3301439005e-314, 0.0), LVParamParticle(1.5e-323, 2.361767841e-314, 2.2050657357e-314, 0.0)  …  LVParamParticle(1.5e-323, 2.371935704e-314, 2.9288033385e-314, 0.0), LVParamParticle(1.5e-323, 2.361767841e-314, 2.2050657357e-314, 0.0), LVParamParticle(1.5e-323, 2.371935704e-314, 2.9288033385e-314, 0.0), LVParamParticle(1.5e-323, 2.361767841e-314, 2.2050657357e-314, 0.0), LVParamParticle(1.5e-323, 2.371935704e-314, 2.9288033385e-314, 0.0), LVParamParticle(1.5e-323, 2.361767841e-314, 2.2050657357e-314, 0.0), LVParamParticle(1.5e-323, 2.371935704e-314, 2.9288033385e-314, 0.0), LVParamParticle(1.5e-323, 2.361767841e-314, 2.2050657357e-314, 0.0), LVParamParticle(1.5e-323, 2.371935704e-314, 2.9288033385e-314, 0.0), LVParamParticle(2.368705076e-314, 2.130201814e-314, 2.130245189e-314, 1.215e-321)], [LVParamParticle(2.368705076e-314, 2.130201814e-314, 2.130245189e-314, 1.215e-321), LVParamParticle(1.5e-323, 2.361767841e-314, 2.2050657357e-314, 0.0), LVParamParticle(1.5e-323, 2.371935704e-314, 2.9288033385e-314, 0.0), LVParamParticle(1.5e-323, 2.361767841e-314, 2.2050657357e-314, 0.0), LVParamParticle(1.5e-323, 2.371935704e-314, 2.9288033385e-314, 0.0), LVParamParticle(1.5e-323, 2.361767841e-314, 2.2050657357e-314, 0.0), LVParamParticle(1.5e-323, 2.371935704e-314, 2.9288033385e-314, 0.0), LVParamParticle(2.368705076e-314, 2.130212312e-314, 2.130245189e-314, 1.206e-321), LVParamParticle(1.5e-323, 2.361767841e-314, 2.2050657357e-314, 0.0), LVParamParticle(1.5e-323, 2.371935704e-314, 2.9288033385e-314, 0.0)  …  LVParamParticle(2.891032822e-314, 0.0, 2.782597e-318, 0.0), LVParamParticle(2.891032846e-314, 0.0, 2.782597e-318, 0.0), LVParamParticle(2.8910328696e-314, 0.0, 2.782597e-318, 0.0), LVParamParticle(2.8910328934e-314, 0.0, 2.782597e-318, 0.0), LVParamParticle(2.891032917e-314, 0.0, 2.782597e-318, 0.0), LVParamParticle(2.891032941e-314, 0.0, 2.782597e-318, 0.0), LVParamParticle(2.8910329645e-314, 0.0, 2.782597e-318, 0.0), LVParamParticle(2.891032988e-314, 0.0, 2.782597e-318, 0.0), LVParamParticle(2.8910330356e-314, 0.0, 2.782597e-318, 0.0), LVParamParticle(2.1219957915e-314, 2.121995792e-314, 2.1219957915e-314, 7.42698527594e-313)], [LVParamParticle(2.3711061323e-314, 2.130198672e-314, 2.1302499323e-314, 2.1219961783e-314), LVParamParticle(2.3711061323e-314, 2.130198672e-314, 2.1302499323e-314, 2.1219961783e-314), LVParamParticle(2.3711061323e-314, 2.130544364e-314, 2.1302499323e-314, 4.2439919298e-314), LVParamParticle(2.891033154e-314, 0.0, 2.782597e-318, 0.0), LVParamParticle(2.891033178e-314, 0.0, 2.782597e-318, 0.0), LVParamParticle(2.8910332016e-314, 0.0, 2.782597e-318, 0.0), LVParamParticle(2.8910332254e-314, 0.0, 2.782597e-318, 0.0), LVParamParticle(2.891033249e-314, 0.0, 2.782597e-318, 0.0), LVParamParticle(2.8910332965e-314, 0.0, 2.782597e-318, 0.0), LVParamParticle(2.891033344e-314, 0.0, 2.782597e-318, 0.0)  …  LVParamParticle(2.368705076e-314, 2.13020315e-314, 2.130300805e-314, 2.121995938e-314), LVParamParticle(2.368705076e-314, 2.1301964783e-314, 2.130300805e-314, 6.3659875735e-314), LVParamParticle(2.368705076e-314, 2.130196933e-314, 2.1302355214e-314, 2.1219958053e-314), LVParamParticle(2.368705076e-314, 2.1302025336e-314, 2.130300805e-314, 4.2439917257e-314), LVParamParticle(2.368705076e-314, 2.1302025336e-314, 2.130300805e-314, 4.243991726e-314), LVParamParticle(2.368705076e-314, 2.1302025336e-314, 2.130300805e-314, 4.2439917267e-314), LVParamParticle(2.368705076e-314, 2.1301986917e-314, 2.1303009475e-314, 1.69759663593e-313), LVParamParticle(2.368705076e-314, 2.1301986917e-314, 2.130384903e-314, 1.6975966607e-313), LVParamParticle(2.8911367736e-314, 0.0, 2.782597e-318, 0.0), LVParamParticle(2.8911367973e-314, 0.0, 2.782597e-318, 0.0)], [LVParamParticle(2.891136821e-314, 0.0, 2.782597e-318, 0.0), LVParamParticle(2.891136845e-314, 0.0, 2.782597e-318, 0.0), LVParamParticle(2.743555551e-314, 1.0e-323, 2.3623547277e-314, 5.0e-324), LVParamParticle(2.2050657357e-314, 2.7535577005e-314, 7.750384244575738e-304, 2.885677637e-314), LVParamParticle(2.8980604633e-314, 0.0, 2.7826e-318, 0.0), LVParamParticle(2.8911369396e-314, 0.0, 2.782597e-318, 0.0), LVParamParticle(2.8995638063e-314, 7.0e-323, 2.7826e-318, 7.0e-323), LVParamParticle(2.8980631115e-314, 5.0e-324, 2.7826e-318, 5.0e-324), LVParamParticle(2.898063151e-314, 5.0e-324, 2.7826e-318, 5.0e-324), LVParamParticle(2.8980631906e-314, 5.0e-324, 2.7826e-318, 5.0e-324)  …  LVParamParticle(1.5e-323, 2.361767841e-314, 2.3623547356e-314, 2.890552523e-314), LVParamParticle(2.7435616695e-314, 2.743561796e-314, 2.3617928367e-314, 0.0), LVParamParticle(1.5e-323, 2.371935704e-314, 2.3719397435e-314, 0.0), LVParamParticle(1.5e-323, 2.361767841e-314, 2.2050657357e-314, 2.9223027547e-314), LVParamParticle(1.5e-323, 2.361767841e-314, 2.3623547356e-314, 2.890552618e-314), LVParamParticle(1.5e-323, 2.361767841e-314, 2.3623547356e-314, 2.890552713e-314), LVParamParticle(2.7435618276e-314, 2.7435619857e-314, 2.92230232e-314, 0.0), LVParamParticle(1.5e-323, 2.361767841e-314, 2.2050657357e-314, 5.473882949e-314), LVParamParticle(2.890552808e-314, 2.371363007e-314, 5.4810397467e-314, 0.0), LVParamParticle(1.5e-323, 2.371935704e-314, 2.3719397435e-314, 0.0)], [LVParamParticle(1.5e-323, 2.361767841e-314, 2.2050657357e-314, 5.3142412954e-314), LVParamParticle(1.5e-323, 2.361767841e-314, 2.3623547356e-314, 2.890552871e-314), LVParamParticle(1.5e-323, 2.890552966e-314, 2.3719323523e-314, 2.1301391786e-314), LVParamParticle(1.5e-323, 2.361767841e-314, 2.3623547356e-314, 2.8905529343e-314), LVParamParticle(2.7435620174e-314, 2.7435621755e-314, 5.3142409396e-314, 0.0), LVParamParticle(1.5e-323, 2.361767841e-314, 2.2050657357e-314, 5.471460114e-314), LVParamParticle(2.8905530607e-314, 2.371363007e-314, 5.4810393673e-314, 0.0), LVParamParticle(1.5e-323, 2.361767841e-314, 2.2050657357e-314, 5.4706626844e-314), LVParamParticle(2.8905530924e-314, 2.371363007e-314, 5.48103898e-314, 0.0), LVParamParticle(1.5e-323, 2.361767841e-314, 2.2050657357e-314, 5.3235978948e-314)  …  LVParamParticle(1.5e-323, 2.361767841e-314, 2.3623547356e-314, 0.0), LVParamParticle(1.5e-323, 2.371935704e-314, 2.9288033385e-314, 0.0), LVParamParticle(1.5e-323, 2.361767841e-314, 2.3623547356e-314, 0.0), LVParamParticle(1.5e-323, 2.371935704e-314, 2.9288033385e-314, 0.0), LVParamParticle(1.5e-323, 2.361767841e-314, 2.3623547356e-314, 0.0), LVParamParticle(1.5e-323, 2.371935704e-314, 2.9288033385e-314, 0.0), LVParamParticle(1.5e-323, 2.361767841e-314, 2.3623547356e-314, 0.0), LVParamParticle(1.5e-323, 2.371935704e-314, 2.9288033385e-314, 0.0), LVParamParticle(1.5e-323, 2.361767841e-314, 2.3623547356e-314, 0.0), LVParamParticle(1.5e-323, 2.371935704e-314, 2.9288033385e-314, 0.0)], [LVParamParticle(1.5e-323, 2.361767841e-314, 2.3623547356e-314, 0.0), LVParamParticle(1.5e-323, 2.371935704e-314, 2.9288033385e-314, 0.0), LVParamParticle(1.5e-323, 2.361767841e-314, 2.3623547356e-314, 0.0), LVParamParticle(1.5e-323, 2.371935704e-314, 2.9288033385e-314, 0.0), LVParamParticle(1.5e-323, 2.361767841e-314, 2.3623547356e-314, 0.0), LVParamParticle(1.5e-323, 2.371935704e-314, 2.9288033385e-314, 0.0), LVParamParticle(1.5e-323, 2.361767841e-314, 2.3623547356e-314, 0.0), LVParamParticle(1.5e-323, 2.371935704e-314, 2.9288033385e-314, 0.0), LVParamParticle(1.5e-323, 2.361767841e-314, 2.3623547356e-314, 0.0), LVParamParticle(1.5e-323, 2.371935704e-314, 2.9288033385e-314, 0.0)  …  LVParamParticle(1.5e-323, 2.371935704e-314, 2.3301439005e-314, 0.0), LVParamParticle(1.5e-323, 2.361767841e-314, 2.3623547356e-314, 0.0), LVParamParticle(1.5e-323, 2.371935704e-314, 2.3301439005e-314, 0.0), LVParamParticle(1.5e-323, 2.361767841e-314, 2.3623547356e-314, 0.0), LVParamParticle(1.5e-323, 2.371935704e-314, 2.3301439005e-314, 0.0), LVParamParticle(1.5e-323, 2.361767841e-314, 2.3623547356e-314, 0.0), LVParamParticle(1.5e-323, 2.371935704e-314, 2.3301439005e-314, 0.0), LVParamParticle(1.5e-323, 2.361767841e-314, 2.3623547356e-314, 0.0), LVParamParticle(1.5e-323, 2.371935704e-314, 2.3301439005e-314, 0.0), LVParamParticle(1.5e-323, 2.361767841e-314, 2.3623547356e-314, 0.0)]], [[2.121995791e-314, 0.0, 0.0, 2.121995791e-314, 0.0, 6.79038653114e-313, 2.121995791e-314, 0.0, 0.0, 2.121995791e-314  …  2.862125575e-314, 1.6975966328e-313, 2.121995791e-314, 2.1219958127e-314, 2.862297632e-314, 2.862298158e-314, 2.8621255986e-314, 1.6975966329e-313, 4.2439915824e-314, 2.121995812e-314], [3.8195924246e-313, 2.1219958186e-314, 2.861673327e-314, 2.8616737854e-314, 2.862125883e-314, 1.6975966329e-313, 4.0317920037e-313, 2.121995819e-314, 2.8616743625e-314, 2.8616743625e-314  …  1.801087e-318, 1.91745e-318, 3.192376e-318, 3.24297e-318, 0.0, 0.0, 2.04899e-318, 2.16535e-318, 3.24297e-318, 3.29356e-318], [3.7857670944552465e-270, 6.9835074762917494e-251, 2.999393761874606e-241, 3.626044642969672e-217, 4.383619040952102e-193, 2.0522686070721683e-289, -2.786354567766531e-192, -2.9452547352451846e-304, 3.2439540824826436e178, -7.809795920742175e92  …  5.8115605295e-314, 2.121995791e-314, 2.8621341835e-314, 8.4879831644e-314, 2.8628741436e-314, 2.861692714e-314, 0.0, 2.8616925994e-314, 5.8115605295e-314, 0.0], [2.862134468e-314, 8.4879831644e-314, 2.8628752503e-314, 2.8628762187e-314, 2.862876104e-314, 2.861692714e-314, 5.8115605295e-314, 0.0, 2.8621344997e-314, 8.4879831644e-314  …  2.8621382704e-314, 2.8625815263e-314, 5.050349982497e-312, 2.8628812186e-314, 2.8621380965e-314, 2.862581542e-314, 4.64717078222e-312, 2.8628812186e-314, 0.0, 0.0], [5.0e-324, 1.012e-320, 5.811883194e-314, 5.0e-324, 1.0278417112e-314, NaN, 5.0e-324, NaN, 5.812131199e-314, 5.0e-324  …  0.0, 0.0, 0.0, 0.0, 0.0, 0.0, 0.0, 0.0, 0.0, 0.0], [0.0, 0.0, 0.0, 0.0, 0.0, 0.0, 0.0, 0.0, 0.0, 0.0  …  0.0, 0.0, 0.0, 0.0, 0.0, 0.0, 0.0, 0.0, 0.0, 0.0], [2.862134573e-314, 2.8621346835e-314, 2.0e-323, 2.8621347467e-314, 2.8621347783e-314, 2.5e-323, 2.8621348574e-314, 2.8621348584e-314, 2.0e-323, 0.0  …  2.5e-323, 2.86213432e-314, 2.862134321e-314, 2.5e-323, 0.0, 0.0, 2.5e-323, 0.0, 0.0, 2.5e-323], [2.862241133e-314, 2.862113483e-314, 2.5e-323, 2.862113656e-314, 2.862113657e-314, 2.5e-323, 0.0, 0.0, 2.5e-323, 0.0  …  0.0, 0.0, 2.863054545e-314, 2.8622396783e-314, 2.8622399155e-314, 2.8622400103e-314, 2.862240058e-314, 2.8622400736e-314, 2.8622401843e-314, 2.8622402e-314], [2.8630541653e-314, 2.8621190295e-314, 2.862119221e-314, 2.8621194405e-314, 2.8621158694e-314, 2.862119978e-314, 2.862116233e-314, 2.862120138e-314, 2.862120328e-314, 2.8621205472e-314  …  0.0, 0.0, 0.0, 0.0, 0.0, 0.0, 0.0, 0.0, 0.0, 0.0], [0.0, 0.0, 0.0, 0.0, 0.0, 0.0, 0.0, 0.0, 0.0, 0.0  …  5.8119276124e-314, 5.811928079e-314, 5.811928142e-314, 5.8121546454e-314, 5.811927881e-314, 0.0, 5.8119329404e-314, 5.812041603e-314, 0.0, 0.0], [5.811910142e-314, 0.0, 5.8119102687e-314, 5.811910474e-314, 5.8119105374e-314, 5.811910743e-314, 5.811910806e-314, 0.0, 5.8119112094e-314, 0.0  …  1.1236996359202407e-307, 2.863067335e-314, 5.8118953143e-314, 6.37e-321, 2.121995791e-314, 6.6e-321, 5.8118953123e-314, NaN, 2.121995791e-314, 6.6e-321], [7.405750956e-315, 0.0, 6.86e-321, 5.8118953123e-314, 7.401865466e-315, NaN, 6.877e-321, 5.8118953123e-314, 7.401865466e-315, 0.0  …  0.0, 0.0, 4.62661394799e-312, 2.8622359886e-314, 2.862887598e-314, 2.8623062606e-314, 4.796042049424e-312, 2.8622359886e-314, 2.8630719517e-314, 2.8623705287e-314]], [[936437088256, 5793230712, 5793372368, 5793391904, 970729717760, 5793230712, 5793235752, 5794921568, -9223370168544002047, 5793230712  …  0, 0, 21, 5794882400, 5794930288, 5794930288, 4294967312, 0, 5792077544, 0], [0, 0, 0, 0, 0, 0, 0, 0, 0, 0  …  0, 0, 0, 0, 0, 0, 0, 0, 0, 0], [-4096, 5793021440, -4096, 5793021440, -4096, 5794524016, -4096, 5794939592, -4096, 0  …  5792128240, 5794947656, 8589934594, 5792128240, -4096, 5794514200, 236223201339, 56, 5794515176, 5794515176], [8589934593, 5794526440, 5794512240, 5794520408, 158913789990, 0, 5794520408, 0, 5794948304, 8589934594  …  0, -1099511627776, 513, 4295163905, 0, 0, 0, 0, 0, 11763864516], [32, 0, 1026648178688, 5794825632, 5794957072, 5793722440, 1026497183745, 5794825632, 65428, 0  …  -4096, 0, 0, 0, 0, 0, 0, 0, 0, 0], [0, 0, 0, 0, 0, 0, 0, 0, -4096, 0  …  -4096, 5794912616, -4096, 5793353792, -4096, 5793355512, -4096, 5793357056, -4096, 5794914960], [-4096, 5005033552, -4096, 5795006648, -4096, 5005034664, -4096, 5794558608, -4096, 5005035552  …  -4096, 5794544168, -4096, 5794996928, -4096, 0, -4096, 5794983832, -4096, 5793498528], [-4096, 0, -4096, 5794822112, -4096, 5793378320, -4096, 5793379360, -4096, 5794822320  …  -4096, 17179869304, -4096, 545, -4096, 231, -4096, 243, -4096, 0], [-4096, 0, -4096, 5794815192, -4096, 17179869412, -4096, 17179869625, -4096, 574  …  -4096, 563, -4096, 0, -4096, 209, -4096, 638, -4096, 0], [-4096, 33, -4096, 187, -4096, 72, -4096, 595, -4096, 305  …  5795006392, 4298735616, 4161823309831, 65536, 5795006680, 0, 4161823309831, 0, 5794912448, 0], [1344324763649, 65536, 5794914720, 0, 1, 0, 5794914864, 0, 2048699400195, 65536  …  5794816024, 0, 0, 4294967295, 0, 0, 0, 4294967295, 0, 0]], [[5795018256, 5795020064, 4425051688, 5794942656, 5795017928, 144115188075855875, 5794944848, 0, 0, 528482304000  …  5795033267, 0, 0, 1030859259904, 5795025920, 5795020936, 5794927080, 1026564292608, 5795025920, 5795018328], [5793240548, 5792982182, 4294967301, 5792982532, 5792982534, 4294967301, 0, 0, 4294967301, 0  …  4294967301, 5793239172, 5793239206, 124554051589, 0, 0, 4294967301, 5793239972, 5793240038, 4294967301], [0, 4294967301, 5793243204, 5793243238, 6474289536565253, 5793243588, 5793243622, 3096602700939269, 0, 0  …  0, 0, -4294967290, 5793242532, 5793242534, 6, 0, 0, -4294967290, 0], [8589934598, 0, 0, 6, 0, 0, -4294967290, 5793019332, 5793019334, 6  …  0, -4294967292, 5793017760, 5793017956, -4294967293, 0, 0, -4294967293, 0, 0], [0, 0, -4294967296, 0, 0, 4294967303, 5793024416, 5793025728, -4294967289, 5793024416  …  4, 0, 0, 4, 0, 0, 4, 0, 0, 4], [0, 64, 9223372032559808596, -4096, -4096, 2147484672, 0, 7021786319683346271, 3551596, 5793509496  …  5793711296, 4682641216, -7998392667627061120, 4682032864, -6189349002283057024, 5793362272, -9223372036854775808, -486387625884647360, 9223372036854775801, -7998388643242704832], [-8070450497888190400, -4096, -954762979492773216, -8070450528653475584, -8070450493706469376, -3277978405458411256, 5793981632, -1, -954762949203853248, -1  …  12884901892, 4, 5794516904, 0, 5793599072, 8589934592, 5793228520, 5794522576, 5794520872, 120259084317], [-4096, 5794880512, -4096, 8589934592, -4096, 5794513040, -4096, 4294967299, -4096, 5792659880  …  0, 0, 5793607760, 17179869184, 0, 4422022868, 5793607792, 17179869185, 5793607472, 19327353172], [5793608336, 17179869184, 5793617950, 5793002048, 5793608368, 17179869184, -4096, 5793014398, 5793608416, 5787389440  …  11763449008, -4096, 5793616464, 17179869184, 4422589416, 5794833800, -4096, -4096, 127598849, 4294967557], [127598849, 4294967557, 5792944192, 11763971456, 5793005550, 0, 5793617088, 17179869184, -4096, 5793617990  …  34359738375, 51539607551, 60129542156, 81604378642, 103079215125, 925399580651028507, -4866545563146070291, -5327536803662900084, -6638459348580125230, 5424693310972640814], [0, 0, 0, 0, 0, 0, 0, 0, 0, 0  …  0, 0, 0, 0, 0, 0, 0, 0, 0, 0], [0, 0, 11762355480, -4294967294, 0, 0, 0, 0, 0, 0  …  0, 0, 0, 0, 0, 0, 0, 0, 0, 0]])"
      ]
     },
     "metadata": {},
     "output_type": "display_data"
    }
   ],
   "source": [
    "smcio = SMCIO{model.particle, model.pScratch}(N, n, threads, saveall, κ)"
   ]
  },
  {
   "attachments": {},
   "cell_type": "markdown",
   "metadata": {},
   "source": [
    "Finally, we can run the SMC algorithm with our settings."
   ]
  },
  {
   "cell_type": "code",
   "execution_count": 14,
   "metadata": {},
   "outputs": [],
   "source": [
    "smc!(model, smcio)"
   ]
  },
  {
   "attachments": {},
   "cell_type": "markdown",
   "metadata": {},
   "source": [
    "We can extract the terminal particles as a matrix and calculate the mean and variance."
   ]
  },
  {
   "cell_type": "code",
   "execution_count": 21,
   "metadata": {},
   "outputs": [
    {
     "data": {
      "text/plain": [
       "1024×4 Matrix{Float64}:\n",
       " 0.280254  0.0433527  0.543171  4.98116\n",
       " 0.280254  0.0433527  0.543171  4.98116\n",
       " 0.280254  0.0433527  0.543171  4.98116\n",
       " 0.280254  0.0433527  0.543171  4.98116\n",
       " 0.280254  0.0433527  0.543171  4.98116\n",
       " 0.280254  0.0433527  0.543171  4.98116\n",
       " 0.280254  0.0433527  0.543171  4.98116\n",
       " 0.280254  0.0433527  0.543171  4.98116\n",
       " 0.280254  0.0433527  0.543171  4.98116\n",
       " 0.280254  0.0433527  0.543171  4.98116\n",
       " ⋮                              \n",
       " 0.280254  0.0433527  0.543171  4.98116\n",
       " 0.280254  0.0433527  0.543171  4.98116\n",
       " 0.250662  0.0599671  0.690241  2.62888\n",
       " 0.250662  0.0599671  0.690241  2.62888\n",
       " 0.250662  0.0599671  0.690241  2.62888\n",
       " 0.250662  0.0599671  0.690241  2.62888\n",
       " 0.250662  0.0599671  0.690241  2.62888\n",
       " 0.360486  0.0382264  0.398661  2.87234\n",
       " 0.360486  0.0382264  0.398661  2.87234"
      ]
     },
     "metadata": {},
     "output_type": "display_data"
    }
   ],
   "source": [
    "\n",
    "ps = Matrix(hcat(vec.(smcio.zetas)...)')\n",
    "ws = Weights(smcio.ws)\n",
    "\n",
    "# mean and cov\n",
    "μ = mean(ps, ws, dims = 1)\n",
    "Σ = cov(ps, ws)"
   ]
  },
  {
   "attachments": {},
   "cell_type": "markdown",
   "metadata": {},
   "source": [
    "And there is functionality in SequentialMonteCarlo.jl to do this automatically."
   ]
  },
  {
   "cell_type": "code",
   "execution_count": 16,
   "metadata": {},
   "outputs": [
    {
     "data": {
      "text/plain": [
       "4-element Vector{Float64}:\n",
       " 0.28027370922755945\n",
       " 0.04335757243875815\n",
       " 0.5431742153076241\n",
       " 4.9793225862693635"
      ]
     },
     "metadata": {},
     "output_type": "display_data"
    }
   ],
   "source": [
    "SequentialMonteCarlo.eta(smcio, p -> vec(p), true, n)"
   ]
  },
  {
   "attachments": {},
   "cell_type": "markdown",
   "metadata": {},
   "source": [
    "We can look at density plots too"
   ]
  },
  {
   "cell_type": "code",
   "execution_count": 25,
   "metadata": {},
   "outputs": [
    {
     "data": {
      "image/png": "[encoded data removed]",
      "image/svg+xml": [
       "<?xml version=\"1.0\" encoding=\"utf-8\"?>\n",
       "<svg xmlns=\"http://www.w3.org/2000/svg\" xmlns:xlink=\"http://www.w3.org/1999/xlink\" width=\"600\" height=\"400\" viewBox=\"0 0 2400 1600\">\n",
       "<defs>\n",
       "  <clipPath id=\"clip680\">\n",
       "    <rect x=\"0\" y=\"0\" width=\"2400\" height=\"1600\"/>\n",
       "  </clipPath>\n",
       "</defs>\n",
       "<path clip-path=\"url(#clip680)\" d=\"M0 1600 L2400 1600 L2400 0 L0 0  Z\" fill=\"#ffffff\" fill-rule=\"evenodd\" fill-opacity=\"1\"/>\n",
       "<defs>\n",
       "  <clipPath id=\"clip681\">\n",
       "    <rect x=\"480\" y=\"0\" width=\"1681\" height=\"1600\"/>\n",
       "  </clipPath>\n",
       "</defs>\n",
       "<path clip-path=\"url(#clip680)\" d=\"M172.015 1486.45 L2352.76 1486.45 L2352.76 47.2441 L172.015 47.2441  Z\" fill=\"#ffffff\" fill-rule=\"evenodd\" fill-opacity=\"1\"/>\n",
       "<defs>\n",
       "  <clipPath id=\"clip682\">\n",
       "    <rect x=\"172\" y=\"47\" width=\"2182\" height=\"1440\"/>\n",
       "  </clipPath>\n",
       "</defs>\n",
       "<polyline clip-path=\"url(#clip682)\" style=\"stroke:#000000; stroke-linecap:round; stroke-linejoin:round; stroke-width:2; stroke-opacity:0.1; fill:none\" points=\"286.98,1486.45 286.98,47.2441 \"/>\n",
       "<polyline clip-path=\"url(#clip682)\" style=\"stroke:#000000; stroke-linecap:round; stroke-linejoin:round; stroke-width:2; stroke-opacity:0.1; fill:none\" points=\"725.765,1486.45 725.765,47.2441 \"/>\n",
       "<polyline clip-path=\"url(#clip682)\" style=\"stroke:#000000; stroke-linecap:round; stroke-linejoin:round; stroke-width:2; stroke-opacity:0.1; fill:none\" points=\"1164.55,1486.45 1164.55,47.2441 \"/>\n",
       "<polyline clip-path=\"url(#clip682)\" style=\"stroke:#000000; stroke-linecap:round; stroke-linejoin:round; stroke-width:2; stroke-opacity:0.1; fill:none\" points=\"1603.34,1486.45 1603.34,47.2441 \"/>\n",
       "<polyline clip-path=\"url(#clip682)\" style=\"stroke:#000000; stroke-linecap:round; stroke-linejoin:round; stroke-width:2; stroke-opacity:0.1; fill:none\" points=\"2042.12,1486.45 2042.12,47.2441 \"/>\n",
       "<polyline clip-path=\"url(#clip680)\" style=\"stroke:#000000; stroke-linecap:round; stroke-linejoin:round; stroke-width:4; stroke-opacity:1; fill:none\" points=\"172.015,1486.45 2352.76,1486.45 \"/>\n",
       "<polyline clip-path=\"url(#clip680)\" style=\"stroke:#000000; stroke-linecap:round; stroke-linejoin:round; stroke-width:4; stroke-opacity:1; fill:none\" points=\"286.98,1486.45 286.98,1467.55 \"/>\n",
       "<polyline clip-path=\"url(#clip680)\" style=\"stroke:#000000; stroke-linecap:round; stroke-linejoin:round; stroke-width:4; stroke-opacity:1; fill:none\" points=\"725.765,1486.45 725.765,1467.55 \"/>\n",
       "<polyline clip-path=\"url(#clip680)\" style=\"stroke:#000000; stroke-linecap:round; stroke-linejoin:round; stroke-width:4; stroke-opacity:1; fill:none\" points=\"1164.55,1486.45 1164.55,1467.55 \"/>\n",
       "<polyline clip-path=\"url(#clip680)\" style=\"stroke:#000000; stroke-linecap:round; stroke-linejoin:round; stroke-width:4; stroke-opacity:1; fill:none\" points=\"1603.34,1486.45 1603.34,1467.55 \"/>\n",
       "<polyline clip-path=\"url(#clip680)\" style=\"stroke:#000000; stroke-linecap:round; stroke-linejoin:round; stroke-width:4; stroke-opacity:1; fill:none\" points=\"2042.12,1486.45 2042.12,1467.55 \"/>\n",
       "<path clip-path=\"url(#clip680)\" d=\"M234.202 1517.37 Q230.591 1517.37 228.762 1520.93 Q226.957 1524.47 226.957 1531.6 Q226.957 1538.71 228.762 1542.27 Q230.591 1545.82 234.202 1545.82 Q237.836 1545.82 239.642 1542.27 Q241.471 1538.71 241.471 1531.6 Q241.471 1524.47 239.642 1520.93 Q237.836 1517.37 234.202 1517.37 M234.202 1513.66 Q240.012 1513.66 243.068 1518.27 Q246.147 1522.85 246.147 1531.6 Q246.147 1540.33 243.068 1544.94 Q240.012 1549.52 234.202 1549.52 Q228.392 1549.52 225.313 1544.94 Q222.258 1540.33 222.258 1531.6 Q222.258 1522.85 225.313 1518.27 Q228.392 1513.66 234.202 1513.66 Z\" fill=\"#000000\" fill-rule=\"nonzero\" fill-opacity=\"1\" /><path clip-path=\"url(#clip680)\" d=\"M254.364 1542.97 L259.248 1542.97 L259.248 1548.85 L254.364 1548.85 L254.364 1542.97 Z\" fill=\"#000000\" fill-rule=\"nonzero\" fill-opacity=\"1\" /><path clip-path=\"url(#clip680)\" d=\"M273.461 1544.91 L289.781 1544.91 L289.781 1548.85 L267.836 1548.85 L267.836 1544.91 Q270.498 1542.16 275.082 1537.53 Q279.688 1532.88 280.869 1531.53 Q283.114 1529.01 283.994 1527.27 Q284.896 1525.51 284.896 1523.82 Q284.896 1521.07 282.952 1519.33 Q281.031 1517.6 277.929 1517.6 Q275.73 1517.6 273.276 1518.36 Q270.846 1519.13 268.068 1520.68 L268.068 1515.95 Q270.892 1514.82 273.346 1514.24 Q275.799 1513.66 277.836 1513.66 Q283.207 1513.66 286.401 1516.35 Q289.595 1519.03 289.595 1523.52 Q289.595 1525.65 288.785 1527.57 Q287.998 1529.47 285.892 1532.07 Q285.313 1532.74 282.211 1535.95 Q279.109 1539.15 273.461 1544.91 Z\" fill=\"#000000\" fill-rule=\"nonzero\" fill-opacity=\"1\" /><path clip-path=\"url(#clip680)\" d=\"M299.642 1514.29 L317.998 1514.29 L317.998 1518.22 L303.924 1518.22 L303.924 1526.7 Q304.943 1526.35 305.961 1526.19 Q306.98 1526 307.998 1526 Q313.785 1526 317.165 1529.17 Q320.544 1532.34 320.544 1537.76 Q320.544 1543.34 317.072 1546.44 Q313.6 1549.52 307.281 1549.52 Q305.105 1549.52 302.836 1549.15 Q300.591 1548.78 298.183 1548.04 L298.183 1543.34 Q300.267 1544.47 302.489 1545.03 Q304.711 1545.58 307.188 1545.58 Q311.193 1545.58 313.531 1543.48 Q315.868 1541.37 315.868 1537.76 Q315.868 1534.15 313.531 1532.04 Q311.193 1529.94 307.188 1529.94 Q305.313 1529.94 303.438 1530.35 Q301.586 1530.77 299.642 1531.65 L299.642 1514.29 Z\" fill=\"#000000\" fill-rule=\"nonzero\" fill-opacity=\"1\" /><path clip-path=\"url(#clip680)\" d=\"M339.757 1517.37 Q336.146 1517.37 334.317 1520.93 Q332.512 1524.47 332.512 1531.6 Q332.512 1538.71 334.317 1542.27 Q336.146 1545.82 339.757 1545.82 Q343.391 1545.82 345.197 1542.27 Q347.026 1538.71 347.026 1531.6 Q347.026 1524.47 345.197 1520.93 Q343.391 1517.37 339.757 1517.37 M339.757 1513.66 Q345.567 1513.66 348.623 1518.27 Q351.702 1522.85 351.702 1531.6 Q351.702 1540.33 348.623 1544.94 Q345.567 1549.52 339.757 1549.52 Q333.947 1549.52 330.868 1544.94 Q327.813 1540.33 327.813 1531.6 Q327.813 1522.85 330.868 1518.27 Q333.947 1513.66 339.757 1513.66 Z\" fill=\"#000000\" fill-rule=\"nonzero\" fill-opacity=\"1\" /><path clip-path=\"url(#clip680)\" d=\"M673.485 1517.37 Q669.874 1517.37 668.046 1520.93 Q666.24 1524.47 666.24 1531.6 Q666.24 1538.71 668.046 1542.27 Q669.874 1545.82 673.485 1545.82 Q677.12 1545.82 678.925 1542.27 Q680.754 1538.71 680.754 1531.6 Q680.754 1524.47 678.925 1520.93 Q677.12 1517.37 673.485 1517.37 M673.485 1513.66 Q679.296 1513.66 682.351 1518.27 Q685.43 1522.85 685.43 1531.6 Q685.43 1540.33 682.351 1544.94 Q679.296 1549.52 673.485 1549.52 Q667.675 1549.52 664.597 1544.94 Q661.541 1540.33 661.541 1531.6 Q661.541 1522.85 664.597 1518.27 Q667.675 1513.66 673.485 1513.66 Z\" fill=\"#000000\" fill-rule=\"nonzero\" fill-opacity=\"1\" /><path clip-path=\"url(#clip680)\" d=\"M693.647 1542.97 L698.532 1542.97 L698.532 1548.85 L693.647 1548.85 L693.647 1542.97 Z\" fill=\"#000000\" fill-rule=\"nonzero\" fill-opacity=\"1\" /><path clip-path=\"url(#clip680)\" d=\"M712.744 1544.91 L729.064 1544.91 L729.064 1548.85 L707.119 1548.85 L707.119 1544.91 Q709.781 1542.16 714.365 1537.53 Q718.971 1532.88 720.152 1531.53 Q722.397 1529.01 723.277 1527.27 Q724.18 1525.51 724.18 1523.82 Q724.18 1521.07 722.235 1519.33 Q720.314 1517.6 717.212 1517.6 Q715.013 1517.6 712.559 1518.36 Q710.129 1519.13 707.351 1520.68 L707.351 1515.95 Q710.175 1514.82 712.629 1514.24 Q715.082 1513.66 717.119 1513.66 Q722.49 1513.66 725.684 1516.35 Q728.879 1519.03 728.879 1523.52 Q728.879 1525.65 728.068 1527.57 Q727.281 1529.47 725.175 1532.07 Q724.596 1532.74 721.494 1535.95 Q718.393 1539.15 712.744 1544.91 Z\" fill=\"#000000\" fill-rule=\"nonzero\" fill-opacity=\"1\" /><path clip-path=\"url(#clip680)\" d=\"M737.698 1514.29 L759.92 1514.29 L759.92 1516.28 L747.374 1548.85 L742.49 1548.85 L754.295 1518.22 L737.698 1518.22 L737.698 1514.29 Z\" fill=\"#000000\" fill-rule=\"nonzero\" fill-opacity=\"1\" /><path clip-path=\"url(#clip680)\" d=\"M769.087 1514.29 L787.443 1514.29 L787.443 1518.22 L773.369 1518.22 L773.369 1526.7 Q774.388 1526.35 775.406 1526.19 Q776.425 1526 777.443 1526 Q783.23 1526 786.61 1529.17 Q789.989 1532.34 789.989 1537.76 Q789.989 1543.34 786.517 1546.44 Q783.045 1549.52 776.726 1549.52 Q774.55 1549.52 772.281 1549.15 Q770.036 1548.78 767.628 1548.04 L767.628 1543.34 Q769.712 1544.47 771.934 1545.03 Q774.156 1545.58 776.633 1545.58 Q780.638 1545.58 782.976 1543.48 Q785.313 1541.37 785.313 1537.76 Q785.313 1534.15 782.976 1532.04 Q780.638 1529.94 776.633 1529.94 Q774.758 1529.94 772.883 1530.35 Q771.031 1530.77 769.087 1531.65 L769.087 1514.29 Z\" fill=\"#000000\" fill-rule=\"nonzero\" fill-opacity=\"1\" /><path clip-path=\"url(#clip680)\" d=\"M1111.77 1517.37 Q1108.16 1517.37 1106.33 1520.93 Q1104.53 1524.47 1104.53 1531.6 Q1104.53 1538.71 1106.33 1542.27 Q1108.16 1545.82 1111.77 1545.82 Q1115.41 1545.82 1117.21 1542.27 Q1119.04 1538.71 1119.04 1531.6 Q1119.04 1524.47 1117.21 1520.93 Q1115.41 1517.37 1111.77 1517.37 M1111.77 1513.66 Q1117.58 1513.66 1120.64 1518.27 Q1123.72 1522.85 1123.72 1531.6 Q1123.72 1540.33 1120.64 1544.94 Q1117.58 1549.52 1111.77 1549.52 Q1105.96 1549.52 1102.88 1544.94 Q1099.83 1540.33 1099.83 1531.6 Q1099.83 1522.85 1102.88 1518.27 Q1105.96 1513.66 1111.77 1513.66 Z\" fill=\"#000000\" fill-rule=\"nonzero\" fill-opacity=\"1\" /><path clip-path=\"url(#clip680)\" d=\"M1131.94 1542.97 L1136.82 1542.97 L1136.82 1548.85 L1131.94 1548.85 L1131.94 1542.97 Z\" fill=\"#000000\" fill-rule=\"nonzero\" fill-opacity=\"1\" /><path clip-path=\"url(#clip680)\" d=\"M1161.17 1530.21 Q1164.53 1530.93 1166.4 1533.2 Q1168.3 1535.47 1168.3 1538.8 Q1168.3 1543.92 1164.78 1546.72 Q1161.26 1549.52 1154.78 1549.52 Q1152.61 1549.52 1150.29 1549.08 Q1148 1548.66 1145.55 1547.81 L1145.55 1543.29 Q1147.49 1544.43 1149.81 1545.01 Q1152.12 1545.58 1154.64 1545.58 Q1159.04 1545.58 1161.33 1543.85 Q1163.65 1542.11 1163.65 1538.8 Q1163.65 1535.75 1161.5 1534.03 Q1159.37 1532.3 1155.55 1532.3 L1151.52 1532.3 L1151.52 1528.45 L1155.73 1528.45 Q1159.18 1528.45 1161.01 1527.09 Q1162.84 1525.7 1162.84 1523.11 Q1162.84 1520.45 1160.94 1519.03 Q1159.06 1517.6 1155.55 1517.6 Q1153.62 1517.6 1151.43 1518.01 Q1149.23 1518.43 1146.59 1519.31 L1146.59 1515.14 Q1149.25 1514.4 1151.56 1514.03 Q1153.9 1513.66 1155.96 1513.66 Q1161.29 1513.66 1164.39 1516.09 Q1167.49 1518.5 1167.49 1522.62 Q1167.49 1525.49 1165.85 1527.48 Q1164.2 1529.45 1161.17 1530.21 Z\" fill=\"#000000\" fill-rule=\"nonzero\" fill-opacity=\"1\" /><path clip-path=\"url(#clip680)\" d=\"M1187.17 1517.37 Q1183.56 1517.37 1181.73 1520.93 Q1179.92 1524.47 1179.92 1531.6 Q1179.92 1538.71 1181.73 1542.27 Q1183.56 1545.82 1187.17 1545.82 Q1190.8 1545.82 1192.61 1542.27 Q1194.43 1538.71 1194.43 1531.6 Q1194.43 1524.47 1192.61 1520.93 Q1190.8 1517.37 1187.17 1517.37 M1187.17 1513.66 Q1192.98 1513.66 1196.03 1518.27 Q1199.11 1522.85 1199.11 1531.6 Q1199.11 1540.33 1196.03 1544.94 Q1192.98 1549.52 1187.17 1549.52 Q1181.36 1549.52 1178.28 1544.94 Q1175.22 1540.33 1175.22 1531.6 Q1175.22 1522.85 1178.28 1518.27 Q1181.36 1513.66 1187.17 1513.66 Z\" fill=\"#000000\" fill-rule=\"nonzero\" fill-opacity=\"1\" /><path clip-path=\"url(#clip680)\" d=\"M1217.33 1517.37 Q1213.72 1517.37 1211.89 1520.93 Q1210.08 1524.47 1210.08 1531.6 Q1210.08 1538.71 1211.89 1542.27 Q1213.72 1545.82 1217.33 1545.82 Q1220.96 1545.82 1222.77 1542.27 Q1224.6 1538.71 1224.6 1531.6 Q1224.6 1524.47 1222.77 1520.93 Q1220.96 1517.37 1217.33 1517.37 M1217.33 1513.66 Q1223.14 1513.66 1226.19 1518.27 Q1229.27 1522.85 1229.27 1531.6 Q1229.27 1540.33 1226.19 1544.94 Q1223.14 1549.52 1217.33 1549.52 Q1211.52 1549.52 1208.44 1544.94 Q1205.38 1540.33 1205.38 1531.6 Q1205.38 1522.85 1208.44 1518.27 Q1211.52 1513.66 1217.33 1513.66 Z\" fill=\"#000000\" fill-rule=\"nonzero\" fill-opacity=\"1\" /><path clip-path=\"url(#clip680)\" d=\"M1551.06 1517.37 Q1547.45 1517.37 1545.62 1520.93 Q1543.81 1524.47 1543.81 1531.6 Q1543.81 1538.71 1545.62 1542.27 Q1547.45 1545.82 1551.06 1545.82 Q1554.69 1545.82 1556.5 1542.27 Q1558.32 1538.71 1558.32 1531.6 Q1558.32 1524.47 1556.5 1520.93 Q1554.69 1517.37 1551.06 1517.37 M1551.06 1513.66 Q1556.87 1513.66 1559.92 1518.27 Q1563 1522.85 1563 1531.6 Q1563 1540.33 1559.92 1544.94 Q1556.87 1549.52 1551.06 1549.52 Q1545.25 1549.52 1542.17 1544.94 Q1539.11 1540.33 1539.11 1531.6 Q1539.11 1522.85 1542.17 1518.27 Q1545.25 1513.66 1551.06 1513.66 Z\" fill=\"#000000\" fill-rule=\"nonzero\" fill-opacity=\"1\" /><path clip-path=\"url(#clip680)\" d=\"M1571.22 1542.97 L1576.1 1542.97 L1576.1 1548.85 L1571.22 1548.85 L1571.22 1542.97 Z\" fill=\"#000000\" fill-rule=\"nonzero\" fill-opacity=\"1\" /><path clip-path=\"url(#clip680)\" d=\"M1600.45 1530.21 Q1603.81 1530.93 1605.69 1533.2 Q1607.58 1535.47 1607.58 1538.8 Q1607.58 1543.92 1604.07 1546.72 Q1600.55 1549.52 1594.07 1549.52 Q1591.89 1549.52 1589.57 1549.08 Q1587.28 1548.66 1584.83 1547.81 L1584.83 1543.29 Q1586.77 1544.43 1589.09 1545.01 Q1591.4 1545.58 1593.93 1545.58 Q1598.32 1545.58 1600.62 1543.85 Q1602.93 1542.11 1602.93 1538.8 Q1602.93 1535.75 1600.78 1534.03 Q1598.65 1532.3 1594.83 1532.3 L1590.8 1532.3 L1590.8 1528.45 L1595.01 1528.45 Q1598.46 1528.45 1600.29 1527.09 Q1602.12 1525.7 1602.12 1523.11 Q1602.12 1520.45 1600.22 1519.03 Q1598.35 1517.6 1594.83 1517.6 Q1592.91 1517.6 1590.71 1518.01 Q1588.51 1518.43 1585.87 1519.31 L1585.87 1515.14 Q1588.53 1514.4 1590.85 1514.03 Q1593.19 1513.66 1595.25 1513.66 Q1600.57 1513.66 1603.67 1516.09 Q1606.77 1518.5 1606.77 1522.62 Q1606.77 1525.49 1605.13 1527.48 Q1603.49 1529.45 1600.45 1530.21 Z\" fill=\"#000000\" fill-rule=\"nonzero\" fill-opacity=\"1\" /><path clip-path=\"url(#clip680)\" d=\"M1620.48 1544.91 L1636.8 1544.91 L1636.8 1548.85 L1614.85 1548.85 L1614.85 1544.91 Q1617.51 1542.16 1622.1 1537.53 Q1626.7 1532.88 1627.88 1531.53 Q1630.13 1529.01 1631.01 1527.27 Q1631.91 1525.51 1631.91 1523.82 Q1631.91 1521.07 1629.97 1519.33 Q1628.05 1517.6 1624.94 1517.6 Q1622.75 1517.6 1620.29 1518.36 Q1617.86 1519.13 1615.08 1520.68 L1615.08 1515.95 Q1617.91 1514.82 1620.36 1514.24 Q1622.82 1513.66 1624.85 1513.66 Q1630.22 1513.66 1633.42 1516.35 Q1636.61 1519.03 1636.61 1523.52 Q1636.61 1525.65 1635.8 1527.57 Q1635.01 1529.47 1632.91 1532.07 Q1632.33 1532.74 1629.23 1535.95 Q1626.13 1539.15 1620.48 1544.91 Z\" fill=\"#000000\" fill-rule=\"nonzero\" fill-opacity=\"1\" /><path clip-path=\"url(#clip680)\" d=\"M1646.66 1514.29 L1665.01 1514.29 L1665.01 1518.22 L1650.94 1518.22 L1650.94 1526.7 Q1651.96 1526.35 1652.98 1526.19 Q1654 1526 1655.01 1526 Q1660.8 1526 1664.18 1529.17 Q1667.56 1532.34 1667.56 1537.76 Q1667.56 1543.34 1664.09 1546.44 Q1660.62 1549.52 1654.3 1549.52 Q1652.12 1549.52 1649.85 1549.15 Q1647.61 1548.78 1645.2 1548.04 L1645.2 1543.34 Q1647.28 1544.47 1649.5 1545.03 Q1651.73 1545.58 1654.2 1545.58 Q1658.21 1545.58 1660.55 1543.48 Q1662.88 1541.37 1662.88 1537.76 Q1662.88 1534.15 1660.55 1532.04 Q1658.21 1529.94 1654.2 1529.94 Q1652.33 1529.94 1650.45 1530.35 Q1648.6 1530.77 1646.66 1531.65 L1646.66 1514.29 Z\" fill=\"#000000\" fill-rule=\"nonzero\" fill-opacity=\"1\" /><path clip-path=\"url(#clip680)\" d=\"M1989.34 1517.37 Q1985.73 1517.37 1983.9 1520.93 Q1982.1 1524.47 1982.1 1531.6 Q1982.1 1538.71 1983.9 1542.27 Q1985.73 1545.82 1989.34 1545.82 Q1992.98 1545.82 1994.78 1542.27 Q1996.61 1538.71 1996.61 1531.6 Q1996.61 1524.47 1994.78 1520.93 Q1992.98 1517.37 1989.34 1517.37 M1989.34 1513.66 Q1995.15 1513.66 1998.21 1518.27 Q2001.29 1522.85 2001.29 1531.6 Q2001.29 1540.33 1998.21 1544.94 Q1995.15 1549.52 1989.34 1549.52 Q1983.53 1549.52 1980.46 1544.94 Q1977.4 1540.33 1977.4 1531.6 Q1977.4 1522.85 1980.46 1518.27 Q1983.53 1513.66 1989.34 1513.66 Z\" fill=\"#000000\" fill-rule=\"nonzero\" fill-opacity=\"1\" /><path clip-path=\"url(#clip680)\" d=\"M2009.51 1542.97 L2014.39 1542.97 L2014.39 1548.85 L2009.51 1548.85 L2009.51 1542.97 Z\" fill=\"#000000\" fill-rule=\"nonzero\" fill-opacity=\"1\" /><path clip-path=\"url(#clip680)\" d=\"M2038.74 1530.21 Q2042.1 1530.93 2043.97 1533.2 Q2045.87 1535.47 2045.87 1538.8 Q2045.87 1543.92 2042.35 1546.72 Q2038.83 1549.52 2032.35 1549.52 Q2030.18 1549.52 2027.86 1549.08 Q2025.57 1548.66 2023.12 1547.81 L2023.12 1543.29 Q2025.06 1544.43 2027.38 1545.01 Q2029.69 1545.58 2032.21 1545.58 Q2036.61 1545.58 2038.9 1543.85 Q2041.22 1542.11 2041.22 1538.8 Q2041.22 1535.75 2039.07 1534.03 Q2036.94 1532.3 2033.12 1532.3 L2029.09 1532.3 L2029.09 1528.45 L2033.3 1528.45 Q2036.75 1528.45 2038.58 1527.09 Q2040.41 1525.7 2040.41 1523.11 Q2040.41 1520.45 2038.51 1519.03 Q2036.64 1517.6 2033.12 1517.6 Q2031.2 1517.6 2029 1518.01 Q2026.8 1518.43 2024.16 1519.31 L2024.16 1515.14 Q2026.82 1514.4 2029.14 1514.03 Q2031.47 1513.66 2033.53 1513.66 Q2038.86 1513.66 2041.96 1516.09 Q2045.06 1518.5 2045.06 1522.62 Q2045.06 1525.49 2043.42 1527.48 Q2041.77 1529.45 2038.74 1530.21 Z\" fill=\"#000000\" fill-rule=\"nonzero\" fill-opacity=\"1\" /><path clip-path=\"url(#clip680)\" d=\"M2054.78 1514.29 L2073.14 1514.29 L2073.14 1518.22 L2059.07 1518.22 L2059.07 1526.7 Q2060.08 1526.35 2061.1 1526.19 Q2062.12 1526 2063.14 1526 Q2068.93 1526 2072.31 1529.17 Q2075.69 1532.34 2075.69 1537.76 Q2075.69 1543.34 2072.21 1546.44 Q2068.74 1549.52 2062.42 1549.52 Q2060.25 1549.52 2057.98 1549.15 Q2055.73 1548.78 2053.33 1548.04 L2053.33 1543.34 Q2055.41 1544.47 2057.63 1545.03 Q2059.85 1545.58 2062.33 1545.58 Q2066.33 1545.58 2068.67 1543.48 Q2071.01 1541.37 2071.01 1537.76 Q2071.01 1534.15 2068.67 1532.04 Q2066.33 1529.94 2062.33 1529.94 Q2060.45 1529.94 2058.58 1530.35 Q2056.73 1530.77 2054.78 1531.65 L2054.78 1514.29 Z\" fill=\"#000000\" fill-rule=\"nonzero\" fill-opacity=\"1\" /><path clip-path=\"url(#clip680)\" d=\"M2094.9 1517.37 Q2091.29 1517.37 2089.46 1520.93 Q2087.65 1524.47 2087.65 1531.6 Q2087.65 1538.71 2089.46 1542.27 Q2091.29 1545.82 2094.9 1545.82 Q2098.53 1545.82 2100.34 1542.27 Q2102.17 1538.71 2102.17 1531.6 Q2102.17 1524.47 2100.34 1520.93 Q2098.53 1517.37 2094.9 1517.37 M2094.9 1513.66 Q2100.71 1513.66 2103.76 1518.27 Q2106.84 1522.85 2106.84 1531.6 Q2106.84 1540.33 2103.76 1544.94 Q2100.71 1549.52 2094.9 1549.52 Q2089.09 1549.52 2086.01 1544.94 Q2082.95 1540.33 2082.95 1531.6 Q2082.95 1522.85 2086.01 1518.27 Q2089.09 1513.66 2094.9 1513.66 Z\" fill=\"#000000\" fill-rule=\"nonzero\" fill-opacity=\"1\" /><polyline clip-path=\"url(#clip682)\" style=\"stroke:#000000; stroke-linecap:round; stroke-linejoin:round; stroke-width:2; stroke-opacity:0.1; fill:none\" points=\"172.015,1445.72 2352.76,1445.72 \"/>\n",
       "<polyline clip-path=\"url(#clip682)\" style=\"stroke:#000000; stroke-linecap:round; stroke-linejoin:round; stroke-width:2; stroke-opacity:0.1; fill:none\" points=\"172.015,1100.03 2352.76,1100.03 \"/>\n",
       "<polyline clip-path=\"url(#clip682)\" style=\"stroke:#000000; stroke-linecap:round; stroke-linejoin:round; stroke-width:2; stroke-opacity:0.1; fill:none\" points=\"172.015,754.341 2352.76,754.341 \"/>\n",
       "<polyline clip-path=\"url(#clip682)\" style=\"stroke:#000000; stroke-linecap:round; stroke-linejoin:round; stroke-width:2; stroke-opacity:0.1; fill:none\" points=\"172.015,408.653 2352.76,408.653 \"/>\n",
       "<polyline clip-path=\"url(#clip682)\" style=\"stroke:#000000; stroke-linecap:round; stroke-linejoin:round; stroke-width:2; stroke-opacity:0.1; fill:none\" points=\"172.015,62.9657 2352.76,62.9657 \"/>\n",
       "<polyline clip-path=\"url(#clip680)\" style=\"stroke:#000000; stroke-linecap:round; stroke-linejoin:round; stroke-width:4; stroke-opacity:1; fill:none\" points=\"172.015,1486.45 172.015,47.2441 \"/>\n",
       "<polyline clip-path=\"url(#clip680)\" style=\"stroke:#000000; stroke-linecap:round; stroke-linejoin:round; stroke-width:4; stroke-opacity:1; fill:none\" points=\"172.015,1445.72 190.912,1445.72 \"/>\n",
       "<polyline clip-path=\"url(#clip680)\" style=\"stroke:#000000; stroke-linecap:round; stroke-linejoin:round; stroke-width:4; stroke-opacity:1; fill:none\" points=\"172.015,1100.03 190.912,1100.03 \"/>\n",
       "<polyline clip-path=\"url(#clip680)\" style=\"stroke:#000000; stroke-linecap:round; stroke-linejoin:round; stroke-width:4; stroke-opacity:1; fill:none\" points=\"172.015,754.341 190.912,754.341 \"/>\n",
       "<polyline clip-path=\"url(#clip680)\" style=\"stroke:#000000; stroke-linecap:round; stroke-linejoin:round; stroke-width:4; stroke-opacity:1; fill:none\" points=\"172.015,408.653 190.912,408.653 \"/>\n",
       "<polyline clip-path=\"url(#clip680)\" style=\"stroke:#000000; stroke-linecap:round; stroke-linejoin:round; stroke-width:4; stroke-opacity:1; fill:none\" points=\"172.015,62.9657 190.912,62.9657 \"/>\n",
       "<path clip-path=\"url(#clip680)\" d=\"M124.07 1431.51 Q120.459 1431.51 118.631 1435.08 Q116.825 1438.62 116.825 1445.75 Q116.825 1452.86 118.631 1456.42 Q120.459 1459.96 124.07 1459.96 Q127.705 1459.96 129.51 1456.42 Q131.339 1452.86 131.339 1445.75 Q131.339 1438.62 129.51 1435.08 Q127.705 1431.51 124.07 1431.51 M124.07 1427.81 Q129.881 1427.81 132.936 1432.42 Q136.015 1437 136.015 1445.75 Q136.015 1454.48 132.936 1459.08 Q129.881 1463.67 124.07 1463.67 Q118.26 1463.67 115.182 1459.08 Q112.126 1454.48 112.126 1445.75 Q112.126 1437 115.182 1432.42 Q118.26 1427.81 124.07 1427.81 Z\" fill=\"#000000\" fill-rule=\"nonzero\" fill-opacity=\"1\" /><path clip-path=\"url(#clip680)\" d=\"M54.5569 1113.37 L62.1958 1113.37 L62.1958 1087.01 L53.8856 1088.67 L53.8856 1084.41 L62.1495 1082.75 L66.8254 1082.75 L66.8254 1113.37 L74.4642 1113.37 L74.4642 1117.31 L54.5569 1117.31 L54.5569 1113.37 Z\" fill=\"#000000\" fill-rule=\"nonzero\" fill-opacity=\"1\" /><path clip-path=\"url(#clip680)\" d=\"M93.9086 1085.83 Q90.2975 1085.83 88.4688 1089.39 Q86.6632 1092.93 86.6632 1100.06 Q86.6632 1107.17 88.4688 1110.73 Q90.2975 1114.28 93.9086 1114.28 Q97.5428 1114.28 99.3483 1110.73 Q101.177 1107.17 101.177 1100.06 Q101.177 1092.93 99.3483 1089.39 Q97.5428 1085.83 93.9086 1085.83 M93.9086 1082.12 Q99.7187 1082.12 102.774 1086.73 Q105.853 1091.31 105.853 1100.06 Q105.853 1108.79 102.774 1113.4 Q99.7187 1117.98 93.9086 1117.98 Q88.0984 1117.98 85.0197 1113.4 Q81.9642 1108.79 81.9642 1100.06 Q81.9642 1091.31 85.0197 1086.73 Q88.0984 1082.12 93.9086 1082.12 Z\" fill=\"#000000\" fill-rule=\"nonzero\" fill-opacity=\"1\" /><path clip-path=\"url(#clip680)\" d=\"M124.07 1085.83 Q120.459 1085.83 118.631 1089.39 Q116.825 1092.93 116.825 1100.06 Q116.825 1107.17 118.631 1110.73 Q120.459 1114.28 124.07 1114.28 Q127.705 1114.28 129.51 1110.73 Q131.339 1107.17 131.339 1100.06 Q131.339 1092.93 129.51 1089.39 Q127.705 1085.83 124.07 1085.83 M124.07 1082.12 Q129.881 1082.12 132.936 1086.73 Q136.015 1091.31 136.015 1100.06 Q136.015 1108.79 132.936 1113.4 Q129.881 1117.98 124.07 1117.98 Q118.26 1117.98 115.182 1113.4 Q112.126 1108.79 112.126 1100.06 Q112.126 1091.31 115.182 1086.73 Q118.26 1082.12 124.07 1082.12 Z\" fill=\"#000000\" fill-rule=\"nonzero\" fill-opacity=\"1\" /><path clip-path=\"url(#clip680)\" d=\"M57.7745 767.686 L74.0939 767.686 L74.0939 771.621 L52.1495 771.621 L52.1495 767.686 Q54.8115 764.931 59.3949 760.301 Q64.0013 755.649 65.1819 754.306 Q67.4272 751.783 68.3068 750.047 Q69.2096 748.288 69.2096 746.598 Q69.2096 743.843 67.2652 742.107 Q65.3439 740.371 62.2421 740.371 Q60.043 740.371 57.5893 741.135 Q55.1588 741.899 52.381 743.45 L52.381 738.727 Q55.2051 737.593 57.6588 737.014 Q60.1124 736.436 62.1495 736.436 Q67.5198 736.436 70.7142 739.121 Q73.9087 741.806 73.9087 746.297 Q73.9087 748.426 73.0985 750.348 Q72.3115 752.246 70.205 754.838 Q69.6263 755.51 66.5245 758.727 Q63.4226 761.922 57.7745 767.686 Z\" fill=\"#000000\" fill-rule=\"nonzero\" fill-opacity=\"1\" /><path clip-path=\"url(#clip680)\" d=\"M93.9086 740.139 Q90.2975 740.139 88.4688 743.704 Q86.6632 747.246 86.6632 754.375 Q86.6632 761.482 88.4688 765.047 Q90.2975 768.588 93.9086 768.588 Q97.5428 768.588 99.3483 765.047 Q101.177 761.482 101.177 754.375 Q101.177 747.246 99.3483 743.704 Q97.5428 740.139 93.9086 740.139 M93.9086 736.436 Q99.7187 736.436 102.774 741.042 Q105.853 745.625 105.853 754.375 Q105.853 763.102 102.774 767.709 Q99.7187 772.292 93.9086 772.292 Q88.0984 772.292 85.0197 767.709 Q81.9642 763.102 81.9642 754.375 Q81.9642 745.625 85.0197 741.042 Q88.0984 736.436 93.9086 736.436 Z\" fill=\"#000000\" fill-rule=\"nonzero\" fill-opacity=\"1\" /><path clip-path=\"url(#clip680)\" d=\"M124.07 740.139 Q120.459 740.139 118.631 743.704 Q116.825 747.246 116.825 754.375 Q116.825 761.482 118.631 765.047 Q120.459 768.588 124.07 768.588 Q127.705 768.588 129.51 765.047 Q131.339 761.482 131.339 754.375 Q131.339 747.246 129.51 743.704 Q127.705 740.139 124.07 740.139 M124.07 736.436 Q129.881 736.436 132.936 741.042 Q136.015 745.625 136.015 754.375 Q136.015 763.102 132.936 767.709 Q129.881 772.292 124.07 772.292 Q118.26 772.292 115.182 767.709 Q112.126 763.102 112.126 754.375 Q112.126 745.625 115.182 741.042 Q118.26 736.436 124.07 736.436 Z\" fill=\"#000000\" fill-rule=\"nonzero\" fill-opacity=\"1\" /><path clip-path=\"url(#clip680)\" d=\"M67.9133 407.299 Q71.2698 408.017 73.1448 410.285 Q75.0429 412.554 75.0429 415.887 Q75.0429 421.003 71.5244 423.804 Q68.0059 426.605 61.5245 426.605 Q59.3486 426.605 57.0338 426.165 Q54.7421 425.748 52.2884 424.892 L52.2884 420.378 Q54.2328 421.512 56.5477 422.091 Q58.8625 422.669 61.3856 422.669 Q65.7837 422.669 68.0754 420.933 Q70.3902 419.197 70.3902 415.887 Q70.3902 412.831 68.2374 411.118 Q66.1078 409.382 62.2884 409.382 L58.2606 409.382 L58.2606 405.54 L62.4735 405.54 Q65.9226 405.54 67.7513 404.174 Q69.58 402.785 69.58 400.193 Q69.58 397.531 67.6819 396.119 Q65.8069 394.683 62.2884 394.683 Q60.3671 394.683 58.168 395.1 Q55.969 395.517 53.3301 396.396 L53.3301 392.23 Q55.9921 391.489 58.3069 391.119 Q60.6449 390.748 62.705 390.748 Q68.0291 390.748 71.1309 393.179 Q74.2327 395.586 74.2327 399.707 Q74.2327 402.577 72.5892 404.568 Q70.9457 406.535 67.9133 407.299 Z\" fill=\"#000000\" fill-rule=\"nonzero\" fill-opacity=\"1\" /><path clip-path=\"url(#clip680)\" d=\"M93.9086 394.452 Q90.2975 394.452 88.4688 398.017 Q86.6632 401.558 86.6632 408.688 Q86.6632 415.794 88.4688 419.359 Q90.2975 422.901 93.9086 422.901 Q97.5428 422.901 99.3483 419.359 Q101.177 415.794 101.177 408.688 Q101.177 401.558 99.3483 398.017 Q97.5428 394.452 93.9086 394.452 M93.9086 390.748 Q99.7187 390.748 102.774 395.355 Q105.853 399.938 105.853 408.688 Q105.853 417.415 102.774 422.021 Q99.7187 426.605 93.9086 426.605 Q88.0984 426.605 85.0197 422.021 Q81.9642 417.415 81.9642 408.688 Q81.9642 399.938 85.0197 395.355 Q88.0984 390.748 93.9086 390.748 Z\" fill=\"#000000\" fill-rule=\"nonzero\" fill-opacity=\"1\" /><path clip-path=\"url(#clip680)\" d=\"M124.07 394.452 Q120.459 394.452 118.631 398.017 Q116.825 401.558 116.825 408.688 Q116.825 415.794 118.631 419.359 Q120.459 422.901 124.07 422.901 Q127.705 422.901 129.51 419.359 Q131.339 415.794 131.339 408.688 Q131.339 401.558 129.51 398.017 Q127.705 394.452 124.07 394.452 M124.07 390.748 Q129.881 390.748 132.936 395.355 Q136.015 399.938 136.015 408.688 Q136.015 417.415 132.936 422.021 Q129.881 426.605 124.07 426.605 Q118.26 426.605 115.182 422.021 Q112.126 417.415 112.126 408.688 Q112.126 399.938 115.182 395.355 Q118.26 390.748 124.07 390.748 Z\" fill=\"#000000\" fill-rule=\"nonzero\" fill-opacity=\"1\" /><path clip-path=\"url(#clip680)\" d=\"M66.5939 49.7598 L54.7884 68.2088 L66.5939 68.2088 L66.5939 49.7598 M65.367 45.6857 L71.2466 45.6857 L71.2466 68.2088 L76.1772 68.2088 L76.1772 72.0976 L71.2466 72.0976 L71.2466 80.2457 L66.5939 80.2457 L66.5939 72.0976 L50.9921 72.0976 L50.9921 67.5838 L65.367 45.6857 Z\" fill=\"#000000\" fill-rule=\"nonzero\" fill-opacity=\"1\" /><path clip-path=\"url(#clip680)\" d=\"M93.9086 48.7644 Q90.2975 48.7644 88.4688 52.3292 Q86.6632 55.8709 86.6632 63.0005 Q86.6632 70.1069 88.4688 73.6717 Q90.2975 77.2133 93.9086 77.2133 Q97.5428 77.2133 99.3483 73.6717 Q101.177 70.1069 101.177 63.0005 Q101.177 55.8709 99.3483 52.3292 Q97.5428 48.7644 93.9086 48.7644 M93.9086 45.0607 Q99.7187 45.0607 102.774 49.6672 Q105.853 54.2505 105.853 63.0005 Q105.853 71.7273 102.774 76.3337 Q99.7187 80.917 93.9086 80.917 Q88.0984 80.917 85.0197 76.3337 Q81.9642 71.7273 81.9642 63.0005 Q81.9642 54.2505 85.0197 49.6672 Q88.0984 45.0607 93.9086 45.0607 Z\" fill=\"#000000\" fill-rule=\"nonzero\" fill-opacity=\"1\" /><path clip-path=\"url(#clip680)\" d=\"M124.07 48.7644 Q120.459 48.7644 118.631 52.3292 Q116.825 55.8709 116.825 63.0005 Q116.825 70.1069 118.631 73.6717 Q120.459 77.2133 124.07 77.2133 Q127.705 77.2133 129.51 73.6717 Q131.339 70.1069 131.339 63.0005 Q131.339 55.8709 129.51 52.3292 Q127.705 48.7644 124.07 48.7644 M124.07 45.0607 Q129.881 45.0607 132.936 49.6672 Q136.015 54.2505 136.015 63.0005 Q136.015 71.7273 132.936 76.3337 Q129.881 80.917 124.07 80.917 Q118.26 80.917 115.182 76.3337 Q112.126 71.7273 112.126 63.0005 Q112.126 54.2505 115.182 49.6672 Q118.26 45.0607 124.07 45.0607 Z\" fill=\"#000000\" fill-rule=\"nonzero\" fill-opacity=\"1\" /><polyline clip-path=\"url(#clip682)\" style=\"stroke:#009af9; stroke-linecap:round; stroke-linejoin:round; stroke-width:4; stroke-opacity:1; fill:none\" points=\"233.734,1445.72 244.072,1445.71 254.41,1445.7 264.749,1445.64 275.087,1445.49 285.425,1445.27 295.763,1445.12 306.101,1445.17 316.44,1445.37 326.778,1445.57 337.116,1445.67 347.454,1445.71 357.792,1445.71 368.131,1445.72 378.469,1445.72 388.807,1445.72 399.145,1445.72 409.483,1445.72 419.822,1445.72 430.16,1445.72 440.498,1445.72 450.836,1445.72 461.174,1445.72 471.513,1445.72 481.851,1445.72 492.189,1445.72 502.527,1445.72 512.865,1445.72 523.204,1445.72 533.542,1445.72 543.88,1445.72 554.218,1445.72 564.556,1445.72 574.895,1445.72 585.233,1445.72 595.571,1445.72 605.909,1445.72 616.248,1445.72 626.586,1445.72 636.924,1445.72 647.262,1445.72 657.6,1445.72 667.939,1445.72 678.277,1445.72 688.615,1445.72 698.953,1445.72 709.291,1445.72 719.63,1445.72 729.968,1445.71 740.306,1445.68 750.644,1445.2 760.982,1440.69 771.321,1412.82 781.659,1299.41 791.997,1000.6 802.335,513.548 812.673,95.063 823.012,87.9763 833.35,499.192 843.688,989.69 854.026,1294.71 864.364,1411.57 874.703,1440.47 885.041,1445.17 895.379,1445.68 905.717,1445.71 916.055,1445.72 926.394,1445.72 936.732,1445.72 947.07,1445.72 957.408,1445.72 967.747,1445.72 978.085,1445.72 988.423,1445.72 998.761,1445.72 1009.1,1445.72 1019.44,1445.72 1029.78,1445.72 1040.11,1445.72 1050.45,1445.72 1060.79,1445.72 1071.13,1445.72 1081.47,1445.72 1091.8,1445.72 1102.14,1445.72 1112.48,1445.72 1122.82,1445.72 1133.16,1445.72 1143.5,1445.72 1153.83,1445.72 1164.17,1445.72 1174.51,1445.72 1184.85,1445.72 1195.19,1445.72 1205.53,1445.72 1215.86,1445.72 1226.2,1445.72 1236.54,1445.72 1246.88,1445.72 1257.22,1445.72 1267.55,1445.72 1277.89,1445.72 1288.23,1445.72 1298.57,1445.72 1308.91,1445.72 1319.25,1445.72 1329.58,1445.72 1339.92,1445.72 1350.26,1445.72 1360.6,1445.72 1370.94,1445.72 1381.27,1445.72 1391.61,1445.72 1401.95,1445.72 1412.29,1445.72 1422.63,1445.72 1432.97,1445.72 1443.3,1445.72 1453.64,1445.72 1463.98,1445.72 1474.32,1445.72 1484.66,1445.72 1494.99,1445.72 1505.33,1445.72 1515.67,1445.72 1526.01,1445.72 1536.35,1445.72 1546.69,1445.72 1557.02,1445.72 1567.36,1445.72 1577.7,1445.72 1588.04,1445.72 1598.38,1445.72 1608.72,1445.72 1619.05,1445.72 1629.39,1445.72 1639.73,1445.72 1650.07,1445.72 1660.41,1445.72 1670.74,1445.72 1681.08,1445.72 1691.42,1445.72 1701.76,1445.72 1712.1,1445.72 1722.44,1445.72 1732.77,1445.72 1743.11,1445.72 1753.45,1445.72 1763.79,1445.72 1774.13,1445.72 1784.46,1445.72 1794.8,1445.72 1805.14,1445.72 1815.48,1445.72 1825.82,1445.72 1836.16,1445.72 1846.49,1445.72 1856.83,1445.72 1867.17,1445.72 1877.51,1445.72 1887.85,1445.72 1898.19,1445.72 1908.52,1445.72 1918.86,1445.72 1929.2,1445.72 1939.54,1445.72 1949.88,1445.72 1960.21,1445.72 1970.55,1445.72 1980.89,1445.72 1991.23,1445.72 2001.57,1445.72 2011.91,1445.72 2022.24,1445.72 2032.58,1445.72 2042.92,1445.72 2053.26,1445.72 2063.6,1445.72 2073.93,1445.72 2084.27,1445.72 2094.61,1445.72 2104.95,1445.72 2115.29,1445.72 2125.63,1445.72 2135.96,1445.72 2146.3,1445.72 2156.64,1445.72 2166.98,1445.71 2177.32,1445.71 2187.65,1445.67 2197.99,1445.57 2208.33,1445.39 2218.67,1445.19 2229.01,1445.14 2239.35,1445.29 2249.68,1445.5 2260.02,1445.64 2270.36,1445.7 2280.7,1445.71 2291.04,1445.72 \"/>\n",
       "<path clip-path=\"url(#clip680)\" d=\"M2009.56 198.898 L2280.06 198.898 L2280.06 95.2176 L2009.56 95.2176  Z\" fill=\"#ffffff\" fill-rule=\"evenodd\" fill-opacity=\"1\"/>\n",
       "<polyline clip-path=\"url(#clip680)\" style=\"stroke:#000000; stroke-linecap:round; stroke-linejoin:round; stroke-width:4; stroke-opacity:1; fill:none\" points=\"2009.56,198.898 2280.06,198.898 2280.06,95.2176 2009.56,95.2176 2009.56,198.898 \"/>\n",
       "<polyline clip-path=\"url(#clip680)\" style=\"stroke:#009af9; stroke-linecap:round; stroke-linejoin:round; stroke-width:4; stroke-opacity:1; fill:none\" points=\"2033.79,147.058 2179.17,147.058 \"/>\n",
       "<path clip-path=\"url(#clip680)\" d=\"M2217.25 166.745 Q2215.44 171.375 2213.73 172.787 Q2212.01 174.199 2209.14 174.199 L2205.74 174.199 L2205.74 170.634 L2208.24 170.634 Q2210 170.634 2210.97 169.8 Q2211.95 168.967 2213.13 165.865 L2213.89 163.921 L2203.4 138.412 L2207.92 138.412 L2216.02 158.689 L2224.12 138.412 L2228.64 138.412 L2217.25 166.745 Z\" fill=\"#000000\" fill-rule=\"nonzero\" fill-opacity=\"1\" /><path clip-path=\"url(#clip680)\" d=\"M2235.93 160.402 L2243.57 160.402 L2243.57 134.037 L2235.26 135.703 L2235.26 131.444 L2243.52 129.778 L2248.2 129.778 L2248.2 160.402 L2255.83 160.402 L2255.83 164.338 L2235.93 164.338 L2235.93 160.402 Z\" fill=\"#000000\" fill-rule=\"nonzero\" fill-opacity=\"1\" /></svg>\n"
      ],
      "text/html": [
       "<?xml version=\"1.0\" encoding=\"utf-8\"?>\n",
       "<svg xmlns=\"http://www.w3.org/2000/svg\" xmlns:xlink=\"http://www.w3.org/1999/xlink\" width=\"600\" height=\"400\" viewBox=\"0 0 2400 1600\">\n",
       "<defs>\n",
       "  <clipPath id=\"clip730\">\n",
       "    <rect x=\"0\" y=\"0\" width=\"2400\" height=\"1600\"/>\n",
       "  </clipPath>\n",
       "</defs>\n",
       "<path clip-path=\"url(#clip730)\" d=\"M0 1600 L2400 1600 L2400 0 L0 0  Z\" fill=\"#ffffff\" fill-rule=\"evenodd\" fill-opacity=\"1\"/>\n",
       "<defs>\n",
       "  <clipPath id=\"clip731\">\n",
       "    <rect x=\"480\" y=\"0\" width=\"1681\" height=\"1600\"/>\n",
       "  </clipPath>\n",
       "</defs>\n",
       "<path clip-path=\"url(#clip730)\" d=\"M172.015 1486.45 L2352.76 1486.45 L2352.76 47.2441 L172.015 47.2441  Z\" fill=\"#ffffff\" fill-rule=\"evenodd\" fill-opacity=\"1\"/>\n",
       "<defs>\n",
       "  <clipPath id=\"clip732\">\n",
       "    <rect x=\"172\" y=\"47\" width=\"2182\" height=\"1440\"/>\n",
       "  </clipPath>\n",
       "</defs>\n",
       "<polyline clip-path=\"url(#clip732)\" style=\"stroke:#000000; stroke-linecap:round; stroke-linejoin:round; stroke-width:2; stroke-opacity:0.1; fill:none\" points=\"286.98,1486.45 286.98,47.2441 \"/>\n",
       "<polyline clip-path=\"url(#clip732)\" style=\"stroke:#000000; stroke-linecap:round; stroke-linejoin:round; stroke-width:2; stroke-opacity:0.1; fill:none\" points=\"725.765,1486.45 725.765,47.2441 \"/>\n",
       "<polyline clip-path=\"url(#clip732)\" style=\"stroke:#000000; stroke-linecap:round; stroke-linejoin:round; stroke-width:2; stroke-opacity:0.1; fill:none\" points=\"1164.55,1486.45 1164.55,47.2441 \"/>\n",
       "<polyline clip-path=\"url(#clip732)\" style=\"stroke:#000000; stroke-linecap:round; stroke-linejoin:round; stroke-width:2; stroke-opacity:0.1; fill:none\" points=\"1603.34,1486.45 1603.34,47.2441 \"/>\n",
       "<polyline clip-path=\"url(#clip732)\" style=\"stroke:#000000; stroke-linecap:round; stroke-linejoin:round; stroke-width:2; stroke-opacity:0.1; fill:none\" points=\"2042.12,1486.45 2042.12,47.2441 \"/>\n",
       "<polyline clip-path=\"url(#clip730)\" style=\"stroke:#000000; stroke-linecap:round; stroke-linejoin:round; stroke-width:4; stroke-opacity:1; fill:none\" points=\"172.015,1486.45 2352.76,1486.45 \"/>\n",
       "<polyline clip-path=\"url(#clip730)\" style=\"stroke:#000000; stroke-linecap:round; stroke-linejoin:round; stroke-width:4; stroke-opacity:1; fill:none\" points=\"286.98,1486.45 286.98,1467.55 \"/>\n",
       "<polyline clip-path=\"url(#clip730)\" style=\"stroke:#000000; stroke-linecap:round; stroke-linejoin:round; stroke-width:4; stroke-opacity:1; fill:none\" points=\"725.765,1486.45 725.765,1467.55 \"/>\n",
       "<polyline clip-path=\"url(#clip730)\" style=\"stroke:#000000; stroke-linecap:round; stroke-linejoin:round; stroke-width:4; stroke-opacity:1; fill:none\" points=\"1164.55,1486.45 1164.55,1467.55 \"/>\n",
       "<polyline clip-path=\"url(#clip730)\" style=\"stroke:#000000; stroke-linecap:round; stroke-linejoin:round; stroke-width:4; stroke-opacity:1; fill:none\" points=\"1603.34,1486.45 1603.34,1467.55 \"/>\n",
       "<polyline clip-path=\"url(#clip730)\" style=\"stroke:#000000; stroke-linecap:round; stroke-linejoin:round; stroke-width:4; stroke-opacity:1; fill:none\" points=\"2042.12,1486.45 2042.12,1467.55 \"/>\n",
       "<path clip-path=\"url(#clip730)\" d=\"M234.202 1517.37 Q230.591 1517.37 228.762 1520.93 Q226.957 1524.47 226.957 1531.6 Q226.957 1538.71 228.762 1542.27 Q230.591 1545.82 234.202 1545.82 Q237.836 1545.82 239.642 1542.27 Q241.471 1538.71 241.471 1531.6 Q241.471 1524.47 239.642 1520.93 Q237.836 1517.37 234.202 1517.37 M234.202 1513.66 Q240.012 1513.66 243.068 1518.27 Q246.147 1522.85 246.147 1531.6 Q246.147 1540.33 243.068 1544.94 Q240.012 1549.52 234.202 1549.52 Q228.392 1549.52 225.313 1544.94 Q222.258 1540.33 222.258 1531.6 Q222.258 1522.85 225.313 1518.27 Q228.392 1513.66 234.202 1513.66 Z\" fill=\"#000000\" fill-rule=\"nonzero\" fill-opacity=\"1\" /><path clip-path=\"url(#clip730)\" d=\"M254.364 1542.97 L259.248 1542.97 L259.248 1548.85 L254.364 1548.85 L254.364 1542.97 Z\" fill=\"#000000\" fill-rule=\"nonzero\" fill-opacity=\"1\" /><path clip-path=\"url(#clip730)\" d=\"M273.461 1544.91 L289.781 1544.91 L289.781 1548.85 L267.836 1548.85 L267.836 1544.91 Q270.498 1542.16 275.082 1537.53 Q279.688 1532.88 280.869 1531.53 Q283.114 1529.01 283.994 1527.27 Q284.896 1525.51 284.896 1523.82 Q284.896 1521.07 282.952 1519.33 Q281.031 1517.6 277.929 1517.6 Q275.73 1517.6 273.276 1518.36 Q270.846 1519.13 268.068 1520.68 L268.068 1515.95 Q270.892 1514.82 273.346 1514.24 Q275.799 1513.66 277.836 1513.66 Q283.207 1513.66 286.401 1516.35 Q289.595 1519.03 289.595 1523.52 Q289.595 1525.65 288.785 1527.57 Q287.998 1529.47 285.892 1532.07 Q285.313 1532.74 282.211 1535.95 Q279.109 1539.15 273.461 1544.91 Z\" fill=\"#000000\" fill-rule=\"nonzero\" fill-opacity=\"1\" /><path clip-path=\"url(#clip730)\" d=\"M299.642 1514.29 L317.998 1514.29 L317.998 1518.22 L303.924 1518.22 L303.924 1526.7 Q304.943 1526.35 305.961 1526.19 Q306.98 1526 307.998 1526 Q313.785 1526 317.165 1529.17 Q320.544 1532.34 320.544 1537.76 Q320.544 1543.34 317.072 1546.44 Q313.6 1549.52 307.281 1549.52 Q305.105 1549.52 302.836 1549.15 Q300.591 1548.78 298.183 1548.04 L298.183 1543.34 Q300.267 1544.47 302.489 1545.03 Q304.711 1545.58 307.188 1545.58 Q311.193 1545.58 313.531 1543.48 Q315.868 1541.37 315.868 1537.76 Q315.868 1534.15 313.531 1532.04 Q311.193 1529.94 307.188 1529.94 Q305.313 1529.94 303.438 1530.35 Q301.586 1530.77 299.642 1531.65 L299.642 1514.29 Z\" fill=\"#000000\" fill-rule=\"nonzero\" fill-opacity=\"1\" /><path clip-path=\"url(#clip730)\" d=\"M339.757 1517.37 Q336.146 1517.37 334.317 1520.93 Q332.512 1524.47 332.512 1531.6 Q332.512 1538.71 334.317 1542.27 Q336.146 1545.82 339.757 1545.82 Q343.391 1545.82 345.197 1542.27 Q347.026 1538.71 347.026 1531.6 Q347.026 1524.47 345.197 1520.93 Q343.391 1517.37 339.757 1517.37 M339.757 1513.66 Q345.567 1513.66 348.623 1518.27 Q351.702 1522.85 351.702 1531.6 Q351.702 1540.33 348.623 1544.94 Q345.567 1549.52 339.757 1549.52 Q333.947 1549.52 330.868 1544.94 Q327.813 1540.33 327.813 1531.6 Q327.813 1522.85 330.868 1518.27 Q333.947 1513.66 339.757 1513.66 Z\" fill=\"#000000\" fill-rule=\"nonzero\" fill-opacity=\"1\" /><path clip-path=\"url(#clip730)\" d=\"M673.485 1517.37 Q669.874 1517.37 668.046 1520.93 Q666.24 1524.47 666.24 1531.6 Q666.24 1538.71 668.046 1542.27 Q669.874 1545.82 673.485 1545.82 Q677.12 1545.82 678.925 1542.27 Q680.754 1538.71 680.754 1531.6 Q680.754 1524.47 678.925 1520.93 Q677.12 1517.37 673.485 1517.37 M673.485 1513.66 Q679.296 1513.66 682.351 1518.27 Q685.43 1522.85 685.43 1531.6 Q685.43 1540.33 682.351 1544.94 Q679.296 1549.52 673.485 1549.52 Q667.675 1549.52 664.597 1544.94 Q661.541 1540.33 661.541 1531.6 Q661.541 1522.85 664.597 1518.27 Q667.675 1513.66 673.485 1513.66 Z\" fill=\"#000000\" fill-rule=\"nonzero\" fill-opacity=\"1\" /><path clip-path=\"url(#clip730)\" d=\"M693.647 1542.97 L698.532 1542.97 L698.532 1548.85 L693.647 1548.85 L693.647 1542.97 Z\" fill=\"#000000\" fill-rule=\"nonzero\" fill-opacity=\"1\" /><path clip-path=\"url(#clip730)\" d=\"M712.744 1544.91 L729.064 1544.91 L729.064 1548.85 L707.119 1548.85 L707.119 1544.91 Q709.781 1542.16 714.365 1537.53 Q718.971 1532.88 720.152 1531.53 Q722.397 1529.01 723.277 1527.27 Q724.18 1525.51 724.18 1523.82 Q724.18 1521.07 722.235 1519.33 Q720.314 1517.6 717.212 1517.6 Q715.013 1517.6 712.559 1518.36 Q710.129 1519.13 707.351 1520.68 L707.351 1515.95 Q710.175 1514.82 712.629 1514.24 Q715.082 1513.66 717.119 1513.66 Q722.49 1513.66 725.684 1516.35 Q728.879 1519.03 728.879 1523.52 Q728.879 1525.65 728.068 1527.57 Q727.281 1529.47 725.175 1532.07 Q724.596 1532.74 721.494 1535.95 Q718.393 1539.15 712.744 1544.91 Z\" fill=\"#000000\" fill-rule=\"nonzero\" fill-opacity=\"1\" /><path clip-path=\"url(#clip730)\" d=\"M737.698 1514.29 L759.92 1514.29 L759.92 1516.28 L747.374 1548.85 L742.49 1548.85 L754.295 1518.22 L737.698 1518.22 L737.698 1514.29 Z\" fill=\"#000000\" fill-rule=\"nonzero\" fill-opacity=\"1\" /><path clip-path=\"url(#clip730)\" d=\"M769.087 1514.29 L787.443 1514.29 L787.443 1518.22 L773.369 1518.22 L773.369 1526.7 Q774.388 1526.35 775.406 1526.19 Q776.425 1526 777.443 1526 Q783.23 1526 786.61 1529.17 Q789.989 1532.34 789.989 1537.76 Q789.989 1543.34 786.517 1546.44 Q783.045 1549.52 776.726 1549.52 Q774.55 1549.52 772.281 1549.15 Q770.036 1548.78 767.628 1548.04 L767.628 1543.34 Q769.712 1544.47 771.934 1545.03 Q774.156 1545.58 776.633 1545.58 Q780.638 1545.58 782.976 1543.48 Q785.313 1541.37 785.313 1537.76 Q785.313 1534.15 782.976 1532.04 Q780.638 1529.94 776.633 1529.94 Q774.758 1529.94 772.883 1530.35 Q771.031 1530.77 769.087 1531.65 L769.087 1514.29 Z\" fill=\"#000000\" fill-rule=\"nonzero\" fill-opacity=\"1\" /><path clip-path=\"url(#clip730)\" d=\"M1111.77 1517.37 Q1108.16 1517.37 1106.33 1520.93 Q1104.53 1524.47 1104.53 1531.6 Q1104.53 1538.71 1106.33 1542.27 Q1108.16 1545.82 1111.77 1545.82 Q1115.41 1545.82 1117.21 1542.27 Q1119.04 1538.71 1119.04 1531.6 Q1119.04 1524.47 1117.21 1520.93 Q1115.41 1517.37 1111.77 1517.37 M1111.77 1513.66 Q1117.58 1513.66 1120.64 1518.27 Q1123.72 1522.85 1123.72 1531.6 Q1123.72 1540.33 1120.64 1544.94 Q1117.58 1549.52 1111.77 1549.52 Q1105.96 1549.52 1102.88 1544.94 Q1099.83 1540.33 1099.83 1531.6 Q1099.83 1522.85 1102.88 1518.27 Q1105.96 1513.66 1111.77 1513.66 Z\" fill=\"#000000\" fill-rule=\"nonzero\" fill-opacity=\"1\" /><path clip-path=\"url(#clip730)\" d=\"M1131.94 1542.97 L1136.82 1542.97 L1136.82 1548.85 L1131.94 1548.85 L1131.94 1542.97 Z\" fill=\"#000000\" fill-rule=\"nonzero\" fill-opacity=\"1\" /><path clip-path=\"url(#clip730)\" d=\"M1161.17 1530.21 Q1164.53 1530.93 1166.4 1533.2 Q1168.3 1535.47 1168.3 1538.8 Q1168.3 1543.92 1164.78 1546.72 Q1161.26 1549.52 1154.78 1549.52 Q1152.61 1549.52 1150.29 1549.08 Q1148 1548.66 1145.55 1547.81 L1145.55 1543.29 Q1147.49 1544.43 1149.81 1545.01 Q1152.12 1545.58 1154.64 1545.58 Q1159.04 1545.58 1161.33 1543.85 Q1163.65 1542.11 1163.65 1538.8 Q1163.65 1535.75 1161.5 1534.03 Q1159.37 1532.3 1155.55 1532.3 L1151.52 1532.3 L1151.52 1528.45 L1155.73 1528.45 Q1159.18 1528.45 1161.01 1527.09 Q1162.84 1525.7 1162.84 1523.11 Q1162.84 1520.45 1160.94 1519.03 Q1159.06 1517.6 1155.55 1517.6 Q1153.62 1517.6 1151.43 1518.01 Q1149.23 1518.43 1146.59 1519.31 L1146.59 1515.14 Q1149.25 1514.4 1151.56 1514.03 Q1153.9 1513.66 1155.96 1513.66 Q1161.29 1513.66 1164.39 1516.09 Q1167.49 1518.5 1167.49 1522.62 Q1167.49 1525.49 1165.85 1527.48 Q1164.2 1529.45 1161.17 1530.21 Z\" fill=\"#000000\" fill-rule=\"nonzero\" fill-opacity=\"1\" /><path clip-path=\"url(#clip730)\" d=\"M1187.17 1517.37 Q1183.56 1517.37 1181.73 1520.93 Q1179.92 1524.47 1179.92 1531.6 Q1179.92 1538.71 1181.73 1542.27 Q1183.56 1545.82 1187.17 1545.82 Q1190.8 1545.82 1192.61 1542.27 Q1194.43 1538.71 1194.43 1531.6 Q1194.43 1524.47 1192.61 1520.93 Q1190.8 1517.37 1187.17 1517.37 M1187.17 1513.66 Q1192.98 1513.66 1196.03 1518.27 Q1199.11 1522.85 1199.11 1531.6 Q1199.11 1540.33 1196.03 1544.94 Q1192.98 1549.52 1187.17 1549.52 Q1181.36 1549.52 1178.28 1544.94 Q1175.22 1540.33 1175.22 1531.6 Q1175.22 1522.85 1178.28 1518.27 Q1181.36 1513.66 1187.17 1513.66 Z\" fill=\"#000000\" fill-rule=\"nonzero\" fill-opacity=\"1\" /><path clip-path=\"url(#clip730)\" d=\"M1217.33 1517.37 Q1213.72 1517.37 1211.89 1520.93 Q1210.08 1524.47 1210.08 1531.6 Q1210.08 1538.71 1211.89 1542.27 Q1213.72 1545.82 1217.33 1545.82 Q1220.96 1545.82 1222.77 1542.27 Q1224.6 1538.71 1224.6 1531.6 Q1224.6 1524.47 1222.77 1520.93 Q1220.96 1517.37 1217.33 1517.37 M1217.33 1513.66 Q1223.14 1513.66 1226.19 1518.27 Q1229.27 1522.85 1229.27 1531.6 Q1229.27 1540.33 1226.19 1544.94 Q1223.14 1549.52 1217.33 1549.52 Q1211.52 1549.52 1208.44 1544.94 Q1205.38 1540.33 1205.38 1531.6 Q1205.38 1522.85 1208.44 1518.27 Q1211.52 1513.66 1217.33 1513.66 Z\" fill=\"#000000\" fill-rule=\"nonzero\" fill-opacity=\"1\" /><path clip-path=\"url(#clip730)\" d=\"M1551.06 1517.37 Q1547.45 1517.37 1545.62 1520.93 Q1543.81 1524.47 1543.81 1531.6 Q1543.81 1538.71 1545.62 1542.27 Q1547.45 1545.82 1551.06 1545.82 Q1554.69 1545.82 1556.5 1542.27 Q1558.32 1538.71 1558.32 1531.6 Q1558.32 1524.47 1556.5 1520.93 Q1554.69 1517.37 1551.06 1517.37 M1551.06 1513.66 Q1556.87 1513.66 1559.92 1518.27 Q1563 1522.85 1563 1531.6 Q1563 1540.33 1559.92 1544.94 Q1556.87 1549.52 1551.06 1549.52 Q1545.25 1549.52 1542.17 1544.94 Q1539.11 1540.33 1539.11 1531.6 Q1539.11 1522.85 1542.17 1518.27 Q1545.25 1513.66 1551.06 1513.66 Z\" fill=\"#000000\" fill-rule=\"nonzero\" fill-opacity=\"1\" /><path clip-path=\"url(#clip730)\" d=\"M1571.22 1542.97 L1576.1 1542.97 L1576.1 1548.85 L1571.22 1548.85 L1571.22 1542.97 Z\" fill=\"#000000\" fill-rule=\"nonzero\" fill-opacity=\"1\" /><path clip-path=\"url(#clip730)\" d=\"M1600.45 1530.21 Q1603.81 1530.93 1605.69 1533.2 Q1607.58 1535.47 1607.58 1538.8 Q1607.58 1543.92 1604.07 1546.72 Q1600.55 1549.52 1594.07 1549.52 Q1591.89 1549.52 1589.57 1549.08 Q1587.28 1548.66 1584.83 1547.81 L1584.83 1543.29 Q1586.77 1544.43 1589.09 1545.01 Q1591.4 1545.58 1593.93 1545.58 Q1598.32 1545.58 1600.62 1543.85 Q1602.93 1542.11 1602.93 1538.8 Q1602.93 1535.75 1600.78 1534.03 Q1598.65 1532.3 1594.83 1532.3 L1590.8 1532.3 L1590.8 1528.45 L1595.01 1528.45 Q1598.46 1528.45 1600.29 1527.09 Q1602.12 1525.7 1602.12 1523.11 Q1602.12 1520.45 1600.22 1519.03 Q1598.35 1517.6 1594.83 1517.6 Q1592.91 1517.6 1590.71 1518.01 Q1588.51 1518.43 1585.87 1519.31 L1585.87 1515.14 Q1588.53 1514.4 1590.85 1514.03 Q1593.19 1513.66 1595.25 1513.66 Q1600.57 1513.66 1603.67 1516.09 Q1606.77 1518.5 1606.77 1522.62 Q1606.77 1525.49 1605.13 1527.48 Q1603.49 1529.45 1600.45 1530.21 Z\" fill=\"#000000\" fill-rule=\"nonzero\" fill-opacity=\"1\" /><path clip-path=\"url(#clip730)\" d=\"M1620.48 1544.91 L1636.8 1544.91 L1636.8 1548.85 L1614.85 1548.85 L1614.85 1544.91 Q1617.51 1542.16 1622.1 1537.53 Q1626.7 1532.88 1627.88 1531.53 Q1630.13 1529.01 1631.01 1527.27 Q1631.91 1525.51 1631.91 1523.82 Q1631.91 1521.07 1629.97 1519.33 Q1628.05 1517.6 1624.94 1517.6 Q1622.75 1517.6 1620.29 1518.36 Q1617.86 1519.13 1615.08 1520.68 L1615.08 1515.95 Q1617.91 1514.82 1620.36 1514.24 Q1622.82 1513.66 1624.85 1513.66 Q1630.22 1513.66 1633.42 1516.35 Q1636.61 1519.03 1636.61 1523.52 Q1636.61 1525.65 1635.8 1527.57 Q1635.01 1529.47 1632.91 1532.07 Q1632.33 1532.74 1629.23 1535.95 Q1626.13 1539.15 1620.48 1544.91 Z\" fill=\"#000000\" fill-rule=\"nonzero\" fill-opacity=\"1\" /><path clip-path=\"url(#clip730)\" d=\"M1646.66 1514.29 L1665.01 1514.29 L1665.01 1518.22 L1650.94 1518.22 L1650.94 1526.7 Q1651.96 1526.35 1652.98 1526.19 Q1654 1526 1655.01 1526 Q1660.8 1526 1664.18 1529.17 Q1667.56 1532.34 1667.56 1537.76 Q1667.56 1543.34 1664.09 1546.44 Q1660.62 1549.52 1654.3 1549.52 Q1652.12 1549.52 1649.85 1549.15 Q1647.61 1548.78 1645.2 1548.04 L1645.2 1543.34 Q1647.28 1544.47 1649.5 1545.03 Q1651.73 1545.58 1654.2 1545.58 Q1658.21 1545.58 1660.55 1543.48 Q1662.88 1541.37 1662.88 1537.76 Q1662.88 1534.15 1660.55 1532.04 Q1658.21 1529.94 1654.2 1529.94 Q1652.33 1529.94 1650.45 1530.35 Q1648.6 1530.77 1646.66 1531.65 L1646.66 1514.29 Z\" fill=\"#000000\" fill-rule=\"nonzero\" fill-opacity=\"1\" /><path clip-path=\"url(#clip730)\" d=\"M1989.34 1517.37 Q1985.73 1517.37 1983.9 1520.93 Q1982.1 1524.47 1982.1 1531.6 Q1982.1 1538.71 1983.9 1542.27 Q1985.73 1545.82 1989.34 1545.82 Q1992.98 1545.82 1994.78 1542.27 Q1996.61 1538.71 1996.61 1531.6 Q1996.61 1524.47 1994.78 1520.93 Q1992.98 1517.37 1989.34 1517.37 M1989.34 1513.66 Q1995.15 1513.66 1998.21 1518.27 Q2001.29 1522.85 2001.29 1531.6 Q2001.29 1540.33 1998.21 1544.94 Q1995.15 1549.52 1989.34 1549.52 Q1983.53 1549.52 1980.46 1544.94 Q1977.4 1540.33 1977.4 1531.6 Q1977.4 1522.85 1980.46 1518.27 Q1983.53 1513.66 1989.34 1513.66 Z\" fill=\"#000000\" fill-rule=\"nonzero\" fill-opacity=\"1\" /><path clip-path=\"url(#clip730)\" d=\"M2009.51 1542.97 L2014.39 1542.97 L2014.39 1548.85 L2009.51 1548.85 L2009.51 1542.97 Z\" fill=\"#000000\" fill-rule=\"nonzero\" fill-opacity=\"1\" /><path clip-path=\"url(#clip730)\" d=\"M2038.74 1530.21 Q2042.1 1530.93 2043.97 1533.2 Q2045.87 1535.47 2045.87 1538.8 Q2045.87 1543.92 2042.35 1546.72 Q2038.83 1549.52 2032.35 1549.52 Q2030.18 1549.52 2027.86 1549.08 Q2025.57 1548.66 2023.12 1547.81 L2023.12 1543.29 Q2025.06 1544.43 2027.38 1545.01 Q2029.69 1545.58 2032.21 1545.58 Q2036.61 1545.58 2038.9 1543.85 Q2041.22 1542.11 2041.22 1538.8 Q2041.22 1535.75 2039.07 1534.03 Q2036.94 1532.3 2033.12 1532.3 L2029.09 1532.3 L2029.09 1528.45 L2033.3 1528.45 Q2036.75 1528.45 2038.58 1527.09 Q2040.41 1525.7 2040.41 1523.11 Q2040.41 1520.45 2038.51 1519.03 Q2036.64 1517.6 2033.12 1517.6 Q2031.2 1517.6 2029 1518.01 Q2026.8 1518.43 2024.16 1519.31 L2024.16 1515.14 Q2026.82 1514.4 2029.14 1514.03 Q2031.47 1513.66 2033.53 1513.66 Q2038.86 1513.66 2041.96 1516.09 Q2045.06 1518.5 2045.06 1522.62 Q2045.06 1525.49 2043.42 1527.48 Q2041.77 1529.45 2038.74 1530.21 Z\" fill=\"#000000\" fill-rule=\"nonzero\" fill-opacity=\"1\" /><path clip-path=\"url(#clip730)\" d=\"M2054.78 1514.29 L2073.14 1514.29 L2073.14 1518.22 L2059.07 1518.22 L2059.07 1526.7 Q2060.08 1526.35 2061.1 1526.19 Q2062.12 1526 2063.14 1526 Q2068.93 1526 2072.31 1529.17 Q2075.69 1532.34 2075.69 1537.76 Q2075.69 1543.34 2072.21 1546.44 Q2068.74 1549.52 2062.42 1549.52 Q2060.25 1549.52 2057.98 1549.15 Q2055.73 1548.78 2053.33 1548.04 L2053.33 1543.34 Q2055.41 1544.47 2057.63 1545.03 Q2059.85 1545.58 2062.33 1545.58 Q2066.33 1545.58 2068.67 1543.48 Q2071.01 1541.37 2071.01 1537.76 Q2071.01 1534.15 2068.67 1532.04 Q2066.33 1529.94 2062.33 1529.94 Q2060.45 1529.94 2058.58 1530.35 Q2056.73 1530.77 2054.78 1531.65 L2054.78 1514.29 Z\" fill=\"#000000\" fill-rule=\"nonzero\" fill-opacity=\"1\" /><path clip-path=\"url(#clip730)\" d=\"M2094.9 1517.37 Q2091.29 1517.37 2089.46 1520.93 Q2087.65 1524.47 2087.65 1531.6 Q2087.65 1538.71 2089.46 1542.27 Q2091.29 1545.82 2094.9 1545.82 Q2098.53 1545.82 2100.34 1542.27 Q2102.17 1538.71 2102.17 1531.6 Q2102.17 1524.47 2100.34 1520.93 Q2098.53 1517.37 2094.9 1517.37 M2094.9 1513.66 Q2100.71 1513.66 2103.76 1518.27 Q2106.84 1522.85 2106.84 1531.6 Q2106.84 1540.33 2103.76 1544.94 Q2100.71 1549.52 2094.9 1549.52 Q2089.09 1549.52 2086.01 1544.94 Q2082.95 1540.33 2082.95 1531.6 Q2082.95 1522.85 2086.01 1518.27 Q2089.09 1513.66 2094.9 1513.66 Z\" fill=\"#000000\" fill-rule=\"nonzero\" fill-opacity=\"1\" /><polyline clip-path=\"url(#clip732)\" style=\"stroke:#000000; stroke-linecap:round; stroke-linejoin:round; stroke-width:2; stroke-opacity:0.1; fill:none\" points=\"172.015,1445.72 2352.76,1445.72 \"/>\n",
       "<polyline clip-path=\"url(#clip732)\" style=\"stroke:#000000; stroke-linecap:round; stroke-linejoin:round; stroke-width:2; stroke-opacity:0.1; fill:none\" points=\"172.015,1100.03 2352.76,1100.03 \"/>\n",
       "<polyline clip-path=\"url(#clip732)\" style=\"stroke:#000000; stroke-linecap:round; stroke-linejoin:round; stroke-width:2; stroke-opacity:0.1; fill:none\" points=\"172.015,754.341 2352.76,754.341 \"/>\n",
       "<polyline clip-path=\"url(#clip732)\" style=\"stroke:#000000; stroke-linecap:round; stroke-linejoin:round; stroke-width:2; stroke-opacity:0.1; fill:none\" points=\"172.015,408.653 2352.76,408.653 \"/>\n",
       "<polyline clip-path=\"url(#clip732)\" style=\"stroke:#000000; stroke-linecap:round; stroke-linejoin:round; stroke-width:2; stroke-opacity:0.1; fill:none\" points=\"172.015,62.9657 2352.76,62.9657 \"/>\n",
       "<polyline clip-path=\"url(#clip730)\" style=\"stroke:#000000; stroke-linecap:round; stroke-linejoin:round; stroke-width:4; stroke-opacity:1; fill:none\" points=\"172.015,1486.45 172.015,47.2441 \"/>\n",
       "<polyline clip-path=\"url(#clip730)\" style=\"stroke:#000000; stroke-linecap:round; stroke-linejoin:round; stroke-width:4; stroke-opacity:1; fill:none\" points=\"172.015,1445.72 190.912,1445.72 \"/>\n",
       "<polyline clip-path=\"url(#clip730)\" style=\"stroke:#000000; stroke-linecap:round; stroke-linejoin:round; stroke-width:4; stroke-opacity:1; fill:none\" points=\"172.015,1100.03 190.912,1100.03 \"/>\n",
       "<polyline clip-path=\"url(#clip730)\" style=\"stroke:#000000; stroke-linecap:round; stroke-linejoin:round; stroke-width:4; stroke-opacity:1; fill:none\" points=\"172.015,754.341 190.912,754.341 \"/>\n",
       "<polyline clip-path=\"url(#clip730)\" style=\"stroke:#000000; stroke-linecap:round; stroke-linejoin:round; stroke-width:4; stroke-opacity:1; fill:none\" points=\"172.015,408.653 190.912,408.653 \"/>\n",
       "<polyline clip-path=\"url(#clip730)\" style=\"stroke:#000000; stroke-linecap:round; stroke-linejoin:round; stroke-width:4; stroke-opacity:1; fill:none\" points=\"172.015,62.9657 190.912,62.9657 \"/>\n",
       "<path clip-path=\"url(#clip730)\" d=\"M124.07 1431.51 Q120.459 1431.51 118.631 1435.08 Q116.825 1438.62 116.825 1445.75 Q116.825 1452.86 118.631 1456.42 Q120.459 1459.96 124.07 1459.96 Q127.705 1459.96 129.51 1456.42 Q131.339 1452.86 131.339 1445.75 Q131.339 1438.62 129.51 1435.08 Q127.705 1431.51 124.07 1431.51 M124.07 1427.81 Q129.881 1427.81 132.936 1432.42 Q136.015 1437 136.015 1445.75 Q136.015 1454.48 132.936 1459.08 Q129.881 1463.67 124.07 1463.67 Q118.26 1463.67 115.182 1459.08 Q112.126 1454.48 112.126 1445.75 Q112.126 1437 115.182 1432.42 Q118.26 1427.81 124.07 1427.81 Z\" fill=\"#000000\" fill-rule=\"nonzero\" fill-opacity=\"1\" /><path clip-path=\"url(#clip730)\" d=\"M54.5569 1113.37 L62.1958 1113.37 L62.1958 1087.01 L53.8856 1088.67 L53.8856 1084.41 L62.1495 1082.75 L66.8254 1082.75 L66.8254 1113.37 L74.4642 1113.37 L74.4642 1117.31 L54.5569 1117.31 L54.5569 1113.37 Z\" fill=\"#000000\" fill-rule=\"nonzero\" fill-opacity=\"1\" /><path clip-path=\"url(#clip730)\" d=\"M93.9086 1085.83 Q90.2975 1085.83 88.4688 1089.39 Q86.6632 1092.93 86.6632 1100.06 Q86.6632 1107.17 88.4688 1110.73 Q90.2975 1114.28 93.9086 1114.28 Q97.5428 1114.28 99.3483 1110.73 Q101.177 1107.17 101.177 1100.06 Q101.177 1092.93 99.3483 1089.39 Q97.5428 1085.83 93.9086 1085.83 M93.9086 1082.12 Q99.7187 1082.12 102.774 1086.73 Q105.853 1091.31 105.853 1100.06 Q105.853 1108.79 102.774 1113.4 Q99.7187 1117.98 93.9086 1117.98 Q88.0984 1117.98 85.0197 1113.4 Q81.9642 1108.79 81.9642 1100.06 Q81.9642 1091.31 85.0197 1086.73 Q88.0984 1082.12 93.9086 1082.12 Z\" fill=\"#000000\" fill-rule=\"nonzero\" fill-opacity=\"1\" /><path clip-path=\"url(#clip730)\" d=\"M124.07 1085.83 Q120.459 1085.83 118.631 1089.39 Q116.825 1092.93 116.825 1100.06 Q116.825 1107.17 118.631 1110.73 Q120.459 1114.28 124.07 1114.28 Q127.705 1114.28 129.51 1110.73 Q131.339 1107.17 131.339 1100.06 Q131.339 1092.93 129.51 1089.39 Q127.705 1085.83 124.07 1085.83 M124.07 1082.12 Q129.881 1082.12 132.936 1086.73 Q136.015 1091.31 136.015 1100.06 Q136.015 1108.79 132.936 1113.4 Q129.881 1117.98 124.07 1117.98 Q118.26 1117.98 115.182 1113.4 Q112.126 1108.79 112.126 1100.06 Q112.126 1091.31 115.182 1086.73 Q118.26 1082.12 124.07 1082.12 Z\" fill=\"#000000\" fill-rule=\"nonzero\" fill-opacity=\"1\" /><path clip-path=\"url(#clip730)\" d=\"M57.7745 767.686 L74.0939 767.686 L74.0939 771.621 L52.1495 771.621 L52.1495 767.686 Q54.8115 764.931 59.3949 760.301 Q64.0013 755.649 65.1819 754.306 Q67.4272 751.783 68.3068 750.047 Q69.2096 748.288 69.2096 746.598 Q69.2096 743.843 67.2652 742.107 Q65.3439 740.371 62.2421 740.371 Q60.043 740.371 57.5893 741.135 Q55.1588 741.899 52.381 743.45 L52.381 738.727 Q55.2051 737.593 57.6588 737.014 Q60.1124 736.436 62.1495 736.436 Q67.5198 736.436 70.7142 739.121 Q73.9087 741.806 73.9087 746.297 Q73.9087 748.426 73.0985 750.348 Q72.3115 752.246 70.205 754.838 Q69.6263 755.51 66.5245 758.727 Q63.4226 761.922 57.7745 767.686 Z\" fill=\"#000000\" fill-rule=\"nonzero\" fill-opacity=\"1\" /><path clip-path=\"url(#clip730)\" d=\"M93.9086 740.139 Q90.2975 740.139 88.4688 743.704 Q86.6632 747.246 86.6632 754.375 Q86.6632 761.482 88.4688 765.047 Q90.2975 768.588 93.9086 768.588 Q97.5428 768.588 99.3483 765.047 Q101.177 761.482 101.177 754.375 Q101.177 747.246 99.3483 743.704 Q97.5428 740.139 93.9086 740.139 M93.9086 736.436 Q99.7187 736.436 102.774 741.042 Q105.853 745.625 105.853 754.375 Q105.853 763.102 102.774 767.709 Q99.7187 772.292 93.9086 772.292 Q88.0984 772.292 85.0197 767.709 Q81.9642 763.102 81.9642 754.375 Q81.9642 745.625 85.0197 741.042 Q88.0984 736.436 93.9086 736.436 Z\" fill=\"#000000\" fill-rule=\"nonzero\" fill-opacity=\"1\" /><path clip-path=\"url(#clip730)\" d=\"M124.07 740.139 Q120.459 740.139 118.631 743.704 Q116.825 747.246 116.825 754.375 Q116.825 761.482 118.631 765.047 Q120.459 768.588 124.07 768.588 Q127.705 768.588 129.51 765.047 Q131.339 761.482 131.339 754.375 Q131.339 747.246 129.51 743.704 Q127.705 740.139 124.07 740.139 M124.07 736.436 Q129.881 736.436 132.936 741.042 Q136.015 745.625 136.015 754.375 Q136.015 763.102 132.936 767.709 Q129.881 772.292 124.07 772.292 Q118.26 772.292 115.182 767.709 Q112.126 763.102 112.126 754.375 Q112.126 745.625 115.182 741.042 Q118.26 736.436 124.07 736.436 Z\" fill=\"#000000\" fill-rule=\"nonzero\" fill-opacity=\"1\" /><path clip-path=\"url(#clip730)\" d=\"M67.9133 407.299 Q71.2698 408.017 73.1448 410.285 Q75.0429 412.554 75.0429 415.887 Q75.0429 421.003 71.5244 423.804 Q68.0059 426.605 61.5245 426.605 Q59.3486 426.605 57.0338 426.165 Q54.7421 425.748 52.2884 424.892 L52.2884 420.378 Q54.2328 421.512 56.5477 422.091 Q58.8625 422.669 61.3856 422.669 Q65.7837 422.669 68.0754 420.933 Q70.3902 419.197 70.3902 415.887 Q70.3902 412.831 68.2374 411.118 Q66.1078 409.382 62.2884 409.382 L58.2606 409.382 L58.2606 405.54 L62.4735 405.54 Q65.9226 405.54 67.7513 404.174 Q69.58 402.785 69.58 400.193 Q69.58 397.531 67.6819 396.119 Q65.8069 394.683 62.2884 394.683 Q60.3671 394.683 58.168 395.1 Q55.969 395.517 53.3301 396.396 L53.3301 392.23 Q55.9921 391.489 58.3069 391.119 Q60.6449 390.748 62.705 390.748 Q68.0291 390.748 71.1309 393.179 Q74.2327 395.586 74.2327 399.707 Q74.2327 402.577 72.5892 404.568 Q70.9457 406.535 67.9133 407.299 Z\" fill=\"#000000\" fill-rule=\"nonzero\" fill-opacity=\"1\" /><path clip-path=\"url(#clip730)\" d=\"M93.9086 394.452 Q90.2975 394.452 88.4688 398.017 Q86.6632 401.558 86.6632 408.688 Q86.6632 415.794 88.4688 419.359 Q90.2975 422.901 93.9086 422.901 Q97.5428 422.901 99.3483 419.359 Q101.177 415.794 101.177 408.688 Q101.177 401.558 99.3483 398.017 Q97.5428 394.452 93.9086 394.452 M93.9086 390.748 Q99.7187 390.748 102.774 395.355 Q105.853 399.938 105.853 408.688 Q105.853 417.415 102.774 422.021 Q99.7187 426.605 93.9086 426.605 Q88.0984 426.605 85.0197 422.021 Q81.9642 417.415 81.9642 408.688 Q81.9642 399.938 85.0197 395.355 Q88.0984 390.748 93.9086 390.748 Z\" fill=\"#000000\" fill-rule=\"nonzero\" fill-opacity=\"1\" /><path clip-path=\"url(#clip730)\" d=\"M124.07 394.452 Q120.459 394.452 118.631 398.017 Q116.825 401.558 116.825 408.688 Q116.825 415.794 118.631 419.359 Q120.459 422.901 124.07 422.901 Q127.705 422.901 129.51 419.359 Q131.339 415.794 131.339 408.688 Q131.339 401.558 129.51 398.017 Q127.705 394.452 124.07 394.452 M124.07 390.748 Q129.881 390.748 132.936 395.355 Q136.015 399.938 136.015 408.688 Q136.015 417.415 132.936 422.021 Q129.881 426.605 124.07 426.605 Q118.26 426.605 115.182 422.021 Q112.126 417.415 112.126 408.688 Q112.126 399.938 115.182 395.355 Q118.26 390.748 124.07 390.748 Z\" fill=\"#000000\" fill-rule=\"nonzero\" fill-opacity=\"1\" /><path clip-path=\"url(#clip730)\" d=\"M66.5939 49.7598 L54.7884 68.2088 L66.5939 68.2088 L66.5939 49.7598 M65.367 45.6857 L71.2466 45.6857 L71.2466 68.2088 L76.1772 68.2088 L76.1772 72.0976 L71.2466 72.0976 L71.2466 80.2457 L66.5939 80.2457 L66.5939 72.0976 L50.9921 72.0976 L50.9921 67.5838 L65.367 45.6857 Z\" fill=\"#000000\" fill-rule=\"nonzero\" fill-opacity=\"1\" /><path clip-path=\"url(#clip730)\" d=\"M93.9086 48.7644 Q90.2975 48.7644 88.4688 52.3292 Q86.6632 55.8709 86.6632 63.0005 Q86.6632 70.1069 88.4688 73.6717 Q90.2975 77.2133 93.9086 77.2133 Q97.5428 77.2133 99.3483 73.6717 Q101.177 70.1069 101.177 63.0005 Q101.177 55.8709 99.3483 52.3292 Q97.5428 48.7644 93.9086 48.7644 M93.9086 45.0607 Q99.7187 45.0607 102.774 49.6672 Q105.853 54.2505 105.853 63.0005 Q105.853 71.7273 102.774 76.3337 Q99.7187 80.917 93.9086 80.917 Q88.0984 80.917 85.0197 76.3337 Q81.9642 71.7273 81.9642 63.0005 Q81.9642 54.2505 85.0197 49.6672 Q88.0984 45.0607 93.9086 45.0607 Z\" fill=\"#000000\" fill-rule=\"nonzero\" fill-opacity=\"1\" /><path clip-path=\"url(#clip730)\" d=\"M124.07 48.7644 Q120.459 48.7644 118.631 52.3292 Q116.825 55.8709 116.825 63.0005 Q116.825 70.1069 118.631 73.6717 Q120.459 77.2133 124.07 77.2133 Q127.705 77.2133 129.51 73.6717 Q131.339 70.1069 131.339 63.0005 Q131.339 55.8709 129.51 52.3292 Q127.705 48.7644 124.07 48.7644 M124.07 45.0607 Q129.881 45.0607 132.936 49.6672 Q136.015 54.2505 136.015 63.0005 Q136.015 71.7273 132.936 76.3337 Q129.881 80.917 124.07 80.917 Q118.26 80.917 115.182 76.3337 Q112.126 71.7273 112.126 63.0005 Q112.126 54.2505 115.182 49.6672 Q118.26 45.0607 124.07 45.0607 Z\" fill=\"#000000\" fill-rule=\"nonzero\" fill-opacity=\"1\" /><polyline clip-path=\"url(#clip732)\" style=\"stroke:#009af9; stroke-linecap:round; stroke-linejoin:round; stroke-width:4; stroke-opacity:1; fill:none\" points=\"233.734,1445.72 244.072,1445.71 254.41,1445.7 264.749,1445.64 275.087,1445.49 285.425,1445.27 295.763,1445.12 306.101,1445.17 316.44,1445.37 326.778,1445.57 337.116,1445.67 347.454,1445.71 357.792,1445.71 368.131,1445.72 378.469,1445.72 388.807,1445.72 399.145,1445.72 409.483,1445.72 419.822,1445.72 430.16,1445.72 440.498,1445.72 450.836,1445.72 461.174,1445.72 471.513,1445.72 481.851,1445.72 492.189,1445.72 502.527,1445.72 512.865,1445.72 523.204,1445.72 533.542,1445.72 543.88,1445.72 554.218,1445.72 564.556,1445.72 574.895,1445.72 585.233,1445.72 595.571,1445.72 605.909,1445.72 616.248,1445.72 626.586,1445.72 636.924,1445.72 647.262,1445.72 657.6,1445.72 667.939,1445.72 678.277,1445.72 688.615,1445.72 698.953,1445.72 709.291,1445.72 719.63,1445.72 729.968,1445.71 740.306,1445.68 750.644,1445.2 760.982,1440.69 771.321,1412.82 781.659,1299.41 791.997,1000.6 802.335,513.548 812.673,95.063 823.012,87.9763 833.35,499.192 843.688,989.69 854.026,1294.71 864.364,1411.57 874.703,1440.47 885.041,1445.17 895.379,1445.68 905.717,1445.71 916.055,1445.72 926.394,1445.72 936.732,1445.72 947.07,1445.72 957.408,1445.72 967.747,1445.72 978.085,1445.72 988.423,1445.72 998.761,1445.72 1009.1,1445.72 1019.44,1445.72 1029.78,1445.72 1040.11,1445.72 1050.45,1445.72 1060.79,1445.72 1071.13,1445.72 1081.47,1445.72 1091.8,1445.72 1102.14,1445.72 1112.48,1445.72 1122.82,1445.72 1133.16,1445.72 1143.5,1445.72 1153.83,1445.72 1164.17,1445.72 1174.51,1445.72 1184.85,1445.72 1195.19,1445.72 1205.53,1445.72 1215.86,1445.72 1226.2,1445.72 1236.54,1445.72 1246.88,1445.72 1257.22,1445.72 1267.55,1445.72 1277.89,1445.72 1288.23,1445.72 1298.57,1445.72 1308.91,1445.72 1319.25,1445.72 1329.58,1445.72 1339.92,1445.72 1350.26,1445.72 1360.6,1445.72 1370.94,1445.72 1381.27,1445.72 1391.61,1445.72 1401.95,1445.72 1412.29,1445.72 1422.63,1445.72 1432.97,1445.72 1443.3,1445.72 1453.64,1445.72 1463.98,1445.72 1474.32,1445.72 1484.66,1445.72 1494.99,1445.72 1505.33,1445.72 1515.67,1445.72 1526.01,1445.72 1536.35,1445.72 1546.69,1445.72 1557.02,1445.72 1567.36,1445.72 1577.7,1445.72 1588.04,1445.72 1598.38,1445.72 1608.72,1445.72 1619.05,1445.72 1629.39,1445.72 1639.73,1445.72 1650.07,1445.72 1660.41,1445.72 1670.74,1445.72 1681.08,1445.72 1691.42,1445.72 1701.76,1445.72 1712.1,1445.72 1722.44,1445.72 1732.77,1445.72 1743.11,1445.72 1753.45,1445.72 1763.79,1445.72 1774.13,1445.72 1784.46,1445.72 1794.8,1445.72 1805.14,1445.72 1815.48,1445.72 1825.82,1445.72 1836.16,1445.72 1846.49,1445.72 1856.83,1445.72 1867.17,1445.72 1877.51,1445.72 1887.85,1445.72 1898.19,1445.72 1908.52,1445.72 1918.86,1445.72 1929.2,1445.72 1939.54,1445.72 1949.88,1445.72 1960.21,1445.72 1970.55,1445.72 1980.89,1445.72 1991.23,1445.72 2001.57,1445.72 2011.91,1445.72 2022.24,1445.72 2032.58,1445.72 2042.92,1445.72 2053.26,1445.72 2063.6,1445.72 2073.93,1445.72 2084.27,1445.72 2094.61,1445.72 2104.95,1445.72 2115.29,1445.72 2125.63,1445.72 2135.96,1445.72 2146.3,1445.72 2156.64,1445.72 2166.98,1445.71 2177.32,1445.71 2187.65,1445.67 2197.99,1445.57 2208.33,1445.39 2218.67,1445.19 2229.01,1445.14 2239.35,1445.29 2249.68,1445.5 2260.02,1445.64 2270.36,1445.7 2280.7,1445.71 2291.04,1445.72 \"/>\n",
       "<path clip-path=\"url(#clip730)\" d=\"M2009.56 198.898 L2280.06 198.898 L2280.06 95.2176 L2009.56 95.2176  Z\" fill=\"#ffffff\" fill-rule=\"evenodd\" fill-opacity=\"1\"/>\n",
       "<polyline clip-path=\"url(#clip730)\" style=\"stroke:#000000; stroke-linecap:round; stroke-linejoin:round; stroke-width:4; stroke-opacity:1; fill:none\" points=\"2009.56,198.898 2280.06,198.898 2280.06,95.2176 2009.56,95.2176 2009.56,198.898 \"/>\n",
       "<polyline clip-path=\"url(#clip730)\" style=\"stroke:#009af9; stroke-linecap:round; stroke-linejoin:round; stroke-width:4; stroke-opacity:1; fill:none\" points=\"2033.79,147.058 2179.17,147.058 \"/>\n",
       "<path clip-path=\"url(#clip730)\" d=\"M2217.25 166.745 Q2215.44 171.375 2213.73 172.787 Q2212.01 174.199 2209.14 174.199 L2205.74 174.199 L2205.74 170.634 L2208.24 170.634 Q2210 170.634 2210.97 169.8 Q2211.95 168.967 2213.13 165.865 L2213.89 163.921 L2203.4 138.412 L2207.92 138.412 L2216.02 158.689 L2224.12 138.412 L2228.64 138.412 L2217.25 166.745 Z\" fill=\"#000000\" fill-rule=\"nonzero\" fill-opacity=\"1\" /><path clip-path=\"url(#clip730)\" d=\"M2235.93 160.402 L2243.57 160.402 L2243.57 134.037 L2235.26 135.703 L2235.26 131.444 L2243.52 129.778 L2248.2 129.778 L2248.2 160.402 L2255.83 160.402 L2255.83 164.338 L2235.93 164.338 L2235.93 160.402 Z\" fill=\"#000000\" fill-rule=\"nonzero\" fill-opacity=\"1\" /></svg>\n"
      ]
     },
     "metadata": {},
     "output_type": "display_data"
    }
   ],
   "source": [
    "density(ps[:,1], weights = ws)"
   ]
  }
 ],
 "metadata": {
  "kernelspec": {
   "display_name": "Julia 1.9.0",
   "language": "julia",
   "name": "julia-1.9"
  },
  "language_info": {
   "file_extension": ".jl",
   "mimetype": "application/julia",
   "name": "julia",
   "version": "1.9.0"
  },
  "orig_nbformat": 4
 },
 "nbformat": 4,
 "nbformat_minor": 2
}
