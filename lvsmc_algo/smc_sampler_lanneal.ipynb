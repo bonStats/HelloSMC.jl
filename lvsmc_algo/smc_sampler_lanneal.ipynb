{
 "cells": [
  {
   "attachments": {},
   "cell_type": "markdown",
   "metadata": {},
   "source": [
    "# Implementing an SMC Likelihood Annealing Sampler\n",
    "\n",
    "This notebook describes how to set up a SMC sampler from Algorithm 1. This SMC sampler assumes that the user will provide the set of temperatures used in likelihood annealing.\n",
    "\n",
    "$$\n",
    "\\pi_t(\\theta|y) \\propto f(y|\\theta)^{\\gamma_t}\\pi(\\theta) \\quad \\text{for } t=1,\\ldots,T,\n",
    "$$\n",
    "\n",
    "The user will specify the values $\\gamma = (0, ..., 1)$ that define the sequence, the likelihood $f(y|\\theta)$, prior $\\pi$. \n",
    "\n",
    "## The Algorithm\n",
    "\n",
    "Input: $\\gamma = (\\gamma_1=0,\\gamma_2,...,\\gamma_T=1)$ and random walk covariance $\\Sigma$, number of MCMC move steps $R$.\n",
    "\n",
    "1. Sample initial $\\xi^i_1\\sim \\pi_1(\\theta)$ and set $W_1^i = \\frac{1}{N}$ for $i\\in\\{1,...,N\\}$\n",
    "2. For each time t = 2, ..., T\n",
    "\n",
    "    (i) Calculate weights (Importance sampling)\n",
    "            $$\\tilde{w}_{t}^i = W_{t-1}^if(y|\\theta = \\xi^i_{t-1})^{\\gamma_t - \\gamma_{t-1}} \\qquad W_{t}^i = \\frac{\\tilde{w}_{t}^i}{\\sum_{j=1}^N\\tilde{w}_{t}^j},\n",
    "            $$\n",
    "            for $i=1,\\ldots,N.$\n",
    "\n",
    "    (ii)  Resample $A_t^i$ ~ Cat $(W_{t}^1,...,W_{t}^N)$ and set $W_t^i=1/N$ for $i\\in \\{1,...,N\\}$\n",
    "    \n",
    "    (iii) Diversify (MCMC) with $R$ RW proposals with covariance $\\Sigma$\n",
    "            $$\n",
    "            \\xi_{t}^i \\sim K_{\\pi_t}(\\cdot \\mid \\theta = \\xi_{t-1}^{A_{t}^i}) , \\quad \\text{  for  } i=1,\\ldots,N.\n",
    "            $$"
   ]
  },
  {
   "attachments": {},
   "cell_type": "markdown",
   "metadata": {},
   "source": [
    "### Coding utilities \n",
    "\n",
    "For numerical stability calculations will be done on the log scale - i.e. the user will specify the log likelihood and log prior. We also need the following function which will perform a numerically stable log sum of exponential numbers. We also need some necessary packages.\n"
   ]
  },
  {
   "cell_type": "code",
   "execution_count": null,
   "metadata": {},
   "outputs": [],
   "source": [
    "function logsumexp(x)\n",
    "    my_max = maximum(x)\n",
    "    x_new = x .- my_max\n",
    "    return my_max + log(sum(exp.(x_new)))\n",
    "end\n",
    "\n",
    "using Distributions, StatsBase, LinearAlgebra"
   ]
  },
  {
   "attachments": {},
   "cell_type": "markdown",
   "metadata": {},
   "source": [
    "### Coding the algorithm\n",
    "\n",
    "The user will specify a function to simulate from the prior, evaluate the log prior, log likelihood, the choice of $\\gamma$, $\\Sigma$ and $R$."
   ]
  },
  {
   "cell_type": "code",
   "execution_count": null,
   "metadata": {},
   "outputs": [],
   "source": [
    "function smc_sampler_lanneal(N, simprior, logprior, loglike; γ = range(0, stop=1, length=15).^5, Σ = nothing, R=20)\n",
    "\n",
    "    # Sample initial from prior and set weights\n",
    "    ξ = simprior(N)\n",
    "    log_W = -log(N)*ones(N)\n",
    "\n",
    "    d = size(ξ, 2) # Get dimension of θ\n",
    "\n",
    "    # If RW sigma is not specified use a default\n",
    "    if isnothing(Σ)\n",
    "        Σ = cov(ξ)\n",
    "    end\n",
    "\n",
    "    loglike_curr = fill(NaN, N)\n",
    "    logprior_curr = fill(NaN, N)\n",
    "    for i in 1:N\n",
    "        loglike_curr[i] = loglike(ξ[i, :])\n",
    "        logprior_curr[i] = logprior(ξ[i, :])\n",
    "    end\n",
    "  \n",
    "    for t in 2:length(γ)\n",
    "\n",
    "        # Calcuate (log) weights w and normalised weights W\n",
    "        log_w = log_W .+ (γ[t] - γ[t-1]) .* loglike_curr\n",
    "        log_W .= log_w .- logsumexp(log_w) \n",
    "        \n",
    "        # Resample the particles and reset the weights to 1/N\n",
    "        inds = sample(1:N, Weights(exp.(log_W)), N) # Multinomial\n",
    "\n",
    "        ξ = ξ[inds, :]\n",
    "        loglike_curr = loglike_curr[inds]\n",
    "        logprior_curr = logprior_curr[inds]\n",
    "\n",
    "        log_W = -log(N)*ones(N)\n",
    "    \n",
    "        # MCMC Diversify step\n",
    "        for i in 1:N\n",
    "            for k in 1:R\n",
    "                ξ_prop = rand(MvNormal(ξ[i, :], Σ))\n",
    "                loglike_prop = loglike(ξ_prop)\n",
    "                logprior_prop = logprior(ξ_prop)\n",
    "                log_rmh = γ[t] * (loglike_prop - loglike_curr[i]) + logprior_prop - logprior_curr[i]\n",
    "\n",
    "                # Accept the proposal with probability RMH\n",
    "                if rand() < exp(log_rmh)\n",
    "                    ξ[i, :] = ξ_prop\n",
    "                    loglike_curr[i] = loglike_prop\n",
    "                    logprior_curr[i] = logprior_prop\n",
    "                end\n",
    "            end\n",
    "        end\n",
    "        println(\"Current γ = \",γ[t])\n",
    "        println(\"Unique particles: \",length(unique(ξ[:, 1])))\n",
    "    end\n",
    "    return ξ\n",
    "end"
   ]
  },
  {
   "attachments": {},
   "cell_type": "markdown",
   "metadata": {},
   "source": [
    "**NOTE**: this code is also replicated in the `smc_sampler_lanneal.jl`\n",
    "\n",
    "## Exercises\n",
    "\n",
    "Some exercises for solidifying knowledge:\n",
    "\n",
    "1. Adjust the code to implement the adaptive version of the sampler: **Continue reading this document for a primer** \n",
    "2. Read and implement the adaptive SMC sampler for the predator-prey model: `lv_smc_example.ipynb`\n",
    "3. Try running the SMC sampler using the package SequentialMonteCarlo.jl, see the `lvsmc` folder\n",
    "\n",
    "## Adaptive version primer\n",
    "\n",
    "### Algorithm\n",
    "\n",
    "Input: Number MCMC steps $R$.\n",
    "\n",
    "1. Draw $\\xi_1^i \\sim \\pi_1(\\theta)$ for $i=1,\\ldots,N$. \n",
    "2. While $\\gamma_t \\neq 1$\n",
    "    - (i) If ESS($\\gamma = 1)>N/2$ set $\\gamma_{t} = 1$ otherwise find $\\gamma_{t}$ such that ESS($\\gamma$) $\\approx N/2$.\n",
    "    - (ii) Calculate weights \n",
    "        $$\n",
    "        \\tilde{w}_{t}^i = W_{t-1}^if(y|\\theta)^{\\gamma_t - \\gamma_{t-1}} \\qquad W_{t}^i = \\frac{\\tilde{w}_{t}^i}{\\sum_{j=1}^N\\tilde{w}_{t}^j}, \\text{  for  } i=1,\\ldots,N.\n",
    "        $$\n",
    "    - (iii) Resample $A_t^i$~Cat $(W_{t}^1,...,W_{t}^N)$ and set $W_t^i=1/N$ for $i\\in \\{1,...,N\\}$\n",
    "    - (iv) Compute $\\hat{\\Sigma}$ as the sample covariance of the particles $\\{\\xi^{A_t^i}_{t-1}\\}_{i=1}^N$.\n",
    "    - (v) Diversify using $R$ MCMC iterations with proposal covariance $\\hat{\\Sigma}$\n",
    "        $$\n",
    "        \\xi_{t}^i \\sim K_t(\\theta_t \\mid \\theta_{t-1} = \\xi_{t-1}^{A_{t}^i}) , \\text{  for  } i=1,\\ldots,N.\n",
    "        $$\n"
   ]
  },
  {
   "attachments": {},
   "cell_type": "markdown",
   "metadata": {},
   "source": [
    "### Create some utility functions\n",
    "\n",
    "Recall the weights for target $t$ are given by\n",
    "\\begin{align*}\n",
    "W_t^i \\propto f(y|\\theta = \\xi_{t-1}^i)^{\\gamma_t - \\gamma_{t-1}}\n",
    "\\end{align*}\n",
    "We know that ESS = $1/\\sum_{i=1}^N (W_t^i)^2$.  \n",
    "\n",
    "Create a function compute_ess_diff that returns $\\text{ESS}(\\gamma_t) - N/2$ given $\\gamma_{t-1}$ and the log_like values of the particles $\\xi_{t-1}^i$. \n"
   ]
  },
  {
   "cell_type": "code",
   "execution_count": null,
   "metadata": {},
   "outputs": [],
   "source": [
    "# Illustration purpose only\n",
    "function compute_ess_diff(γ, γ_old, loglike_curr)\n",
    "    N = length(log_like)\n",
    "    log_propto_W = ...\n",
    "    log_propto_W = ... # Normalising step\n",
    "    return exp(-logsumexp(2.0 * log_propto_W)) - N /2\n",
    "end"
   ]
  },
  {
   "attachments": {},
   "cell_type": "markdown",
   "metadata": {},
   "source": [
    "Once this is defined, you may also need the Roots package to use the bisection method. "
   ]
  },
  {
   "cell_type": "code",
   "execution_count": null,
   "metadata": {},
   "outputs": [],
   "source": [
    "# Illustration \n",
    "fn = x -> compute_ess_diff(x, γ_old, loglike_curr) # Define as a function of γ\n",
    "γ = find_zero(fn, (γ_old, 1.0)) # Find the γ which is the root of fn"
   ]
  },
  {
   "attachments": {},
   "cell_type": "markdown",
   "metadata": {},
   "source": [
    "The solution may be found in the `smc_sampler_lanneal_adaptive.jl` file. "
   ]
  }
 ],
 "metadata": {
  "kernelspec": {
   "display_name": "Julia 1.8.5",
   "language": "julia",
   "name": "julia-1.8"
  },
  "language_info": {
   "file_extension": ".jl",
   "mimetype": "application/julia",
   "name": "julia",
   "version": "1.8.5"
  },
  "orig_nbformat": 4
 },
 "nbformat": 4,
 "nbformat_minor": 2
}
