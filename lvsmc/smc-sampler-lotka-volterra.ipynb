{
 "cells": [
  {
   "attachments": {},
   "cell_type": "markdown",
   "metadata": {},
   "source": [
    "This notebook shows a basic example of the adaptive resample-move algorithm for sampling from a static Bayesian posterior distribution. It uses the SequentialMonteCarlo.jl package for the SMC implementation.\n",
    "\n",
    "## The Lotka-Volterra model\n",
    "\n",
    "This example follows a simple analysis of the Lotka Volterra model for predator and prey populations where the measurement error for the data is assumed to be Gaussian.\n",
    "\n",
    "$X_{1,t}$ the population of the prey, $X_{2,t}$ the population of the predator at time $t$. These evolve according to:\n",
    "\n",
    "$$\n",
    "\\frac{dx_1}{dt} = (\\alpha -\\beta x_2 )x_1 \\qquad\n",
    "\\frac{dx_2}{dt} = (\\beta x_1 - \\gamma )x_2     \n",
    "$$\n",
    "\n",
    "Observe a noisy measurement at times $t=0, 2, ..., 50$. \n",
    "$$\n",
    "Y_{1,t} \\sim \\mathcal{N}(X_{1,t}, \\sigma^2), \\qquad Y_{2,t} \\sim \\mathcal{N}(X_{2,t}, \\sigma^2)\n",
    "$$\n",
    "\n",
    "We implement this model and simulate data with parameters $\\alpha=0.3$, $\\beta = 0.04$, $\\gamma=0.5$ and $\\sigma = 1$."
   ]
  },
  {
   "cell_type": "code",
   "execution_count": null,
   "metadata": {},
   "outputs": [],
   "source": [
    "using SequentialMonteCarlo\n",
    "using Distributions\n",
    "using DifferentialEquations\n",
    "using DelimitedFiles\n",
    "using Statistics\n",
    "using Plots\n",
    "using LinearAlgebra\n",
    "using StatsBase\n",
    "using StatsPlots"
   ]
  },
  {
   "attachments": {},
   "cell_type": "markdown",
   "metadata": {},
   "source": [
    "Load in the data and define the sequence of observation times."
   ]
  },
  {
   "cell_type": "code",
   "execution_count": null,
   "metadata": {},
   "outputs": [],
   "source": [
    "y_full = readdlm(\"prey_pred2.csv\", ',', Float64)\n",
    "n_y = size(y_full,2) - 1 # exclude initial value\n",
    "ts = 2*(1.0:1.0:n_y) # times steps for data"
   ]
  },
  {
   "attachments": {},
   "cell_type": "markdown",
   "metadata": {},
   "source": [
    "SequentialMonteCarlo.jl is a flexible package for designing SMC algorithms. It has three major components:\n",
    "- Particle structure\n",
    "- Mutation function (includes initial distribution)\n",
    "- Potential function (log-scale)\n",
    "\n",
    "The first step is to define the type of particle the algorithm will manipulate."
   ]
  },
  {
   "cell_type": "code",
   "execution_count": null,
   "metadata": {},
   "outputs": [],
   "source": [
    "# particle\n",
    "mutable struct LVParamParticle\n",
    "    α::Float64 \n",
    "    β::Float64 \n",
    "    γ::Float64\n",
    "    σ::Float64\n",
    "    LVParamParticle() = new() # initialise empty\n",
    "end\n",
    "\n",
    "Base.vec(p::LVParamParticle) = [p.α, p.β, p.γ, p.σ]\n"
   ]
  },
  {
   "attachments": {},
   "cell_type": "markdown",
   "metadata": {},
   "source": [
    "Define the prior distribution and a function for evaluating the log-density."
   ]
  },
  {
   "cell_type": "code",
   "execution_count": null,
   "metadata": {},
   "outputs": [],
   "source": [
    "# Prior on θ = [α, β, γ, σ]\n",
    "priors = product_distribution([Uniform(0., 1), Uniform(0,0.1), Uniform(0, 1), Uniform(0.1, 7)])\n",
    "\n",
    "function log_prior(θ::Vector{Float64})\n",
    "    # Prior distributions.\n",
    "    return sum(logpdf.(priors, θ))\n",
    "end"
   ]
  },
  {
   "attachments": {},
   "cell_type": "markdown",
   "metadata": {},
   "source": [
    "Define the Lotka-Volterra ODE model underlying data process (prior to the observation noise)."
   ]
  },
  {
   "cell_type": "code",
   "execution_count": null,
   "metadata": {},
   "outputs": [],
   "source": [
    "# Define Lotka-Volterra model.\n",
    "function lotka_volterra(du, u, p, t)\n",
    "    # Model parameters.\n",
    "    α, β, γ = p\n",
    "    # Current state.\n",
    "    x, y = u\n",
    "\n",
    "    # Evaluate differential equations.\n",
    "    du[1] = (α - β * y) * x # prey\n",
    "    du[2] = (β * x - γ) * y # predator\n",
    "\n",
    "    return nothing\n",
    "end\n",
    "\n",
    "\n",
    "# Define initial-value problem.\n",
    "u0 = y_full[:,1]\n",
    "p_true = [0.5, 0.0025, 0.3, 1.]\n",
    "tspan = (0.0, 50.0)\n",
    "prob = ODEProblem(lotka_volterra, u0, tspan, p_true[1:3])\n"
   ]
  },
  {
   "attachments": {},
   "cell_type": "markdown",
   "metadata": {},
   "source": [
    "Define the log-likelihood for the posterior. This uses the forward process with multivariate normal observation noise."
   ]
  },
  {
   "cell_type": "code",
   "execution_count": null,
   "metadata": {},
   "outputs": [],
   "source": [
    "y = y_full[:,2:end]\n",
    "temps = 0.8 .^ (12:-1:0)\n",
    "n = length(temps) - 1\n",
    "\n",
    "function log_like(θ::Vector{Float64})\n",
    "    p = θ[1:3]\n",
    "    σ = θ[4]\n",
    "    # Simulate Lotka-Volterra model. \n",
    "    predicted = solve(prob; p=p, saveat = ts, verbose=false)\n",
    "\n",
    "    if !SciMLBase.successful_retcode(predicted.retcode)\n",
    "        #println(p)\n",
    "        return -Inf\n",
    "    end\n",
    "\n",
    "    # Add up the log likelihood\n",
    "    log_likelihood = 0.0\n",
    "    for i in eachindex(predicted)\n",
    "        like_dist = MvNormal(predicted[:,i], σ^2 * I)\n",
    "        log_likelihood += logpdf(like_dist, y[:,i])\n",
    "    end\n",
    "    return log_likelihood\n",
    "end"
   ]
  },
  {
   "attachments": {},
   "cell_type": "markdown",
   "metadata": {},
   "source": [
    "Define a proposal distributions for the MCMC kernel. The function takes input as the current particle location and outputs a multivariate normal distribution to draw a sample from."
   ]
  },
  {
   "cell_type": "code",
   "execution_count": null,
   "metadata": {},
   "outputs": [],
   "source": [
    "\n",
    "function proposal(currθ::Vector{Float64})\n",
    "    return MvNormal(currθ, 0.25^2 * I)\n",
    "end"
   ]
  },
  {
   "attachments": {},
   "cell_type": "markdown",
   "metadata": {},
   "source": [
    "Define the MCMC kernel itself, which uses the above proposal. It is a random-walk Metropolis-Hastings kernel."
   ]
  },
  {
   "cell_type": "code",
   "execution_count": null,
   "metadata": {},
   "outputs": [],
   "source": [
    "# Metropolis-Hastings Kernel with Random Walk proposal\n",
    "# Posterior = prior(θ) * likelihood(θ)ᵝ\n",
    "function mh(rng, currθ::Vector{Float64}, propθ::Vector{Float64}, β::Float64)\n",
    "    lp_curr = logpdf(priors, currθ) + β * log_like(currθ)\n",
    "    lp_prop = logpdf(priors, propθ) + β * log_like(propθ)\n",
    "    if lp_prop - lp_curr > log(rand(rng))\n",
    "        return propθ\n",
    "    else\n",
    "        return currθ\n",
    "    end\n",
    "end"
   ]
  },
  {
   "attachments": {},
   "cell_type": "markdown",
   "metadata": {},
   "source": [
    "Here we define the (initial distribution and) mutation kernel for the SMC algorithm. Time $t=1$ indicates the initial distribution, whilst $t>1$ are the mutation steps."
   ]
  },
  {
   "cell_type": "code",
   "execution_count": null,
   "metadata": {},
   "outputs": [],
   "source": [
    "# mutation kernel\n",
    "function M!(new::LVParamParticle, rng, t::Int64, old::LVParamParticle, ::Nothing)\n",
    "    if t == 1\n",
    "        θ = rand(rng, priors)\n",
    "    else\n",
    "        # proposal\n",
    "        propθ = rand(rng, proposal(vec(old)))\n",
    "        θ = mh(rng, vec(old), propθ, temps[t])\n",
    "    end\n",
    "\n",
    "    new.α, new.β, new.γ, new.σ = θ\n",
    "\n",
    "end"
   ]
  },
  {
   "attachments": {},
   "cell_type": "markdown",
   "metadata": {},
   "source": [
    "Lastly, we define the potential function (on the log-scale). Since we are annealing from the prior distribution we only considered the incremental change in the log-likelihood. "
   ]
  },
  {
   "cell_type": "code",
   "execution_count": null,
   "metadata": {},
   "outputs": [],
   "source": [
    "\n",
    "# potential function\n",
    "function lG(t::Int64, particle::LVParamParticle, ::Nothing)\n",
    "    β_incr = temps[t+1] - temps[t]\n",
    "    return β_incr * log_like(vec(particle))\n",
    "end"
   ]
  },
  {
   "attachments": {},
   "cell_type": "markdown",
   "metadata": {},
   "source": [
    "Now we set some algorithmic parameters for the SMC run."
   ]
  },
  {
   "cell_type": "code",
   "execution_count": null,
   "metadata": {},
   "outputs": [],
   "source": [
    "\n",
    "N = 2^10        # number of particles\n",
    "threads = 1     # number of threads\n",
    "κ = 0.5         # relative ESS threshold\n",
    "saveall = true  # save full trajectory \n"
   ]
  },
  {
   "attachments": {},
   "cell_type": "markdown",
   "metadata": {},
   "source": [
    "Finally, define the model for our SMC algorithm..."
   ]
  },
  {
   "cell_type": "code",
   "execution_count": null,
   "metadata": {},
   "outputs": [],
   "source": [
    "model = SMCModel(M!, lG, n, LVParamParticle, Nothing)"
   ]
  },
  {
   "attachments": {},
   "cell_type": "markdown",
   "metadata": {},
   "source": [
    "... and space to save the output."
   ]
  },
  {
   "cell_type": "code",
   "execution_count": null,
   "metadata": {},
   "outputs": [],
   "source": [
    "smcio = SMCIO{model.particle, model.pScratch}(N, n, threads, saveall, κ)\n",
    "smcio.N"
   ]
  },
  {
   "attachments": {},
   "cell_type": "markdown",
   "metadata": {},
   "source": [
    "Finally, we can run the SMC algorithm with our settings."
   ]
  },
  {
   "cell_type": "code",
   "execution_count": null,
   "metadata": {},
   "outputs": [],
   "source": [
    "smc!(model, smcio)"
   ]
  },
  {
   "attachments": {},
   "cell_type": "markdown",
   "metadata": {},
   "source": [
    "We can extract the terminal particles as a matrix and calculate the mean and variance."
   ]
  },
  {
   "cell_type": "code",
   "execution_count": null,
   "metadata": {},
   "outputs": [],
   "source": [
    "\n",
    "ps = Matrix(hcat(vec.(smcio.zetas)...)')\n",
    "ws = Weights(smcio.ws)\n",
    "\n",
    "# mean and cov\n",
    "μ = mean(ps, ws, dims = 1)\n",
    "Σ = cov(ps, ws)"
   ]
  },
  {
   "attachments": {},
   "cell_type": "markdown",
   "metadata": {},
   "source": [
    "And there is functionality in SequentialMonteCarlo.jl to do this automatically."
   ]
  },
  {
   "cell_type": "code",
   "execution_count": null,
   "metadata": {},
   "outputs": [],
   "source": [
    "SequentialMonteCarlo.eta(smcio, p -> vec(p), true, n)"
   ]
  },
  {
   "attachments": {},
   "cell_type": "markdown",
   "metadata": {},
   "source": [
    "We can look at density plots too"
   ]
  },
  {
   "cell_type": "code",
   "execution_count": null,
   "metadata": {},
   "outputs": [],
   "source": [
    "density(ps[:,1], weights = ws)"
   ]
  }
 ],
 "metadata": {
  "kernelspec": {
   "display_name": "Julia 1.9.0",
   "language": "julia",
   "name": "julia-1.9"
  },
  "language_info": {
   "file_extension": ".jl",
   "mimetype": "application/julia",
   "name": "julia",
   "version": "1.9.0"
  },
  "orig_nbformat": 4
 },
 "nbformat": 4,
 "nbformat_minor": 2
}
